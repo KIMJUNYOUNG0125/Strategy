{
 "cells": [
  {
   "cell_type": "code",
   "execution_count": 1,
   "metadata": {},
   "outputs": [],
   "source": [
    "%matplotlib inline\n",
    "import pandas as pd\n",
    "import numpy as np\n",
    "import sqlite3\n",
    "import preprocesser\n",
    "import drawing_chart\n",
    "import plotly.offline as offline\n",
    "import datetime"
   ]
  },
  {
   "cell_type": "code",
   "execution_count": 2,
   "metadata": {},
   "outputs": [],
   "source": [
    "#시세데이터 뽑기\n",
    "def query_ohlcv(shcode, fr = '20190101',to = '20190927'):\n",
    "    conn = sqlite3.connect(\"t1305_1.db\")\n",
    "    cur = conn.cursor()\n",
    "    query = \"select 일자, 시가, 고가, 저가, 종가, 누적거래량 \\\n",
    "            from 종목별체결조회 \\\n",
    "            where 1=1 \\\n",
    "            and 일자 between '%s' and '%s' \\\n",
    "            and 종목코드 = '%s' \\\n",
    "            and 일주월구분 = '%s' ;\" % (fr,to,shcode,'1')\n",
    "    cur.execute(query)\n",
    "    query_result = cur.fetchall()\n",
    "    fin_result = pd.DataFrame(query_result, columns = ['date', 'open', 'high', 'low', 'close', 'volume'])\n",
    "    daily = fin_result.sort_values(by = ['date']).reset_index(drop = True)\n",
    "    conn.close()\n",
    "    return daily"
   ]
  },
  {
   "cell_type": "code",
   "execution_count": 3,
   "metadata": {},
   "outputs": [
    {
     "name": "stderr",
     "output_type": "stream",
     "text": [
      "C:\\ProgramData\\Anaconda3\\envs\\py36_32\\lib\\site-packages\\pandas\\core\\frame.py:6692: FutureWarning:\n",
      "\n",
      "Sorting because non-concatenation axis is not aligned. A future version\n",
      "of pandas will change to not sort by default.\n",
      "\n",
      "To accept the future behavior, pass 'sort=False'.\n",
      "\n",
      "To retain the current behavior and silence the warning, pass 'sort=True'.\n",
      "\n",
      "\n"
     ]
    }
   ],
   "source": [
    "#종목코드열람\n",
    "conn = sqlite3.connect(\"t8430.db\")\n",
    "cur = conn.cursor()\n",
    "query = \"select distinct 종목명, 종목코드 \\\n",
    "        from 종목코드 ;\"\n",
    "        #where 종목코드 = '%s'; \" % '000020'\n",
    "cur.execute(query)\n",
    "rows = cur.fetchall()\n",
    "shcode_list = pd.DataFrame(rows, columns = ['shname', 'shcode'])\n",
    "conn.close()\n",
    "\n",
    "#1.데이터 index추출\n",
    "daily = query_ohlcv(shcode_list['shcode'].iloc[0])\n",
    "date = daily['date']\n",
    "#2.target from csv\n",
    "df = pd.read_csv(\"high_ratio_0.15_volume_money_30000000000.csv\", dtype ={'shcode':str})\n",
    "#3. target index 추출\n",
    "fin_result = pd.DataFrame([],columns = ['interval_init','target_day','interval_end','shcode'])\n",
    "\n",
    "for i,v in df['index'].items():\n",
    "    shcode = df['shcode'].iloc[i].zfill(6)\n",
    "    target_index = v.split(\" \")\n",
    "    target_day_list = pd.to_datetime(date.iloc[target_index], format = \"%Y-%m-%d\")\n",
    "    \n",
    "    #interval calculate before 4 weeks , after 2 weeks\n",
    "    interval_init_timestamp = target_day_list - datetime.timedelta(weeks=8)\n",
    "    interval_start_timestamp = target_day_list - datetime.timedelta(weeks=4)\n",
    "    interval_end_timestamp = target_day_list + datetime.timedelta(weeks=2)\n",
    "    \n",
    "    # make df using series(datetime to str)\n",
    "    result = pd.DataFrame(dict(interval_init = interval_init_timestamp.dt.strftime(\"%Y%m%d\"),\n",
    "                               interval_start = interval_start_timestamp.dt.strftime(\"%Y%m%d\"),\n",
    "                               target_day = target_day_list.dt.strftime(\"%Y%m%d\"),\n",
    "                               interval_end = interval_end_timestamp.dt.strftime(\"%Y%m%d\"))).reset_index()\n",
    "    \n",
    "    del result['index']\n",
    "    result['shcode'] = shcode\n",
    "    \n",
    "    fin_result = fin_result.append(result)"
   ]
  },
  {
   "cell_type": "code",
   "execution_count": 4,
   "metadata": {
    "scrolled": true
   },
   "outputs": [
    {
     "data": {
      "text/html": [
       "<div>\n",
       "<style scoped>\n",
       "    .dataframe tbody tr th:only-of-type {\n",
       "        vertical-align: middle;\n",
       "    }\n",
       "\n",
       "    .dataframe tbody tr th {\n",
       "        vertical-align: top;\n",
       "    }\n",
       "\n",
       "    .dataframe thead th {\n",
       "        text-align: right;\n",
       "    }\n",
       "</style>\n",
       "<table border=\"1\" class=\"dataframe\">\n",
       "  <thead>\n",
       "    <tr style=\"text-align: right;\">\n",
       "      <th></th>\n",
       "      <th>interval_end</th>\n",
       "      <th>interval_init</th>\n",
       "      <th>interval_start</th>\n",
       "      <th>shcode</th>\n",
       "      <th>target_day</th>\n",
       "    </tr>\n",
       "  </thead>\n",
       "  <tbody>\n",
       "    <tr>\n",
       "      <th>0</th>\n",
       "      <td>20190812</td>\n",
       "      <td>20190603</td>\n",
       "      <td>20190701</td>\n",
       "      <td>000140</td>\n",
       "      <td>20190729</td>\n",
       "    </tr>\n",
       "    <tr>\n",
       "      <th>0</th>\n",
       "      <td>20190529</td>\n",
       "      <td>20190320</td>\n",
       "      <td>20190417</td>\n",
       "      <td>000890</td>\n",
       "      <td>20190515</td>\n",
       "    </tr>\n",
       "    <tr>\n",
       "      <th>0</th>\n",
       "      <td>20190327</td>\n",
       "      <td>20190116</td>\n",
       "      <td>20190213</td>\n",
       "      <td>001140</td>\n",
       "      <td>20190313</td>\n",
       "    </tr>\n",
       "    <tr>\n",
       "      <th>0</th>\n",
       "      <td>20191001</td>\n",
       "      <td>20190723</td>\n",
       "      <td>20190820</td>\n",
       "      <td>001340</td>\n",
       "      <td>20190917</td>\n",
       "    </tr>\n",
       "    <tr>\n",
       "      <th>0</th>\n",
       "      <td>20190522</td>\n",
       "      <td>20190313</td>\n",
       "      <td>20190410</td>\n",
       "      <td>001550</td>\n",
       "      <td>20190508</td>\n",
       "    </tr>\n",
       "  </tbody>\n",
       "</table>\n",
       "</div>"
      ],
      "text/plain": [
       "  interval_end interval_init interval_start  shcode target_day\n",
       "0     20190812      20190603       20190701  000140   20190729\n",
       "0     20190529      20190320       20190417  000890   20190515\n",
       "0     20190327      20190116       20190213  001140   20190313\n",
       "0     20191001      20190723       20190820  001340   20190917\n",
       "0     20190522      20190313       20190410  001550   20190508"
      ]
     },
     "execution_count": 4,
     "metadata": {},
     "output_type": "execute_result"
    }
   ],
   "source": [
    "fin_result.head()"
   ]
  },
  {
   "cell_type": "code",
   "execution_count": 5,
   "metadata": {},
   "outputs": [],
   "source": [
    "fin_result['target_m'] = fin_result['target_day'].str.slice(stop = 6)\n",
    "fin_result = pd.merge(fin_result, shcode_list, how = 'inner', on = 'shcode')"
   ]
  },
  {
   "cell_type": "code",
   "execution_count": 6,
   "metadata": {},
   "outputs": [
    {
     "data": {
      "text/plain": [
       "shcode\n",
       "014580    6\n",
       "250060    4\n",
       "044960    4\n",
       "093380    4\n",
       "900340    3\n",
       "Name: target_day, dtype: int64"
      ]
     },
     "execution_count": 6,
     "metadata": {},
     "output_type": "execute_result"
    }
   ],
   "source": [
    "fin_result.groupby(['shcode'])['target_day'].count().sort_values(ascending = False).head()"
   ]
  },
  {
   "cell_type": "code",
   "execution_count": 7,
   "metadata": {},
   "outputs": [
    {
     "data": {
      "text/html": [
       "<div>\n",
       "<style scoped>\n",
       "    .dataframe tbody tr th:only-of-type {\n",
       "        vertical-align: middle;\n",
       "    }\n",
       "\n",
       "    .dataframe tbody tr th {\n",
       "        vertical-align: top;\n",
       "    }\n",
       "\n",
       "    .dataframe thead th {\n",
       "        text-align: right;\n",
       "    }\n",
       "</style>\n",
       "<table border=\"1\" class=\"dataframe\">\n",
       "  <thead>\n",
       "    <tr style=\"text-align: right;\">\n",
       "      <th></th>\n",
       "      <th>interval_end</th>\n",
       "      <th>interval_init</th>\n",
       "      <th>interval_start</th>\n",
       "      <th>shcode</th>\n",
       "      <th>target_day</th>\n",
       "      <th>target_m</th>\n",
       "      <th>shname</th>\n",
       "    </tr>\n",
       "  </thead>\n",
       "  <tbody>\n",
       "    <tr>\n",
       "      <th>85</th>\n",
       "      <td>20190614</td>\n",
       "      <td>20190405</td>\n",
       "      <td>20190503</td>\n",
       "      <td>014580</td>\n",
       "      <td>20190531</td>\n",
       "      <td>201905</td>\n",
       "      <td>백광소재</td>\n",
       "    </tr>\n",
       "    <tr>\n",
       "      <th>86</th>\n",
       "      <td>20190618</td>\n",
       "      <td>20190409</td>\n",
       "      <td>20190507</td>\n",
       "      <td>014580</td>\n",
       "      <td>20190604</td>\n",
       "      <td>201906</td>\n",
       "      <td>백광소재</td>\n",
       "    </tr>\n",
       "    <tr>\n",
       "      <th>87</th>\n",
       "      <td>20190621</td>\n",
       "      <td>20190412</td>\n",
       "      <td>20190510</td>\n",
       "      <td>014580</td>\n",
       "      <td>20190607</td>\n",
       "      <td>201906</td>\n",
       "      <td>백광소재</td>\n",
       "    </tr>\n",
       "    <tr>\n",
       "      <th>88</th>\n",
       "      <td>20190823</td>\n",
       "      <td>20190614</td>\n",
       "      <td>20190712</td>\n",
       "      <td>014580</td>\n",
       "      <td>20190809</td>\n",
       "      <td>201908</td>\n",
       "      <td>백광소재</td>\n",
       "    </tr>\n",
       "    <tr>\n",
       "      <th>89</th>\n",
       "      <td>20191002</td>\n",
       "      <td>20190724</td>\n",
       "      <td>20190821</td>\n",
       "      <td>014580</td>\n",
       "      <td>20190918</td>\n",
       "      <td>201909</td>\n",
       "      <td>백광소재</td>\n",
       "    </tr>\n",
       "    <tr>\n",
       "      <th>90</th>\n",
       "      <td>20191004</td>\n",
       "      <td>20190726</td>\n",
       "      <td>20190823</td>\n",
       "      <td>014580</td>\n",
       "      <td>20190920</td>\n",
       "      <td>201909</td>\n",
       "      <td>백광소재</td>\n",
       "    </tr>\n",
       "  </tbody>\n",
       "</table>\n",
       "</div>"
      ],
      "text/plain": [
       "   interval_end interval_init interval_start  shcode target_day target_m  \\\n",
       "85     20190614      20190405       20190503  014580   20190531   201905   \n",
       "86     20190618      20190409       20190507  014580   20190604   201906   \n",
       "87     20190621      20190412       20190510  014580   20190607   201906   \n",
       "88     20190823      20190614       20190712  014580   20190809   201908   \n",
       "89     20191002      20190724       20190821  014580   20190918   201909   \n",
       "90     20191004      20190726       20190823  014580   20190920   201909   \n",
       "\n",
       "   shname  \n",
       "85   백광소재  \n",
       "86   백광소재  \n",
       "87   백광소재  \n",
       "88   백광소재  \n",
       "89   백광소재  \n",
       "90   백광소재  "
      ]
     },
     "execution_count": 7,
     "metadata": {},
     "output_type": "execute_result"
    }
   ],
   "source": [
    "fin_result.groupby(['shcode','target_m']).filter(lambda x : (x['shcode'] == '014580').any())"
   ]
  },
  {
   "cell_type": "code",
   "execution_count": 8,
   "metadata": {},
   "outputs": [
    {
     "data": {
      "text/plain": [
       "Index(['shname', 'shcode'], dtype='object')"
      ]
     },
     "execution_count": 8,
     "metadata": {},
     "output_type": "execute_result"
    }
   ],
   "source": [
    "shcode_list.columns"
   ]
  },
  {
   "cell_type": "code",
   "execution_count": 9,
   "metadata": {},
   "outputs": [
    {
     "data": {
      "text/html": [
       "<div>\n",
       "<style scoped>\n",
       "    .dataframe tbody tr th:only-of-type {\n",
       "        vertical-align: middle;\n",
       "    }\n",
       "\n",
       "    .dataframe tbody tr th {\n",
       "        vertical-align: top;\n",
       "    }\n",
       "\n",
       "    .dataframe thead th {\n",
       "        text-align: right;\n",
       "    }\n",
       "</style>\n",
       "<table border=\"1\" class=\"dataframe\">\n",
       "  <thead>\n",
       "    <tr style=\"text-align: right;\">\n",
       "      <th></th>\n",
       "      <th>interval_end</th>\n",
       "      <th>interval_init</th>\n",
       "      <th>interval_start</th>\n",
       "      <th>shcode</th>\n",
       "      <th>target_day</th>\n",
       "      <th>target_m</th>\n",
       "      <th>shname</th>\n",
       "    </tr>\n",
       "  </thead>\n",
       "  <tbody>\n",
       "    <tr>\n",
       "      <th>0</th>\n",
       "      <td>20190812</td>\n",
       "      <td>20190603</td>\n",
       "      <td>20190701</td>\n",
       "      <td>000140</td>\n",
       "      <td>20190729</td>\n",
       "      <td>201907</td>\n",
       "      <td>하이트진로홀딩스</td>\n",
       "    </tr>\n",
       "    <tr>\n",
       "      <th>1</th>\n",
       "      <td>20190529</td>\n",
       "      <td>20190320</td>\n",
       "      <td>20190417</td>\n",
       "      <td>000890</td>\n",
       "      <td>20190515</td>\n",
       "      <td>201905</td>\n",
       "      <td>보해양조</td>\n",
       "    </tr>\n",
       "    <tr>\n",
       "      <th>2</th>\n",
       "      <td>20190327</td>\n",
       "      <td>20190116</td>\n",
       "      <td>20190213</td>\n",
       "      <td>001140</td>\n",
       "      <td>20190313</td>\n",
       "      <td>201903</td>\n",
       "      <td>카리스국보</td>\n",
       "    </tr>\n",
       "    <tr>\n",
       "      <th>3</th>\n",
       "      <td>20191001</td>\n",
       "      <td>20190723</td>\n",
       "      <td>20190820</td>\n",
       "      <td>001340</td>\n",
       "      <td>20190917</td>\n",
       "      <td>201909</td>\n",
       "      <td>백광산업</td>\n",
       "    </tr>\n",
       "    <tr>\n",
       "      <th>4</th>\n",
       "      <td>20190522</td>\n",
       "      <td>20190313</td>\n",
       "      <td>20190410</td>\n",
       "      <td>001550</td>\n",
       "      <td>20190508</td>\n",
       "      <td>201905</td>\n",
       "      <td>조비</td>\n",
       "    </tr>\n",
       "  </tbody>\n",
       "</table>\n",
       "</div>"
      ],
      "text/plain": [
       "  interval_end interval_init interval_start  shcode target_day target_m  \\\n",
       "0     20190812      20190603       20190701  000140   20190729   201907   \n",
       "1     20190529      20190320       20190417  000890   20190515   201905   \n",
       "2     20190327      20190116       20190213  001140   20190313   201903   \n",
       "3     20191001      20190723       20190820  001340   20190917   201909   \n",
       "4     20190522      20190313       20190410  001550   20190508   201905   \n",
       "\n",
       "     shname  \n",
       "0  하이트진로홀딩스  \n",
       "1      보해양조  \n",
       "2     카리스국보  \n",
       "3      백광산업  \n",
       "4        조비  "
      ]
     },
     "execution_count": 9,
     "metadata": {},
     "output_type": "execute_result"
    }
   ],
   "source": [
    "fin_result.head()"
   ]
  },
  {
   "cell_type": "code",
   "execution_count": 10,
   "metadata": {},
   "outputs": [
    {
     "data": {
      "text/plain": [
       "'115440'"
      ]
     },
     "execution_count": 10,
     "metadata": {},
     "output_type": "execute_result"
    }
   ],
   "source": [
    "fin_result['shcode'].iloc[i]"
   ]
  },
  {
   "cell_type": "code",
   "execution_count": 11,
   "metadata": {},
   "outputs": [
    {
     "data": {
      "text/html": [
       "<div>\n",
       "<style scoped>\n",
       "    .dataframe tbody tr th:only-of-type {\n",
       "        vertical-align: middle;\n",
       "    }\n",
       "\n",
       "    .dataframe tbody tr th {\n",
       "        vertical-align: top;\n",
       "    }\n",
       "\n",
       "    .dataframe thead th {\n",
       "        text-align: right;\n",
       "    }\n",
       "</style>\n",
       "<table border=\"1\" class=\"dataframe\">\n",
       "  <thead>\n",
       "    <tr style=\"text-align: right;\">\n",
       "      <th></th>\n",
       "      <th>interval_end</th>\n",
       "      <th>interval_init</th>\n",
       "      <th>interval_start</th>\n",
       "      <th>shcode</th>\n",
       "      <th>target_day</th>\n",
       "      <th>target_m</th>\n",
       "      <th>shname</th>\n",
       "    </tr>\n",
       "  </thead>\n",
       "  <tbody>\n",
       "    <tr>\n",
       "      <th>0</th>\n",
       "      <td>20190812</td>\n",
       "      <td>20190603</td>\n",
       "      <td>20190701</td>\n",
       "      <td>000140</td>\n",
       "      <td>20190729</td>\n",
       "      <td>201907</td>\n",
       "      <td>하이트진로홀딩스</td>\n",
       "    </tr>\n",
       "    <tr>\n",
       "      <th>1</th>\n",
       "      <td>20190529</td>\n",
       "      <td>20190320</td>\n",
       "      <td>20190417</td>\n",
       "      <td>000890</td>\n",
       "      <td>20190515</td>\n",
       "      <td>201905</td>\n",
       "      <td>보해양조</td>\n",
       "    </tr>\n",
       "    <tr>\n",
       "      <th>2</th>\n",
       "      <td>20190327</td>\n",
       "      <td>20190116</td>\n",
       "      <td>20190213</td>\n",
       "      <td>001140</td>\n",
       "      <td>20190313</td>\n",
       "      <td>201903</td>\n",
       "      <td>카리스국보</td>\n",
       "    </tr>\n",
       "    <tr>\n",
       "      <th>3</th>\n",
       "      <td>20191001</td>\n",
       "      <td>20190723</td>\n",
       "      <td>20190820</td>\n",
       "      <td>001340</td>\n",
       "      <td>20190917</td>\n",
       "      <td>201909</td>\n",
       "      <td>백광산업</td>\n",
       "    </tr>\n",
       "    <tr>\n",
       "      <th>4</th>\n",
       "      <td>20190522</td>\n",
       "      <td>20190313</td>\n",
       "      <td>20190410</td>\n",
       "      <td>001550</td>\n",
       "      <td>20190508</td>\n",
       "      <td>201905</td>\n",
       "      <td>조비</td>\n",
       "    </tr>\n",
       "  </tbody>\n",
       "</table>\n",
       "</div>"
      ],
      "text/plain": [
       "  interval_end interval_init interval_start  shcode target_day target_m  \\\n",
       "0     20190812      20190603       20190701  000140   20190729   201907   \n",
       "1     20190529      20190320       20190417  000890   20190515   201905   \n",
       "2     20190327      20190116       20190213  001140   20190313   201903   \n",
       "3     20191001      20190723       20190820  001340   20190917   201909   \n",
       "4     20190522      20190313       20190410  001550   20190508   201905   \n",
       "\n",
       "     shname  \n",
       "0  하이트진로홀딩스  \n",
       "1      보해양조  \n",
       "2     카리스국보  \n",
       "3      백광산업  \n",
       "4        조비  "
      ]
     },
     "execution_count": 11,
     "metadata": {},
     "output_type": "execute_result"
    }
   ],
   "source": [
    "fin_result.head()"
   ]
  },
  {
   "cell_type": "code",
   "execution_count": 14,
   "metadata": {},
   "outputs": [],
   "source": [
    "#데이터추출\n",
    "i = 6\n",
    "df = query_ohlcv(shcode = fin_result['shcode'].iloc[i],\n",
    "                 fr=fin_result['interval_init'].iloc[i],\n",
    "                 to=fin_result['interval_end'].iloc[i])\n",
    "df['date'] = pd.to_datetime(df['date'], format = \"%Y-%m-%d\")\n",
    "#데이터전처리\n",
    "df = preprocesser.sma(df)\n",
    "df = preprocesser.vma(df)\n",
    "df = preprocesser.rsi(df)\n",
    "df = preprocesser.macd(df)\n",
    "df = preprocesser.stochastic(df)\n",
    "df = preprocesser.marking_cross_sma(df)\n",
    "df = preprocesser.marking_cross_rsi(df)\n",
    "df = preprocesser.marking_cross_macd(df)\n",
    "df = preprocesser.marking_cross_stochastic(df)\n",
    "fig, fig_go = drawing_chart.drawing_chart(df)"
   ]
  },
  {
   "cell_type": "code",
   "execution_count": 15,
   "metadata": {},
   "outputs": [
    {
     "name": "stdout",
     "output_type": "stream",
     "text": [
      "1.종목코드:  001745    2.종목명:  SK네트웍스우    3.대상날짜:  20190418\n"
     ]
    },
    {
     "data": {
      "application/vnd.jupyter.widget-view+json": {
       "model_id": "b5426d84668e4938915650757611b2f9",
       "version_major": 2,
       "version_minor": 0
      },
      "text/plain": [
       "FigureWidget({\n",
       "    'data': [{'close': array([ 57100,  56800,  57000,  56700,  56400,  55700,  55000,  56000,  …"
      ]
     },
     "metadata": {},
     "output_type": "display_data"
    }
   ],
   "source": [
    "print('1.종목코드: ' , fin_result['shcode'].iloc[i], '   2.종목명: ', fin_result['shname'].iloc[i], '   3.대상날짜: ', fin_result['target_day'].iloc[i])\n",
    "fig_go"
   ]
  },
  {
   "cell_type": "code",
   "execution_count": null,
   "metadata": {},
   "outputs": [],
   "source": [
    "#open\n",
    "#offline.iplot(fig, filename=\"candlestick\")\n",
    "\n",
    "#save\n",
    "#offline.plot(fig, filename = 'filename.html', auto_open=False)"
   ]
  }
 ],
 "metadata": {
  "kernelspec": {
   "display_name": "Python 3",
   "language": "python",
   "name": "python3"
  },
  "language_info": {
   "codemirror_mode": {
    "name": "ipython",
    "version": 3
   },
   "file_extension": ".py",
   "mimetype": "text/x-python",
   "name": "python",
   "nbconvert_exporter": "python",
   "pygments_lexer": "ipython3",
   "version": "3.6.8"
  }
 },
 "nbformat": 4,
 "nbformat_minor": 2
}
