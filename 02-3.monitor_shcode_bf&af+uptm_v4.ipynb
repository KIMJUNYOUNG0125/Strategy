{
 "cells": [
  {
   "cell_type": "code",
   "execution_count": 1,
   "metadata": {},
   "outputs": [],
   "source": [
    "import sqlite3\n",
    "import time\n",
    "import pandas as pd\n",
    "import numpy as np\n",
    "import query\n",
    "import preprocesser\n",
    "import datetime\n",
    "import pandas.tseries.offsets as of  # for timeoffset"
   ]
  },
  {
   "cell_type": "code",
   "execution_count": 15,
   "metadata": {},
   "outputs": [],
   "source": [
    "#1.종목명\n",
    "shcode_list = query.query_shcode_list_today()"
   ]
  },
  {
   "cell_type": "code",
   "execution_count": 16,
   "metadata": {},
   "outputs": [],
   "source": [
    "#2.target from csvs\n",
    "df_bf = pd.read_csv(\"bf_target_day_using_weekly_v3.csv\",encoding='CP949')\n",
    "df_af = pd.read_csv(\"af_target_day_using_weekly_v3.csv\",encoding='CP949')\n",
    "del df_bf['Unnamed: 0']\n",
    "del df_af['Unnamed: 0']"
   ]
  },
  {
   "cell_type": "code",
   "execution_count": 17,
   "metadata": {},
   "outputs": [],
   "source": [
    "df2_bf = df_bf[['index', 'shcode','month_ma5_score', 'high_month', \n",
    "               'for_net_buy_sum', 'com_net_buy_sum','per_net_buy_sum', \n",
    "               'week_ma5_score', 'week_ma20_score',\n",
    "               'week_golden_cross', 'week_dead_cross', 'week_up', 'week_down']].drop_duplicates()"
   ]
  },
  {
   "cell_type": "code",
   "execution_count": 18,
   "metadata": {},
   "outputs": [],
   "source": [
    "df_bfaf = pd.merge(df_af, df2_bf, how = 'left', on = ['index', 'shcode'])"
   ]
  },
  {
   "cell_type": "code",
   "execution_count": 19,
   "metadata": {},
   "outputs": [],
   "source": [
    "uplist = query.query_up_distinct()\n",
    "tmlist = query.query_tm_distinct()"
   ]
  },
  {
   "cell_type": "code",
   "execution_count": 20,
   "metadata": {},
   "outputs": [],
   "source": [
    "df_bfaf = pd.merge(df_bfaf, uplist[['shcode','upcode', 'upname', 'per']], how = 'left', on = ['shcode'])\n",
    "df_bfaf = pd.merge(df_bfaf, tmlist[['shcode','tmcode', 'tmname']], how = 'left', on = ['shcode'])"
   ]
  },
  {
   "cell_type": "code",
   "execution_count": 21,
   "metadata": {},
   "outputs": [
    {
     "data": {
      "text/plain": [
       "Index(['index', 'shcode', 'shname', 'target_m', 'date', 'close_ratio', 'open_',\n",
       "       'low', 'high', 'close', 'volume', 'volume_ratio', 'range_position',\n",
       "       'spot_range', 'min_target', 'max_target', 'inrange', 'spot_range_inc',\n",
       "       'squeezed', 'volume_default', 'deal_f', 'burn_ratio', 'rotate_ratio',\n",
       "       'for_net_buy', 'com_net_buy', 'per_net_buy', 'close_ma5', 'close_ma10',\n",
       "       'close_ma20', 'close_ma60', 'close_ma120', 'obv', 'rsi14',\n",
       "       'rsi14_signal', 'slowk', 'slowd', 'ma_g_c', 'ma_d_c', 'rsi_g_c',\n",
       "       'rsi_d_c', 'stoc_g_c', 'stoc_d_c', 'month_ma5_score', 'high_month',\n",
       "       'for_net_buy_sum', 'com_net_buy_sum', 'per_net_buy_sum',\n",
       "       'week_ma5_score', 'week_ma20_score', 'week_golden_cross',\n",
       "       'week_dead_cross', 'week_up', 'week_down', 'upcode', 'upname', 'per',\n",
       "       'tmcode', 'tmname'],\n",
       "      dtype='object')"
      ]
     },
     "execution_count": 21,
     "metadata": {},
     "output_type": "execute_result"
    }
   ],
   "source": [
    "df_bfaf.columns"
   ]
  },
  {
   "cell_type": "code",
   "execution_count": null,
   "metadata": {},
   "outputs": [],
   "source": [
    "'''\n",
    "df_bfaf[['index', 'shcode', 'shname', 'target_m', 'date', 'close_ratio', 'open_',\n",
    "        'low', 'high', 'close', 'min_target', 'max_target', 'range_position',\n",
    "        'volume', 'volume_ratio', 'spot_range', 'inrange','volume_default', 'squeezed',\n",
    "        'obv', 'upcode', 'upname', 'per', 'tmcode', 'tmname',\n",
    "        'month_ma5_score', 'high_month','for_net_buy_sum', 'com_net_buy_sum', 'per_net_buy_sum',\n",
    "        'week_ma5_score', 'week_ma20_score', 'week_golden_cross',\n",
    "        'week_dead_cross', 'week_up', 'week_down', 'for_net_buy', 'com_net_buy', 'per_net_buy',\n",
    "        'close_ma5', 'close_ma10','close_ma20', 'close_ma60', 'close_ma120']].to_excel(\"bfaf_target_day_using_weekly_v4.xlsx\",encoding = 'ms949')\n",
    "'''"
   ]
  },
  {
   "cell_type": "code",
   "execution_count": 24,
   "metadata": {},
   "outputs": [],
   "source": [
    "df_bfaf = df_bfaf[['index', 'shcode', 'shname', 'target_m', 'date', 'close_ratio', 'open_',\n",
    "                   \n",
    "                    'low', 'high', 'close', 'min_target', 'max_target', 'range_position',\n",
    "                    'volume', 'volume_ratio', 'spot_range', 'inrange','volume_default', 'squeezed',\n",
    "                    'obv', 'upcode', 'upname', 'per', 'tmcode', 'tmname',\n",
    "                    'month_ma5_score', 'high_month','for_net_buy_sum', 'com_net_buy_sum', 'per_net_buy_sum',\n",
    "                    'week_ma5_score', 'week_ma20_score', 'week_golden_cross',\n",
    "                    'week_dead_cross', 'week_up', 'week_down', 'for_net_buy', 'com_net_buy', 'per_net_buy',\n",
    "                    'close_ma5', 'close_ma10','close_ma20', 'close_ma60', 'close_ma120']]"
   ]
  },
  {
   "cell_type": "code",
   "execution_count": 4,
   "metadata": {},
   "outputs": [],
   "source": [
    "#uplist[uplist['shcode']=='000080']\n",
    "#uplist[uplist['shcode']=='000080'].groupby(['shcode']).count()"
   ]
  },
  {
   "cell_type": "code",
   "execution_count": 3,
   "metadata": {},
   "outputs": [],
   "source": [
    "#tmlist[tmlist['shcode']=='000080']\n",
    "#tmlist[tmlist['shcode']=='000080'].groupby(['shcode']).count()"
   ]
  },
  {
   "cell_type": "code",
   "execution_count": 14,
   "metadata": {
    "scrolled": true
   },
   "outputs": [
    {
     "name": "stderr",
     "output_type": "stream",
     "text": [
      "ERROR:root:Internal Python error in the inspect module.\n",
      "Below is the traceback from this internal error.\n",
      "\n"
     ]
    },
    {
     "name": "stdout",
     "output_type": "stream",
     "text": [
      "Traceback (most recent call last):\n",
      "  File \"C:\\ProgramData\\Anaconda3\\lib\\site-packages\\IPython\\core\\interactiveshell.py\", line 3267, in run_code\n",
      "    exec(code_obj, self.user_global_ns, self.user_ns)\n",
      "  File \"<ipython-input-14-947c38a0b59d>\", line 1, in <module>\n",
      "    result2 = result[['index','shcode']].drop_duplicates()\n",
      "  File \"C:\\ProgramData\\Anaconda3\\lib\\site-packages\\pandas\\core\\frame.py\", line 2934, in __getitem__\n",
      "    raise_missing=True)\n",
      "  File \"C:\\ProgramData\\Anaconda3\\lib\\site-packages\\pandas\\core\\indexing.py\", line 1354, in _convert_to_indexer\n",
      "    return self._get_listlike_indexer(obj, axis, **kwargs)[1]\n",
      "  File \"C:\\ProgramData\\Anaconda3\\lib\\site-packages\\pandas\\core\\indexing.py\", line 1161, in _get_listlike_indexer\n",
      "    raise_missing=raise_missing)\n",
      "  File \"C:\\ProgramData\\Anaconda3\\lib\\site-packages\\pandas\\core\\indexing.py\", line 1252, in _validate_read_indexer\n",
      "    raise KeyError(\"{} not in index\".format(not_found))\n",
      "KeyError: \"['index'] not in index\"\n",
      "\n",
      "During handling of the above exception, another exception occurred:\n",
      "\n",
      "Traceback (most recent call last):\n",
      "  File \"C:\\ProgramData\\Anaconda3\\lib\\site-packages\\IPython\\core\\interactiveshell.py\", line 2018, in showtraceback\n",
      "    stb = value._render_traceback_()\n",
      "AttributeError: 'KeyError' object has no attribute '_render_traceback_'\n",
      "\n",
      "During handling of the above exception, another exception occurred:\n",
      "\n",
      "Traceback (most recent call last):\n",
      "  File \"C:\\ProgramData\\Anaconda3\\lib\\site-packages\\IPython\\core\\ultratb.py\", line 1095, in get_records\n",
      "    return _fixed_getinnerframes(etb, number_of_lines_of_context, tb_offset)\n",
      "  File \"C:\\ProgramData\\Anaconda3\\lib\\site-packages\\IPython\\core\\ultratb.py\", line 313, in wrapped\n",
      "    return f(*args, **kwargs)\n",
      "  File \"C:\\ProgramData\\Anaconda3\\lib\\site-packages\\IPython\\core\\ultratb.py\", line 347, in _fixed_getinnerframes\n",
      "    records = fix_frame_records_filenames(inspect.getinnerframes(etb, context))\n",
      "  File \"C:\\ProgramData\\Anaconda3\\lib\\inspect.py\", line 1490, in getinnerframes\n",
      "    frameinfo = (tb.tb_frame,) + getframeinfo(tb, context)\n",
      "  File \"C:\\ProgramData\\Anaconda3\\lib\\inspect.py\", line 1448, in getframeinfo\n",
      "    filename = getsourcefile(frame) or getfile(frame)\n",
      "  File \"C:\\ProgramData\\Anaconda3\\lib\\inspect.py\", line 696, in getsourcefile\n",
      "    if getattr(getmodule(object, filename), '__loader__', None) is not None:\n",
      "  File \"C:\\ProgramData\\Anaconda3\\lib\\inspect.py\", line 733, in getmodule\n",
      "    if ismodule(module) and hasattr(module, '__file__'):\n",
      "  File \"C:\\ProgramData\\Anaconda3\\lib\\site-packages\\py\\_vendored_packages\\apipkg.py\", line 195, in __getattribute__\n",
      "    return getattr(getmod(), name)\n",
      "  File \"C:\\ProgramData\\Anaconda3\\lib\\site-packages\\py\\_vendored_packages\\apipkg.py\", line 179, in getmod\n",
      "    x = importobj(modpath, None)\n",
      "  File \"C:\\ProgramData\\Anaconda3\\lib\\site-packages\\py\\_vendored_packages\\apipkg.py\", line 69, in importobj\n",
      "    module = __import__(modpath, None, None, ['__doc__'])\n",
      "  File \"C:\\ProgramData\\Anaconda3\\lib\\site-packages\\pytest.py\", line 8, in <module>\n",
      "    from _pytest.config import cmdline\n",
      "  File \"C:\\ProgramData\\Anaconda3\\lib\\site-packages\\_pytest\\config\\__init__.py\", line 17, in <module>\n",
      "    from pkg_resources import parse_version\n",
      "  File \"C:\\ProgramData\\Anaconda3\\lib\\site-packages\\pkg_resources\\__init__.py\", line 78, in <module>\n",
      "    from pkg_resources.extern import appdirs\n",
      "  File \"<frozen importlib._bootstrap>\", line 971, in _find_and_load\n",
      "  File \"<frozen importlib._bootstrap>\", line 955, in _find_and_load_unlocked\n",
      "  File \"<frozen importlib._bootstrap>\", line 656, in _load_unlocked\n",
      "  File \"<frozen importlib._bootstrap>\", line 626, in _load_backward_compatible\n",
      "  File \"C:\\ProgramData\\Anaconda3\\lib\\site-packages\\pkg_resources\\extern\\__init__.py\", line 43, in load_module\n",
      "    __import__(extant)\n",
      "  File \"C:\\ProgramData\\Anaconda3\\lib\\site-packages\\pkg_resources\\_vendor\\appdirs.py\", line 560, in <module>\n",
      "    import win32com.shell\n",
      "  File \"C:\\ProgramData\\Anaconda3\\lib\\site-packages\\win32com\\__init__.py\", line 6, in <module>\n",
      "    import pythoncom\n",
      "  File \"C:\\ProgramData\\Anaconda3\\lib\\site-packages\\pythoncom.py\", line 3, in <module>\n",
      "    pywintypes.__import_pywin32_system_module__(\"pythoncom\", globals())\n",
      "  File \"C:\\ProgramData\\Anaconda3\\lib\\site-packages\\win32\\lib\\pywintypes.py\", line 129, in __import_pywin32_system_module__\n",
      "    assert sys.modules[modname] is not old_mod\n",
      "AssertionError\n"
     ]
    },
    {
     "ename": "KeyError",
     "evalue": "\"['index'] not in index\"",
     "output_type": "error",
     "traceback": [
      "\u001b[1;31m---------------------------------------------------------------------------\u001b[0m"
     ]
    }
   ],
   "source": [
    "df_bfaf2 = df_bfaf[['index','shcode']].drop_duplicates()"
   ]
  },
  {
   "cell_type": "code",
   "execution_count": null,
   "metadata": {},
   "outputs": [],
   "source": []
  },
  {
   "cell_type": "code",
   "execution_count": 13,
   "metadata": {},
   "outputs": [
    {
     "name": "stderr",
     "output_type": "stream",
     "text": [
      "C:\\ProgramData\\Anaconda3\\lib\\site-packages\\pandas\\core\\frame.py:6692: FutureWarning: Sorting because non-concatenation axis is not aligned. A future version\n",
      "of pandas will change to not sort by default.\n",
      "\n",
      "To accept the future behavior, pass 'sort=False'.\n",
      "\n",
      "To retain the current behavior and silence the warning, pass 'sort=True'.\n",
      "\n",
      "  sort=sort)\n"
     ]
    }
   ],
   "source": [
    "#1.종목명\n",
    "shcode_list = query.query_shcode_list_today()\n",
    "\n",
    "#2.target from csvs\n",
    "df = pd.read_csv(\"high_ratio_0.05_volume_money_20000000000_v3.csv\", dtype ={'shcode':str})\n",
    "\n",
    "#3. target index 추출\n",
    "fin_result = pd.DataFrame([],columns = ['target_day','shcode'])\n",
    "\n",
    "for i,v in df['index'].items():\n",
    "    shcode = df['shcode'].iloc[i].zfill(6)\n",
    "    target_date = v.split(\" \")\n",
    "    target_day_list = pd.to_datetime(target_date, format = \"%Y-%m-%d\")\n",
    "    interval_end_timestamp = target_day_list + datetime.timedelta(weeks=6)\n",
    "    result = pd.DataFrame(dict(target_day = target_day_list.strftime(\"%Y%m%d\"),\n",
    "                              interval_end = interval_end_timestamp.strftime(\"%Y%m%d\"))).reset_index()\n",
    "    del result['index']\n",
    "    result['shcode'] = shcode\n",
    "    fin_result = fin_result.append(result)\n",
    "    \n",
    "#4. make target month\n",
    "fin_result['target_m'] = fin_result['target_day'].str.slice(stop = 6)\n",
    "fin_result = pd.merge(fin_result, shcode_list, how = 'inner', on = 'shcode')\n",
    "\n",
    "#5. target day 확인\n",
    "target_day_list = pd.to_datetime(fin_result['target_day'], format = \"%Y-%m-%d\")\n",
    "\n",
    "#(1) for jupo\n",
    "#interval calculate before 12 month , before 1 month\n",
    "init_month_timestamp = target_day_list + of.MonthEnd(n= -12)\n",
    "end_month_timestamp = target_day_list + of.MonthEnd(n= -1)\n",
    "fin_result['init_month'] = init_month_timestamp.apply(lambda x: x.strftime(\"%Y%m%d\"))\n",
    "fin_result['end_month'] = end_month_timestamp.apply(lambda x: x.strftime(\"%Y%m%d\"))\n",
    "\n",
    "\n",
    "fin_result = fin_result[fin_result['target_m']>='201909'].reset_index()\n",
    "del fin_result['index']\n",
    "fin_result['index'] = fin_result.index"
   ]
  },
  {
   "cell_type": "code",
   "execution_count": null,
   "metadata": {},
   "outputs": [],
   "source": [
    "pd.merge(df_bfaf2, uplist[['shcode','upcode', 'upname', 'per']], how = 'left', on = ['shcode'])"
   ]
  },
  {
   "cell_type": "code",
   "execution_count": 25,
   "metadata": {},
   "outputs": [
    {
     "data": {
      "text/plain": [
       "Index(['interval_end', 'shcode', 'target_day', 'target_m', 'shname',\n",
       "       'init_month', 'end_month', 'index'],\n",
       "      dtype='object')"
      ]
     },
     "execution_count": 25,
     "metadata": {},
     "output_type": "execute_result"
    }
   ],
   "source": [
    "fin_result.columns"
   ]
  },
  {
   "cell_type": "code",
   "execution_count": null,
   "metadata": {},
   "outputs": [],
   "source": [
    "today = datetime.datetime.now().strftime(\"%Y%m%d\")\n",
    "query.query_jupo(shcode, fr='2010101', to=today)"
   ]
  },
  {
   "cell_type": "code",
   "execution_count": null,
   "metadata": {},
   "outputs": [],
   "source": []
  },
  {
   "cell_type": "code",
   "execution_count": null,
   "metadata": {},
   "outputs": [],
   "source": []
  }
 ],
 "metadata": {
  "kernelspec": {
   "display_name": "Python 3",
   "language": "python",
   "name": "python3"
  },
  "language_info": {
   "codemirror_mode": {
    "name": "ipython",
    "version": 3
   },
   "file_extension": ".py",
   "mimetype": "text/x-python",
   "name": "python",
   "nbconvert_exporter": "python",
   "pygments_lexer": "ipython3",
   "version": "3.6.8"
  }
 },
 "nbformat": 4,
 "nbformat_minor": 2
}
