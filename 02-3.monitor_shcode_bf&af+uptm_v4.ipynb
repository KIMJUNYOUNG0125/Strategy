{
 "cells": [
  {
   "cell_type": "code",
   "execution_count": 1,
   "metadata": {},
   "outputs": [],
   "source": [
    "import sqlite3\n",
    "import time\n",
    "import pandas as pd\n",
    "import numpy as np\n",
    "import query\n",
    "import preprocesser\n",
    "import datetime\n",
    "import pandas.tseries.offsets as of  # for timeoffset"
   ]
  },
  {
   "cell_type": "code",
   "execution_count": 2,
   "metadata": {},
   "outputs": [],
   "source": [
    "#1.종목명\n",
    "shcode_list = query.query_shcode_list_today()\n",
    "\n",
    "#2.target from csvs\n",
    "df_bf = pd.read_csv(\"bf_target_day_using_weekly_v3.csv\",encoding='CP949')\n",
    "df_af = pd.read_csv(\"af_target_day_using_weekly_v3.csv\",encoding='CP949')\n",
    "del df_bf['Unnamed: 0']\n",
    "del df_af['Unnamed: 0']"
   ]
  },
  {
   "cell_type": "code",
   "execution_count": 3,
   "metadata": {},
   "outputs": [],
   "source": [
    "df2_br = df_bf[['index', 'shcode','month_ma5_score', 'high_month', \n",
    "               'for_net_buy_sum', 'com_net_buy_sum','per_net_buy_sum', \n",
    "               'week_ma5_score', 'week_ma20_score',\n",
    "               'week_golden_cross', 'week_dead_cross', 'week_up', 'week_down']].drop_duplicates()"
   ]
  },
  {
   "cell_type": "code",
   "execution_count": 4,
   "metadata": {},
   "outputs": [],
   "source": [
    "result = pd.merge(df_af, df2_br, how = 'left', on = ['index', 'shcode'])"
   ]
  },
  {
   "cell_type": "code",
   "execution_count": 5,
   "metadata": {},
   "outputs": [],
   "source": [
    "uplist = query.query_up_distinct()\n",
    "tmlist = query.query_tm_distinct()"
   ]
  },
  {
   "cell_type": "code",
   "execution_count": 6,
   "metadata": {},
   "outputs": [],
   "source": [
    "result = pd.merge(result, uplist[['shcode','upcode', 'upname', 'per']], how = 'left', on = ['shcode'])\n",
    "result = pd.merge(result, tmlist[['shcode','tmcode', 'tmname']], how = 'left', on = ['shcode'])"
   ]
  },
  {
   "cell_type": "code",
   "execution_count": 7,
   "metadata": {},
   "outputs": [
    {
     "data": {
      "text/plain": [
       "Index(['index', 'shcode', 'shname', 'target_m', 'date', 'close_ratio', 'open_',\n",
       "       'low', 'high', 'close', 'volume', 'volume_ratio', 'range_position',\n",
       "       'spot_range', 'min_target', 'max_target', 'inrange', 'spot_range_inc',\n",
       "       'squeezed', 'volume_default', 'deal_f', 'burn_ratio', 'rotate_ratio',\n",
       "       'for_net_buy', 'com_net_buy', 'per_net_buy', 'close_ma5', 'close_ma10',\n",
       "       'close_ma20', 'close_ma60', 'close_ma120', 'obv', 'rsi14',\n",
       "       'rsi14_signal', 'slowk', 'slowd', 'ma_g_c', 'ma_d_c', 'rsi_g_c',\n",
       "       'rsi_d_c', 'stoc_g_c', 'stoc_d_c', 'month_ma5_score', 'high_month',\n",
       "       'for_net_buy_sum', 'com_net_buy_sum', 'per_net_buy_sum',\n",
       "       'week_ma5_score', 'week_ma20_score', 'week_golden_cross',\n",
       "       'week_dead_cross', 'week_up', 'week_down', 'upcode', 'upname', 'per',\n",
       "       'tmcode', 'tmname'],\n",
       "      dtype='object')"
      ]
     },
     "execution_count": 7,
     "metadata": {},
     "output_type": "execute_result"
    }
   ],
   "source": [
    "result.columns"
   ]
  },
  {
   "cell_type": "code",
   "execution_count": 8,
   "metadata": {},
   "outputs": [],
   "source": [
    "result[['index', 'shcode', 'shname', 'target_m', 'date', 'close_ratio', 'open_',\n",
    "        'low', 'high', 'close', 'min_target', 'max_target', 'range_position',\n",
    "        'volume', 'volume_ratio', 'spot_range', 'inrange','volume_default', 'squeezed',\n",
    "        'obv', 'upcode', 'upname', 'per', 'tmcode', 'tmname',\n",
    "        'month_ma5_score', 'high_month','for_net_buy_sum', 'com_net_buy_sum', 'per_net_buy_sum',\n",
    "        'week_ma5_score', 'week_ma20_score', 'week_golden_cross',\n",
    "        'week_dead_cross', 'week_up', 'week_down', 'for_net_buy', 'com_net_buy', 'per_net_buy',\n",
    "        'close_ma5', 'close_ma10','close_ma20', 'close_ma60', 'close_ma120']].to_excel(\"bfaf_target_day_using_weekly_v4.xlsx\",encoding = 'ms949')"
   ]
  },
  {
   "cell_type": "code",
   "execution_count": 3,
   "metadata": {},
   "outputs": [
    {
     "data": {
      "text/html": [
       "<div>\n",
       "<style scoped>\n",
       "    .dataframe tbody tr th:only-of-type {\n",
       "        vertical-align: middle;\n",
       "    }\n",
       "\n",
       "    .dataframe tbody tr th {\n",
       "        vertical-align: top;\n",
       "    }\n",
       "\n",
       "    .dataframe thead th {\n",
       "        text-align: right;\n",
       "    }\n",
       "</style>\n",
       "<table border=\"1\" class=\"dataframe\">\n",
       "  <thead>\n",
       "    <tr style=\"text-align: right;\">\n",
       "      <th></th>\n",
       "      <th>date</th>\n",
       "      <th>upcode</th>\n",
       "      <th>upname</th>\n",
       "      <th>shcode</th>\n",
       "      <th>now_p</th>\n",
       "      <th>total_value</th>\n",
       "      <th>trans_money</th>\n",
       "      <th>per</th>\n",
       "    </tr>\n",
       "  </thead>\n",
       "  <tbody>\n",
       "    <tr>\n",
       "      <th>1005</th>\n",
       "      <td>20191201</td>\n",
       "      <td>1</td>\n",
       "      <td>종       합</td>\n",
       "      <td>000080</td>\n",
       "      <td>28250</td>\n",
       "      <td>19813</td>\n",
       "      <td>10642</td>\n",
       "      <td>88.56</td>\n",
       "    </tr>\n",
       "  </tbody>\n",
       "</table>\n",
       "</div>"
      ],
      "text/plain": [
       "          date  upcode     upname  shcode  now_p  total_value  trans_money  \\\n",
       "1005  20191201       1  종       합  000080  28250        19813        10642   \n",
       "\n",
       "        per  \n",
       "1005  88.56  "
      ]
     },
     "execution_count": 3,
     "metadata": {},
     "output_type": "execute_result"
    }
   ],
   "source": [
    "uplist[uplist['shcode']=='000080']\n",
    "#uplist[uplist['shcode']=='000080'].groupby(['shcode']).count()"
   ]
  },
  {
   "cell_type": "code",
   "execution_count": 5,
   "metadata": {},
   "outputs": [
    {
     "data": {
      "text/html": [
       "<div>\n",
       "<style scoped>\n",
       "    .dataframe tbody tr th:only-of-type {\n",
       "        vertical-align: middle;\n",
       "    }\n",
       "\n",
       "    .dataframe tbody tr th {\n",
       "        vertical-align: top;\n",
       "    }\n",
       "\n",
       "    .dataframe thead th {\n",
       "        text-align: right;\n",
       "    }\n",
       "</style>\n",
       "<table border=\"1\" class=\"dataframe\">\n",
       "  <thead>\n",
       "    <tr style=\"text-align: right;\">\n",
       "      <th></th>\n",
       "      <th>date</th>\n",
       "      <th>tmcode</th>\n",
       "      <th>tmname</th>\n",
       "      <th>shcode</th>\n",
       "      <th>shname</th>\n",
       "      <th>now_p</th>\n",
       "      <th>total_value</th>\n",
       "    </tr>\n",
       "  </thead>\n",
       "  <tbody>\n",
       "    <tr>\n",
       "      <th>1282</th>\n",
       "      <td>20191201</td>\n",
       "      <td>421</td>\n",
       "      <td>日 불매운동 관련주</td>\n",
       "      <td>000080</td>\n",
       "      <td>하이트진로</td>\n",
       "      <td>28250</td>\n",
       "      <td>1981275</td>\n",
       "    </tr>\n",
       "  </tbody>\n",
       "</table>\n",
       "</div>"
      ],
      "text/plain": [
       "          date  tmcode      tmname  shcode shname  now_p  total_value\n",
       "1282  20191201     421  日 불매운동 관련주  000080  하이트진로  28250      1981275"
      ]
     },
     "execution_count": 5,
     "metadata": {},
     "output_type": "execute_result"
    }
   ],
   "source": [
    "tmlist[tmlist['shcode']=='000080']\n",
    "#tmlist[tmlist['shcode']=='000080'].groupby(['shcode']).count()"
   ]
  },
  {
   "cell_type": "code",
   "execution_count": null,
   "metadata": {},
   "outputs": [],
   "source": []
  },
  {
   "cell_type": "code",
   "execution_count": null,
   "metadata": {},
   "outputs": [],
   "source": []
  },
  {
   "cell_type": "code",
   "execution_count": null,
   "metadata": {},
   "outputs": [],
   "source": []
  }
 ],
 "metadata": {
  "kernelspec": {
   "display_name": "Python 3",
   "language": "python",
   "name": "python3"
  },
  "language_info": {
   "codemirror_mode": {
    "name": "ipython",
    "version": 3
   },
   "file_extension": ".py",
   "mimetype": "text/x-python",
   "name": "python",
   "nbconvert_exporter": "python",
   "pygments_lexer": "ipython3",
   "version": "3.6.8"
  }
 },
 "nbformat": 4,
 "nbformat_minor": 2
}
