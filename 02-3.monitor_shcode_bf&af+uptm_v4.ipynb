{
 "cells": [
  {
   "cell_type": "code",
   "execution_count": 1,
   "metadata": {},
   "outputs": [],
   "source": [
    "import sqlite3\n",
    "import time\n",
    "import pandas as pd\n",
    "import numpy as np\n",
    "import query\n",
    "import preprocesser\n",
    "import datetime\n",
    "import pandas.tseries.offsets as of  # for timeoffset"
   ]
  },
  {
   "cell_type": "code",
   "execution_count": 15,
   "metadata": {},
   "outputs": [],
   "source": [
    "#1.종목명\n",
    "shcode_list = query.query_shcode_list_today()"
   ]
  },
  {
   "cell_type": "code",
   "execution_count": 16,
   "metadata": {},
   "outputs": [],
   "source": [
    "#2.target from csvs\n",
    "df_bf = pd.read_csv(\"bf_target_day_using_weekly_v3.csv\",encoding='CP949')\n",
    "df_af = pd.read_csv(\"af_target_day_using_weekly_v3.csv\",encoding='CP949')\n",
    "del df_bf['Unnamed: 0']\n",
    "del df_af['Unnamed: 0']"
   ]
  },
  {
   "cell_type": "code",
   "execution_count": 17,
   "metadata": {},
   "outputs": [],
   "source": [
    "df2_bf = df_bf[['index', 'shcode','month_ma5_score', 'high_month', \n",
    "               'for_net_buy_sum', 'com_net_buy_sum','per_net_buy_sum', \n",
    "               'week_ma5_score', 'week_ma20_score',\n",
    "               'week_golden_cross', 'week_dead_cross', 'week_up', 'week_down']].drop_duplicates()"
   ]
  },
  {
   "cell_type": "code",
   "execution_count": 18,
   "metadata": {},
   "outputs": [],
   "source": [
    "df_bfaf = pd.merge(df_af, df2_bf, how = 'left', on = ['index', 'shcode'])"
   ]
  },
  {
   "cell_type": "code",
   "execution_count": 19,
   "metadata": {},
   "outputs": [],
   "source": [
    "uplist = query.query_up_distinct()\n",
    "tmlist = query.query_tm_distinct()"
   ]
  },
  {
   "cell_type": "code",
   "execution_count": 20,
   "metadata": {},
   "outputs": [],
   "source": [
    "df_bfaf = pd.merge(df_bfaf, uplist[['shcode','upcode', 'upname', 'per']], how = 'left', on = ['shcode'])\n",
    "df_bfaf = pd.merge(df_bfaf, tmlist[['shcode','tmcode', 'tmname']], how = 'left', on = ['shcode'])"
   ]
  },
  {
   "cell_type": "code",
   "execution_count": 21,
   "metadata": {},
   "outputs": [
    {
     "data": {
      "text/plain": [
       "Index(['index', 'shcode', 'shname', 'target_m', 'date', 'close_ratio', 'open_',\n",
       "       'low', 'high', 'close', 'volume', 'volume_ratio', 'range_position',\n",
       "       'spot_range', 'min_target', 'max_target', 'inrange', 'spot_range_inc',\n",
       "       'squeezed', 'volume_default', 'deal_f', 'burn_ratio', 'rotate_ratio',\n",
       "       'for_net_buy', 'com_net_buy', 'per_net_buy', 'close_ma5', 'close_ma10',\n",
       "       'close_ma20', 'close_ma60', 'close_ma120', 'obv', 'rsi14',\n",
       "       'rsi14_signal', 'slowk', 'slowd', 'ma_g_c', 'ma_d_c', 'rsi_g_c',\n",
       "       'rsi_d_c', 'stoc_g_c', 'stoc_d_c', 'month_ma5_score', 'high_month',\n",
       "       'for_net_buy_sum', 'com_net_buy_sum', 'per_net_buy_sum',\n",
       "       'week_ma5_score', 'week_ma20_score', 'week_golden_cross',\n",
       "       'week_dead_cross', 'week_up', 'week_down', 'upcode', 'upname', 'per',\n",
       "       'tmcode', 'tmname'],\n",
       "      dtype='object')"
      ]
     },
     "execution_count": 21,
     "metadata": {},
     "output_type": "execute_result"
    }
   ],
   "source": [
    "df_bfaf.columns"
   ]
  },
  {
   "cell_type": "code",
   "execution_count": null,
   "metadata": {},
   "outputs": [],
   "source": [
    "'''\n",
    "df_bfaf[['index', 'shcode', 'shname', 'target_m', 'date', 'close_ratio', 'open_',\n",
    "        'low', 'high', 'close', 'min_target', 'max_target', 'range_position',\n",
    "        'volume', 'volume_ratio', 'spot_range', 'inrange','volume_default', 'squeezed',\n",
    "        'obv', 'upcode', 'upname', 'per', 'tmcode', 'tmname',\n",
    "        'month_ma5_score', 'high_month','for_net_buy_sum', 'com_net_buy_sum', 'per_net_buy_sum',\n",
    "        'week_ma5_score', 'week_ma20_score', 'week_golden_cross',\n",
    "        'week_dead_cross', 'week_up', 'week_down', 'for_net_buy', 'com_net_buy', 'per_net_buy',\n",
    "        'close_ma5', 'close_ma10','close_ma20', 'close_ma60', 'close_ma120']].to_excel(\"bfaf_target_day_using_weekly_v4.xlsx\",encoding = 'ms949')\n",
    "'''"
   ]
  },
  {
   "cell_type": "code",
   "execution_count": 24,
   "metadata": {},
   "outputs": [],
   "source": [
    "df_bfaf = df_bfaf[['index', 'shcode', 'shname', 'target_m', 'date', 'close_ratio', 'open_',\n",
    "                   \n",
    "                    'low', 'high', 'close', 'min_target', 'max_target', 'range_position',\n",
    "                    'volume', 'volume_ratio', 'spot_range', 'inrange','volume_default', 'squeezed',\n",
    "                    'obv', 'upcode', 'upname', 'per', 'tmcode', 'tmname',\n",
    "                    'month_ma5_score', 'high_month','for_net_buy_sum', 'com_net_buy_sum', 'per_net_buy_sum',\n",
    "                    'week_ma5_score', 'week_ma20_score', 'week_golden_cross',\n",
    "                    'week_dead_cross', 'week_up', 'week_down', 'for_net_buy', 'com_net_buy', 'per_net_buy',\n",
    "                    'close_ma5', 'close_ma10','close_ma20', 'close_ma60', 'close_ma120']]"
   ]
  },
  {
   "cell_type": "code",
   "execution_count": 4,
   "metadata": {},
   "outputs": [],
   "source": [
    "#uplist[uplist['shcode']=='000080']\n",
    "#uplist[uplist['shcode']=='000080'].groupby(['shcode']).count()"
   ]
  },
  {
   "cell_type": "code",
   "execution_count": 3,
   "metadata": {},
   "outputs": [],
   "source": [
    "#tmlist[tmlist['shcode']=='000080']\n",
    "#tmlist[tmlist['shcode']=='000080'].groupby(['shcode']).count()"
   ]
  },
  {
   "cell_type": "code",
   "execution_count": 14,
   "metadata": {
    "scrolled": true
   },
   "outputs": [
    {
     "name": "stderr",
     "output_type": "stream",
     "text": [
      "ERROR:root:Internal Python error in the inspect module.\n",
      "Below is the traceback from this internal error.\n",
      "\n"
     ]
    },
    {
     "name": "stdout",
     "output_type": "stream",
     "text": [
      "Traceback (most recent call last):\n",
      "  File \"C:\\ProgramData\\Anaconda3\\lib\\site-packages\\IPython\\core\\interactiveshell.py\", line 3267, in run_code\n",
      "    exec(code_obj, self.user_global_ns, self.user_ns)\n",
      "  File \"<ipython-input-14-947c38a0b59d>\", line 1, in <module>\n",
      "    result2 = result[['index','shcode']].drop_duplicates()\n",
      "  File \"C:\\ProgramData\\Anaconda3\\lib\\site-packages\\pandas\\core\\frame.py\", line 2934, in __getitem__\n",
      "    raise_missing=True)\n",
      "  File \"C:\\ProgramData\\Anaconda3\\lib\\site-packages\\pandas\\core\\indexing.py\", line 1354, in _convert_to_indexer\n",
      "    return self._get_listlike_indexer(obj, axis, **kwargs)[1]\n",
      "  File \"C:\\ProgramData\\Anaconda3\\lib\\site-packages\\pandas\\core\\indexing.py\", line 1161, in _get_listlike_indexer\n",
      "    raise_missing=raise_missing)\n",
      "  File \"C:\\ProgramData\\Anaconda3\\lib\\site-packages\\pandas\\core\\indexing.py\", line 1252, in _validate_read_indexer\n",
      "    raise KeyError(\"{} not in index\".format(not_found))\n",
      "KeyError: \"['index'] not in index\"\n",
      "\n",
      "During handling of the above exception, another exception occurred:\n",
      "\n",
      "Traceback (most recent call last):\n",
      "  File \"C:\\ProgramData\\Anaconda3\\lib\\site-packages\\IPython\\core\\interactiveshell.py\", line 2018, in showtraceback\n",
      "    stb = value._render_traceback_()\n",
      "AttributeError: 'KeyError' object has no attribute '_render_traceback_'\n",
      "\n",
      "During handling of the above exception, another exception occurred:\n",
      "\n",
      "Traceback (most recent call last):\n",
      "  File \"C:\\ProgramData\\Anaconda3\\lib\\site-packages\\IPython\\core\\ultratb.py\", line 1095, in get_records\n",
      "    return _fixed_getinnerframes(etb, number_of_lines_of_context, tb_offset)\n",
      "  File \"C:\\ProgramData\\Anaconda3\\lib\\site-packages\\IPython\\core\\ultratb.py\", line 313, in wrapped\n",
      "    return f(*args, **kwargs)\n",
      "  File \"C:\\ProgramData\\Anaconda3\\lib\\site-packages\\IPython\\core\\ultratb.py\", line 347, in _fixed_getinnerframes\n",
      "    records = fix_frame_records_filenames(inspect.getinnerframes(etb, context))\n",
      "  File \"C:\\ProgramData\\Anaconda3\\lib\\inspect.py\", line 1490, in getinnerframes\n",
      "    frameinfo = (tb.tb_frame,) + getframeinfo(tb, context)\n",
      "  File \"C:\\ProgramData\\Anaconda3\\lib\\inspect.py\", line 1448, in getframeinfo\n",
      "    filename = getsourcefile(frame) or getfile(frame)\n",
      "  File \"C:\\ProgramData\\Anaconda3\\lib\\inspect.py\", line 696, in getsourcefile\n",
      "    if getattr(getmodule(object, filename), '__loader__', None) is not None:\n",
      "  File \"C:\\ProgramData\\Anaconda3\\lib\\inspect.py\", line 733, in getmodule\n",
      "    if ismodule(module) and hasattr(module, '__file__'):\n",
      "  File \"C:\\ProgramData\\Anaconda3\\lib\\site-packages\\py\\_vendored_packages\\apipkg.py\", line 195, in __getattribute__\n",
      "    return getattr(getmod(), name)\n",
      "  File \"C:\\ProgramData\\Anaconda3\\lib\\site-packages\\py\\_vendored_packages\\apipkg.py\", line 179, in getmod\n",
      "    x = importobj(modpath, None)\n",
      "  File \"C:\\ProgramData\\Anaconda3\\lib\\site-packages\\py\\_vendored_packages\\apipkg.py\", line 69, in importobj\n",
      "    module = __import__(modpath, None, None, ['__doc__'])\n",
      "  File \"C:\\ProgramData\\Anaconda3\\lib\\site-packages\\pytest.py\", line 8, in <module>\n",
      "    from _pytest.config import cmdline\n",
      "  File \"C:\\ProgramData\\Anaconda3\\lib\\site-packages\\_pytest\\config\\__init__.py\", line 17, in <module>\n",
      "    from pkg_resources import parse_version\n",
      "  File \"C:\\ProgramData\\Anaconda3\\lib\\site-packages\\pkg_resources\\__init__.py\", line 78, in <module>\n",
      "    from pkg_resources.extern import appdirs\n",
      "  File \"<frozen importlib._bootstrap>\", line 971, in _find_and_load\n",
      "  File \"<frozen importlib._bootstrap>\", line 955, in _find_and_load_unlocked\n",
      "  File \"<frozen importlib._bootstrap>\", line 656, in _load_unlocked\n",
      "  File \"<frozen importlib._bootstrap>\", line 626, in _load_backward_compatible\n",
      "  File \"C:\\ProgramData\\Anaconda3\\lib\\site-packages\\pkg_resources\\extern\\__init__.py\", line 43, in load_module\n",
      "    __import__(extant)\n",
      "  File \"C:\\ProgramData\\Anaconda3\\lib\\site-packages\\pkg_resources\\_vendor\\appdirs.py\", line 560, in <module>\n",
      "    import win32com.shell\n",
      "  File \"C:\\ProgramData\\Anaconda3\\lib\\site-packages\\win32com\\__init__.py\", line 6, in <module>\n",
      "    import pythoncom\n",
      "  File \"C:\\ProgramData\\Anaconda3\\lib\\site-packages\\pythoncom.py\", line 3, in <module>\n",
      "    pywintypes.__import_pywin32_system_module__(\"pythoncom\", globals())\n",
      "  File \"C:\\ProgramData\\Anaconda3\\lib\\site-packages\\win32\\lib\\pywintypes.py\", line 129, in __import_pywin32_system_module__\n",
      "    assert sys.modules[modname] is not old_mod\n",
      "AssertionError\n"
     ]
    },
    {
     "ename": "KeyError",
     "evalue": "\"['index'] not in index\"",
     "output_type": "error",
     "traceback": [
      "\u001b[1;31m---------------------------------------------------------------------------\u001b[0m"
     ]
    }
   ],
   "source": [
    "df_bfaf2 = df_bfaf[['index','shcode']].drop_duplicates()"
   ]
  },
  {
   "cell_type": "code",
   "execution_count": 2,
   "metadata": {},
   "outputs": [
    {
     "name": "stderr",
     "output_type": "stream",
     "text": [
      "C:\\ProgramData\\Anaconda3\\envs\\py36_32\\lib\\site-packages\\pandas\\core\\frame.py:6692: FutureWarning: Sorting because non-concatenation axis is not aligned. A future version\n",
      "of pandas will change to not sort by default.\n",
      "\n",
      "To accept the future behavior, pass 'sort=False'.\n",
      "\n",
      "To retain the current behavior and silence the warning, pass 'sort=True'.\n",
      "\n",
      "  sort=sort)\n"
     ]
    }
   ],
   "source": [
    "#1.종목명\n",
    "shcode_list = query.query_shcode_list_today()\n",
    "\n",
    "#2.target from csvs\n",
    "df = pd.read_csv(\"high_ratio_0.05_volume_money_20000000000_v3.csv\", dtype ={'shcode':str})\n",
    "\n",
    "#3. target index 추출\n",
    "fin_result = pd.DataFrame([],columns = ['target_day','shcode'])\n",
    "\n",
    "for i,v in df['index'].items():\n",
    "    shcode = df['shcode'].iloc[i].zfill(6)\n",
    "    target_date = v.split(\" \")\n",
    "    target_day_list = pd.to_datetime(target_date, format = \"%Y-%m-%d\")\n",
    "    interval_end_timestamp = target_day_list + datetime.timedelta(weeks=6)\n",
    "    result = pd.DataFrame(dict(target_day = target_day_list.strftime(\"%Y%m%d\"),\n",
    "                              interval_end = interval_end_timestamp.strftime(\"%Y%m%d\"))).reset_index()\n",
    "    del result['index']\n",
    "    result['shcode'] = shcode\n",
    "    fin_result = fin_result.append(result)\n",
    "    \n",
    "#4. make target month\n",
    "fin_result['target_m'] = fin_result['target_day'].str.slice(stop = 6)\n",
    "fin_result = pd.merge(fin_result, shcode_list, how = 'inner', on = 'shcode')\n",
    "\n",
    "#5. target day 확인\n",
    "target_day_list = pd.to_datetime(fin_result['target_day'], format = \"%Y-%m-%d\")\n",
    "\n",
    "#(1) for jupo\n",
    "#interval calculate before 12 month \n",
    "init_jupo_timestamp = target_day_list + of.MonthEnd(n= -12)\n",
    "end_jupo_timestamp = target_day_list\n",
    "fin_result['init_jupo'] = init_jupo_timestamp.apply(lambda x: x.strftime(\"%Y%m%d\"))\n",
    "fin_result['end_jupo'] = end_jupo_timestamp.apply(lambda x: x.strftime(\"%Y%m%d\"))\n",
    "\n",
    "\n",
    "fin_result = fin_result[fin_result['target_m']>='201909'].reset_index()\n",
    "del fin_result['index']\n",
    "fin_result['index'] = fin_result.index"
   ]
  },
  {
   "cell_type": "code",
   "execution_count": null,
   "metadata": {},
   "outputs": [],
   "source": [
    "pd.merge(df_bfaf2, uplist[['shcode','upcode', 'upname', 'per']], how = 'left', on = ['shcode'])"
   ]
  },
  {
   "cell_type": "code",
   "execution_count": 5,
   "metadata": {},
   "outputs": [
    {
     "data": {
      "text/html": [
       "<div>\n",
       "<style scoped>\n",
       "    .dataframe tbody tr th:only-of-type {\n",
       "        vertical-align: middle;\n",
       "    }\n",
       "\n",
       "    .dataframe tbody tr th {\n",
       "        vertical-align: top;\n",
       "    }\n",
       "\n",
       "    .dataframe thead th {\n",
       "        text-align: right;\n",
       "    }\n",
       "</style>\n",
       "<table border=\"1\" class=\"dataframe\">\n",
       "  <thead>\n",
       "    <tr style=\"text-align: right;\">\n",
       "      <th></th>\n",
       "      <th>interval_end</th>\n",
       "      <th>shcode</th>\n",
       "      <th>target_day</th>\n",
       "      <th>target_m</th>\n",
       "      <th>shname</th>\n",
       "      <th>init_jupo</th>\n",
       "      <th>end_jupo</th>\n",
       "      <th>index</th>\n",
       "    </tr>\n",
       "  </thead>\n",
       "  <tbody>\n",
       "    <tr>\n",
       "      <th>0</th>\n",
       "      <td>20191218</td>\n",
       "      <td>000230</td>\n",
       "      <td>20191106</td>\n",
       "      <td>201911</td>\n",
       "      <td>일동홀딩스</td>\n",
       "      <td>20181130</td>\n",
       "      <td>20191106</td>\n",
       "      <td>0</td>\n",
       "    </tr>\n",
       "    <tr>\n",
       "      <th>1</th>\n",
       "      <td>20191015</td>\n",
       "      <td>000400</td>\n",
       "      <td>20190903</td>\n",
       "      <td>201909</td>\n",
       "      <td>롯데손해보험</td>\n",
       "      <td>20180930</td>\n",
       "      <td>20190903</td>\n",
       "      <td>1</td>\n",
       "    </tr>\n",
       "    <tr>\n",
       "      <th>2</th>\n",
       "      <td>20191108</td>\n",
       "      <td>000885</td>\n",
       "      <td>20190927</td>\n",
       "      <td>201909</td>\n",
       "      <td>한화우</td>\n",
       "      <td>20180930</td>\n",
       "      <td>20190927</td>\n",
       "      <td>2</td>\n",
       "    </tr>\n",
       "    <tr>\n",
       "      <th>3</th>\n",
       "      <td>20191017</td>\n",
       "      <td>000890</td>\n",
       "      <td>20190905</td>\n",
       "      <td>201909</td>\n",
       "      <td>보해양조</td>\n",
       "      <td>20180930</td>\n",
       "      <td>20190905</td>\n",
       "      <td>3</td>\n",
       "    </tr>\n",
       "    <tr>\n",
       "      <th>4</th>\n",
       "      <td>20191217</td>\n",
       "      <td>001140</td>\n",
       "      <td>20191105</td>\n",
       "      <td>201911</td>\n",
       "      <td>카리스국보</td>\n",
       "      <td>20181130</td>\n",
       "      <td>20191105</td>\n",
       "      <td>4</td>\n",
       "    </tr>\n",
       "  </tbody>\n",
       "</table>\n",
       "</div>"
      ],
      "text/plain": [
       "  interval_end  shcode target_day target_m  shname init_jupo  end_jupo  index\n",
       "0     20191218  000230   20191106   201911   일동홀딩스  20181130  20191106      0\n",
       "1     20191015  000400   20190903   201909  롯데손해보험  20180930  20190903      1\n",
       "2     20191108  000885   20190927   201909     한화우  20180930  20190927      2\n",
       "3     20191017  000890   20190905   201909    보해양조  20180930  20190905      3\n",
       "4     20191217  001140   20191105   201911   카리스국보  20181130  20191105      4"
      ]
     },
     "execution_count": 5,
     "metadata": {},
     "output_type": "execute_result"
    }
   ],
   "source": [
    "fin_result.head()"
   ]
  },
  {
   "cell_type": "code",
   "execution_count": 25,
   "metadata": {},
   "outputs": [
    {
     "data": {
      "text/plain": [
       "Index(['interval_end', 'shcode', 'target_day', 'target_m', 'shname',\n",
       "       'init_month', 'end_month', 'index'],\n",
       "      dtype='object')"
      ]
     },
     "execution_count": 25,
     "metadata": {},
     "output_type": "execute_result"
    }
   ],
   "source": [
    "fin_result.columns"
   ]
  },
  {
   "cell_type": "code",
   "execution_count": 6,
   "metadata": {},
   "outputs": [],
   "source": [
    "#for jupo_vol\n",
    "a = query.query_jupo_vol(fin_result['shcode'].iloc[0], fr=fin_result['init_jupo'].iloc[0], to=fin_result['end_jupo'].iloc[0])\n",
    "c = a.groupby(['shcode','date']).sum().cumsum()"
   ]
  },
  {
   "cell_type": "code",
   "execution_count": 8,
   "metadata": {
    "scrolled": true
   },
   "outputs": [
    {
     "data": {
      "text/html": [
       "<div>\n",
       "<style scoped>\n",
       "    .dataframe tbody tr th:only-of-type {\n",
       "        vertical-align: middle;\n",
       "    }\n",
       "\n",
       "    .dataframe tbody tr th {\n",
       "        vertical-align: top;\n",
       "    }\n",
       "\n",
       "    .dataframe thead th {\n",
       "        text-align: right;\n",
       "    }\n",
       "</style>\n",
       "<table border=\"1\" class=\"dataframe\">\n",
       "  <thead>\n",
       "    <tr style=\"text-align: right;\">\n",
       "      <th></th>\n",
       "      <th></th>\n",
       "      <th>close</th>\n",
       "      <th>samo_vol</th>\n",
       "      <th>sec_vol</th>\n",
       "      <th>ins_vol</th>\n",
       "      <th>tusin_vol</th>\n",
       "      <th>bank_vol</th>\n",
       "      <th>jong_vol</th>\n",
       "      <th>fund_vol</th>\n",
       "      <th>etcom_vol</th>\n",
       "      <th>per_vol</th>\n",
       "      <th>for_reg_vol</th>\n",
       "      <th>for_noreg_vol</th>\n",
       "      <th>nat_no_vol</th>\n",
       "      <th>com_vol</th>\n",
       "      <th>for_vol</th>\n",
       "      <th>etc_vol</th>\n",
       "    </tr>\n",
       "    <tr>\n",
       "      <th>shcode</th>\n",
       "      <th>date</th>\n",
       "      <th></th>\n",
       "      <th></th>\n",
       "      <th></th>\n",
       "      <th></th>\n",
       "      <th></th>\n",
       "      <th></th>\n",
       "      <th></th>\n",
       "      <th></th>\n",
       "      <th></th>\n",
       "      <th></th>\n",
       "      <th></th>\n",
       "      <th></th>\n",
       "      <th></th>\n",
       "      <th></th>\n",
       "      <th></th>\n",
       "      <th></th>\n",
       "    </tr>\n",
       "  </thead>\n",
       "  <tbody>\n",
       "    <tr>\n",
       "      <th rowspan=\"5\" valign=\"top\">000230</th>\n",
       "      <th>20191031</th>\n",
       "      <td>2779800</td>\n",
       "      <td>1530</td>\n",
       "      <td>1076</td>\n",
       "      <td>1517</td>\n",
       "      <td>21211</td>\n",
       "      <td>0</td>\n",
       "      <td>1</td>\n",
       "      <td>10801</td>\n",
       "      <td>-64496</td>\n",
       "      <td>86654</td>\n",
       "      <td>-58053</td>\n",
       "      <td>-241</td>\n",
       "      <td>0</td>\n",
       "      <td>36136</td>\n",
       "      <td>-58294</td>\n",
       "      <td>-64496</td>\n",
       "    </tr>\n",
       "    <tr>\n",
       "      <th>20191101</th>\n",
       "      <td>2791050</td>\n",
       "      <td>1530</td>\n",
       "      <td>771</td>\n",
       "      <td>1517</td>\n",
       "      <td>21211</td>\n",
       "      <td>0</td>\n",
       "      <td>1</td>\n",
       "      <td>10801</td>\n",
       "      <td>-64496</td>\n",
       "      <td>87425</td>\n",
       "      <td>-58519</td>\n",
       "      <td>-241</td>\n",
       "      <td>0</td>\n",
       "      <td>35831</td>\n",
       "      <td>-58760</td>\n",
       "      <td>-64496</td>\n",
       "    </tr>\n",
       "    <tr>\n",
       "      <th>20191104</th>\n",
       "      <td>2802300</td>\n",
       "      <td>1529</td>\n",
       "      <td>744</td>\n",
       "      <td>2222</td>\n",
       "      <td>21956</td>\n",
       "      <td>0</td>\n",
       "      <td>1</td>\n",
       "      <td>10801</td>\n",
       "      <td>-64496</td>\n",
       "      <td>86933</td>\n",
       "      <td>-59449</td>\n",
       "      <td>-241</td>\n",
       "      <td>0</td>\n",
       "      <td>37253</td>\n",
       "      <td>-59690</td>\n",
       "      <td>-64496</td>\n",
       "    </tr>\n",
       "    <tr>\n",
       "      <th>20191105</th>\n",
       "      <td>2813700</td>\n",
       "      <td>1529</td>\n",
       "      <td>745</td>\n",
       "      <td>2222</td>\n",
       "      <td>21956</td>\n",
       "      <td>0</td>\n",
       "      <td>1</td>\n",
       "      <td>10801</td>\n",
       "      <td>-66146</td>\n",
       "      <td>90587</td>\n",
       "      <td>-61454</td>\n",
       "      <td>-241</td>\n",
       "      <td>0</td>\n",
       "      <td>37254</td>\n",
       "      <td>-61695</td>\n",
       "      <td>-66146</td>\n",
       "    </tr>\n",
       "    <tr>\n",
       "      <th>20191106</th>\n",
       "      <td>2826050</td>\n",
       "      <td>-3958</td>\n",
       "      <td>735</td>\n",
       "      <td>1886</td>\n",
       "      <td>12706</td>\n",
       "      <td>0</td>\n",
       "      <td>1</td>\n",
       "      <td>10801</td>\n",
       "      <td>-144346</td>\n",
       "      <td>187090</td>\n",
       "      <td>-64741</td>\n",
       "      <td>-174</td>\n",
       "      <td>0</td>\n",
       "      <td>22171</td>\n",
       "      <td>-64915</td>\n",
       "      <td>-144346</td>\n",
       "    </tr>\n",
       "  </tbody>\n",
       "</table>\n",
       "</div>"
      ],
      "text/plain": [
       "                   close  samo_vol  sec_vol  ins_vol  tusin_vol  bank_vol  \\\n",
       "shcode date                                                                 \n",
       "000230 20191031  2779800      1530     1076     1517      21211         0   \n",
       "       20191101  2791050      1530      771     1517      21211         0   \n",
       "       20191104  2802300      1529      744     2222      21956         0   \n",
       "       20191105  2813700      1529      745     2222      21956         0   \n",
       "       20191106  2826050     -3958      735     1886      12706         0   \n",
       "\n",
       "                 jong_vol  fund_vol  etcom_vol  per_vol  for_reg_vol  \\\n",
       "shcode date                                                            \n",
       "000230 20191031         1     10801     -64496    86654       -58053   \n",
       "       20191101         1     10801     -64496    87425       -58519   \n",
       "       20191104         1     10801     -64496    86933       -59449   \n",
       "       20191105         1     10801     -66146    90587       -61454   \n",
       "       20191106         1     10801    -144346   187090       -64741   \n",
       "\n",
       "                 for_noreg_vol  nat_no_vol  com_vol  for_vol  etc_vol  \n",
       "shcode date                                                            \n",
       "000230 20191031           -241           0    36136   -58294   -64496  \n",
       "       20191101           -241           0    35831   -58760   -64496  \n",
       "       20191104           -241           0    37253   -59690   -64496  \n",
       "       20191105           -241           0    37254   -61695   -66146  \n",
       "       20191106           -174           0    22171   -64915  -144346  "
      ]
     },
     "execution_count": 8,
     "metadata": {},
     "output_type": "execute_result"
    }
   ],
   "source": [
    "c.tail()"
   ]
  },
  {
   "cell_type": "code",
   "execution_count": null,
   "metadata": {},
   "outputs": [],
   "source": [
    "#for 기타재무정보"
   ]
  },
  {
   "cell_type": "code",
   "execution_count": 5,
   "metadata": {},
   "outputs": [
    {
     "data": {
      "text/plain": [
       "'000230'"
      ]
     },
     "execution_count": 5,
     "metadata": {},
     "output_type": "execute_result"
    }
   ],
   "source": [
    "fin_result['shcode'].iloc[0]"
   ]
  },
  {
   "cell_type": "code",
   "execution_count": 3,
   "metadata": {},
   "outputs": [],
   "source": [
    "b = query.query_finance(fin_result['shcode'].iloc[0])"
   ]
  },
  {
   "cell_type": "code",
   "execution_count": 4,
   "metadata": {},
   "outputs": [
    {
     "data": {
      "text/html": [
       "<div>\n",
       "<style scoped>\n",
       "    .dataframe tbody tr th:only-of-type {\n",
       "        vertical-align: middle;\n",
       "    }\n",
       "\n",
       "    .dataframe tbody tr th {\n",
       "        vertical-align: top;\n",
       "    }\n",
       "\n",
       "    .dataframe thead th {\n",
       "        text-align: right;\n",
       "    }\n",
       "</style>\n",
       "<table border=\"1\" class=\"dataframe\">\n",
       "  <thead>\n",
       "    <tr style=\"text-align: right;\">\n",
       "      <th></th>\n",
       "      <th>date</th>\n",
       "      <th>shcode</th>\n",
       "      <th>close</th>\n",
       "      <th>volume</th>\n",
       "      <th>volume_money</th>\n",
       "      <th>high_52</th>\n",
       "      <th>high_52_day</th>\n",
       "      <th>high_52</th>\n",
       "      <th>high_52_day</th>\n",
       "      <th>rotate_ratio</th>\n",
       "      <th>burn_ratio</th>\n",
       "      <th>per</th>\n",
       "      <th>total_vol</th>\n",
       "      <th>ev_ratio</th>\n",
       "      <th>vol_scale</th>\n",
       "      <th>market_value</th>\n",
       "    </tr>\n",
       "  </thead>\n",
       "  <tbody>\n",
       "    <tr>\n",
       "      <th>0</th>\n",
       "      <td>20191202</td>\n",
       "      <td>000230</td>\n",
       "      <td>11100</td>\n",
       "      <td>15243</td>\n",
       "      <td>168</td>\n",
       "      <td>15200</td>\n",
       "      <td>20190507</td>\n",
       "      <td>10350</td>\n",
       "      <td>20190807</td>\n",
       "      <td>1.24</td>\n",
       "      <td>0.14</td>\n",
       "      <td>36.57</td>\n",
       "      <td>11003</td>\n",
       "      <td>40</td>\n",
       "      <td>00001</td>\n",
       "      <td>1205</td>\n",
       "    </tr>\n",
       "  </tbody>\n",
       "</table>\n",
       "</div>"
      ],
      "text/plain": [
       "       date  shcode  close volume volume_money high_52 high_52_day high_52  \\\n",
       "0  20191202  000230  11100  15243          168   15200    20190507   10350   \n",
       "\n",
       "  high_52_day rotate_ratio burn_ratio    per total_vol ev_ratio vol_scale  \\\n",
       "0    20190807         1.24       0.14  36.57     11003       40     00001   \n",
       "\n",
       "  market_value  \n",
       "0         1205  "
      ]
     },
     "execution_count": 4,
     "metadata": {},
     "output_type": "execute_result"
    }
   ],
   "source": [
    "b"
   ]
  },
  {
   "cell_type": "code",
   "execution_count": null,
   "metadata": {},
   "outputs": [],
   "source": [
    "'최고가_52','최고가일_52','최저가_52','최저가일_52','소진율','회전율','PER'\n",
    "'상장주식수_천','증거금율','수량단위',"
   ]
  },
  {
   "cell_type": "code",
   "execution_count": null,
   "metadata": {},
   "outputs": [],
   "source": [
    "'high_52', 'high_52_day', 'high_52', 'high_52_day','rotate_ratio','burn_ratio', 'per', 'total_vol', 'ev_ratio', 'vol_scale', 'market_value'\n"
   ]
  },
  {
   "cell_type": "code",
   "execution_count": null,
   "metadata": {},
   "outputs": [],
   "source": []
  },
  {
   "cell_type": "code",
   "execution_count": null,
   "metadata": {},
   "outputs": [],
   "source": []
  }
 ],
 "metadata": {
  "kernelspec": {
   "display_name": "Python 3",
   "language": "python",
   "name": "python3"
  },
  "language_info": {
   "codemirror_mode": {
    "name": "ipython",
    "version": 3
   },
   "file_extension": ".py",
   "mimetype": "text/x-python",
   "name": "python",
   "nbconvert_exporter": "python",
   "pygments_lexer": "ipython3",
   "version": "3.6.8"
  }
 },
 "nbformat": 4,
 "nbformat_minor": 2
}
