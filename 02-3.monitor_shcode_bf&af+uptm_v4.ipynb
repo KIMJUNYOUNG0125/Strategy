{
 "cells": [
  {
   "cell_type": "code",
   "execution_count": 1,
   "metadata": {},
   "outputs": [],
   "source": [
    "import sqlite3\n",
    "import time\n",
    "import pandas as pd\n",
    "import numpy as np\n",
    "import query\n",
    "import preprocesser\n",
    "import datetime\n",
    "import pandas.tseries.offsets as of  # for timeoffset"
   ]
  },
  {
   "cell_type": "code",
   "execution_count": 2,
   "metadata": {},
   "outputs": [],
   "source": [
    "#1.종목명\n",
    "shcode_list = query.query_shcode_list_today()"
   ]
  },
  {
   "cell_type": "code",
   "execution_count": 3,
   "metadata": {},
   "outputs": [],
   "source": [
    "#2.target from csvs\n",
    "df_bf = pd.read_csv(\"bf_target_day_using_weekly_v3.csv\",encoding='CP949')\n",
    "df_af = pd.read_csv(\"af_target_day_using_weekly_v3.csv\",encoding='CP949')\n",
    "del df_bf['Unnamed: 0']\n",
    "del df_af['Unnamed: 0']"
   ]
  },
  {
   "cell_type": "code",
   "execution_count": 4,
   "metadata": {},
   "outputs": [],
   "source": [
    "df2_bf = df_bf[['index', 'shcode','month_ma5_score', 'high_month', \n",
    "               'for_net_buy_sum', 'com_net_buy_sum','per_net_buy_sum', \n",
    "               'week_ma5_score', 'week_ma20_score',\n",
    "               'week_golden_cross', 'week_dead_cross', 'week_up', 'week_down']].drop_duplicates()"
   ]
  },
  {
   "cell_type": "code",
   "execution_count": 5,
   "metadata": {},
   "outputs": [],
   "source": [
    "df_bfaf = pd.merge(df_af, df2_bf, how = 'left', on = ['index', 'shcode'])"
   ]
  },
  {
   "cell_type": "code",
   "execution_count": 6,
   "metadata": {},
   "outputs": [],
   "source": [
    "uplist = query.query_up_distinct()\n",
    "tmlist = query.query_tm_distinct()"
   ]
  },
  {
   "cell_type": "code",
   "execution_count": 7,
   "metadata": {},
   "outputs": [],
   "source": [
    "df_bfaf = pd.merge(df_bfaf, uplist[['shcode','upcode', 'upname']], how = 'left', on = ['shcode'])\n",
    "df_bfaf = pd.merge(df_bfaf, tmlist[['shcode','tmcode', 'tmname']], how = 'left', on = ['shcode'])"
   ]
  },
  {
   "cell_type": "code",
   "execution_count": 8,
   "metadata": {},
   "outputs": [],
   "source": [
    "'''\n",
    "df_bfaf[['index', 'shcode', 'shname', 'target_m', 'date', 'close_ratio', 'open_',\n",
    "        'low', 'high', 'close', 'min_target', 'max_target', 'range_position',\n",
    "        'volume', 'volume_ratio', 'spot_range', 'inrange','volume_default', 'squeezed',\n",
    "        'obv', 'upcode', 'upname', 'tmcode', 'tmname',\n",
    "        'month_ma5_score', 'high_month','for_net_buy_sum', 'com_net_buy_sum', 'per_net_buy_sum',\n",
    "        'week_ma5_score', 'week_ma20_score', 'week_golden_cross',\n",
    "        'week_dead_cross', 'week_up', 'week_down', 'for_net_buy', 'com_net_buy', 'per_net_buy',\n",
    "        'close_ma5', 'close_ma10','close_ma20', 'close_ma60', 'close_ma120']].to_excel(\"bfaf_target_day_using_weekly_v4.xlsx\",encoding = 'ms949')\n",
    "'''"
   ]
  },
  {
   "cell_type": "code",
   "execution_count": 9,
   "metadata": {},
   "outputs": [],
   "source": [
    "df_bfaf = df_bfaf[['index', 'shcode', 'shname', 'target_m', 'date', 'close_ratio', 'open_',\n",
    "                    'low', 'high', 'close', 'min_target', 'max_target', 'range_position',\n",
    "                    'volume', 'volume_ratio', 'spot_range', 'inrange','volume_default', 'squeezed',\n",
    "                    'obv', 'upcode', 'upname', 'tmcode', 'tmname',\n",
    "                    'month_ma5_score', 'high_month','for_net_buy_sum', 'com_net_buy_sum', 'per_net_buy_sum',\n",
    "                    'week_ma5_score', 'week_ma20_score', 'week_golden_cross',\n",
    "                    'week_dead_cross', 'week_up', 'week_down', 'for_net_buy', 'com_net_buy', 'per_net_buy',\n",
    "                    'close_ma5', 'close_ma10','close_ma20', 'close_ma60', 'close_ma120']]"
   ]
  },
  {
   "cell_type": "code",
   "execution_count": 4,
   "metadata": {},
   "outputs": [],
   "source": [
    "#uplist[uplist['shcode']=='000080']\n",
    "#uplist[uplist['shcode']=='000080'].groupby(['shcode']).count()"
   ]
  },
  {
   "cell_type": "code",
   "execution_count": 3,
   "metadata": {},
   "outputs": [],
   "source": [
    "#tmlist[tmlist['shcode']=='000080']\n",
    "#tmlist[tmlist['shcode']=='000080'].groupby(['shcode']).count()"
   ]
  },
  {
   "cell_type": "code",
   "execution_count": null,
   "metadata": {},
   "outputs": [],
   "source": [
    "#df_bfaf2 = df_bfaf[['index','shcode']].drop_duplicates()"
   ]
  },
  {
   "cell_type": "code",
   "execution_count": 2,
   "metadata": {},
   "outputs": [
    {
     "name": "stderr",
     "output_type": "stream",
     "text": [
      "C:\\ProgramData\\Anaconda3\\envs\\py36_32\\lib\\site-packages\\pandas\\core\\frame.py:6692: FutureWarning: Sorting because non-concatenation axis is not aligned. A future version\n",
      "of pandas will change to not sort by default.\n",
      "\n",
      "To accept the future behavior, pass 'sort=False'.\n",
      "\n",
      "To retain the current behavior and silence the warning, pass 'sort=True'.\n",
      "\n",
      "  sort=sort)\n"
     ]
    }
   ],
   "source": [
    "#1.종목명\n",
    "shcode_list = query.query_shcode_list_today()\n",
    "\n",
    "#2.target from csvs\n",
    "df = pd.read_csv(\"high_ratio_0.05_volume_money_20000000000_v3.csv\", dtype ={'shcode':str})\n",
    "\n",
    "#3. target index 추출\n",
    "fin_result = pd.DataFrame([],columns = ['target_day','shcode'])\n",
    "\n",
    "for i,v in df['index'].items():\n",
    "    shcode = df['shcode'].iloc[i].zfill(6)\n",
    "    target_date = v.split(\" \")\n",
    "    target_day_list = pd.to_datetime(target_date, format = \"%Y-%m-%d\")\n",
    "    interval_end_timestamp = target_day_list + datetime.timedelta(weeks=6)\n",
    "    result = pd.DataFrame(dict(target_day = target_day_list.strftime(\"%Y%m%d\"),\n",
    "                              interval_end = interval_end_timestamp.strftime(\"%Y%m%d\"))).reset_index()\n",
    "    del result['index']\n",
    "    result['shcode'] = shcode\n",
    "    fin_result = fin_result.append(result)\n",
    "    \n",
    "#4. make target month\n",
    "fin_result['target_m'] = fin_result['target_day'].str.slice(stop = 6)\n",
    "fin_result = pd.merge(fin_result, shcode_list, how = 'inner', on = 'shcode')\n",
    "\n",
    "#5. target day 확인\n",
    "target_day_list = pd.to_datetime(fin_result['target_day'], format = \"%Y-%m-%d\")\n",
    "\n",
    "#(1) for jupo\n",
    "#interval calculate before 12 month \n",
    "init_jupo_timestamp = target_day_list + of.MonthEnd(n= -12)\n",
    "end_jupo_timestamp = target_day_list\n",
    "fin_result['init_jupo'] = init_jupo_timestamp.apply(lambda x: x.strftime(\"%Y%m%d\"))\n",
    "fin_result['end_jupo'] = end_jupo_timestamp.apply(lambda x: x.strftime(\"%Y%m%d\"))\n",
    "\n",
    "\n",
    "fin_result = fin_result[fin_result['target_m']>='201909'].reset_index()\n",
    "del fin_result['index']\n",
    "fin_result['index'] = fin_result.index"
   ]
  },
  {
   "cell_type": "code",
   "execution_count": null,
   "metadata": {},
   "outputs": [],
   "source": [
    "pd.merge(df_bfaf2, uplist[['shcode','upcode', 'upname', 'per']], how = 'left', on = ['shcode'])"
   ]
  },
  {
   "cell_type": "code",
   "execution_count": 3,
   "metadata": {},
   "outputs": [
    {
     "data": {
      "text/html": [
       "<div>\n",
       "<style scoped>\n",
       "    .dataframe tbody tr th:only-of-type {\n",
       "        vertical-align: middle;\n",
       "    }\n",
       "\n",
       "    .dataframe tbody tr th {\n",
       "        vertical-align: top;\n",
       "    }\n",
       "\n",
       "    .dataframe thead th {\n",
       "        text-align: right;\n",
       "    }\n",
       "</style>\n",
       "<table border=\"1\" class=\"dataframe\">\n",
       "  <thead>\n",
       "    <tr style=\"text-align: right;\">\n",
       "      <th></th>\n",
       "      <th>interval_end</th>\n",
       "      <th>shcode</th>\n",
       "      <th>target_day</th>\n",
       "      <th>target_m</th>\n",
       "      <th>shname</th>\n",
       "      <th>init_jupo</th>\n",
       "      <th>end_jupo</th>\n",
       "      <th>index</th>\n",
       "    </tr>\n",
       "  </thead>\n",
       "  <tbody>\n",
       "    <tr>\n",
       "      <th>410</th>\n",
       "      <td>20191105</td>\n",
       "      <td>078590</td>\n",
       "      <td>20190924</td>\n",
       "      <td>201909</td>\n",
       "      <td>두올산업</td>\n",
       "      <td>20180930</td>\n",
       "      <td>20190924</td>\n",
       "      <td>410</td>\n",
       "    </tr>\n",
       "    <tr>\n",
       "      <th>411</th>\n",
       "      <td>20191113</td>\n",
       "      <td>078590</td>\n",
       "      <td>20191002</td>\n",
       "      <td>201910</td>\n",
       "      <td>두올산업</td>\n",
       "      <td>20181031</td>\n",
       "      <td>20191002</td>\n",
       "      <td>411</td>\n",
       "    </tr>\n",
       "    <tr>\n",
       "      <th>412</th>\n",
       "      <td>20191216</td>\n",
       "      <td>078860</td>\n",
       "      <td>20191104</td>\n",
       "      <td>201911</td>\n",
       "      <td>아이오케이</td>\n",
       "      <td>20181130</td>\n",
       "      <td>20191104</td>\n",
       "      <td>412</td>\n",
       "    </tr>\n",
       "    <tr>\n",
       "      <th>413</th>\n",
       "      <td>20191106</td>\n",
       "      <td>079950</td>\n",
       "      <td>20190925</td>\n",
       "      <td>201909</td>\n",
       "      <td>인베니아</td>\n",
       "      <td>20180930</td>\n",
       "      <td>20190925</td>\n",
       "      <td>413</td>\n",
       "    </tr>\n",
       "    <tr>\n",
       "      <th>414</th>\n",
       "      <td>20191227</td>\n",
       "      <td>079960</td>\n",
       "      <td>20191115</td>\n",
       "      <td>201911</td>\n",
       "      <td>동양이엔피</td>\n",
       "      <td>20181130</td>\n",
       "      <td>20191115</td>\n",
       "      <td>414</td>\n",
       "    </tr>\n",
       "  </tbody>\n",
       "</table>\n",
       "</div>"
      ],
      "text/plain": [
       "    interval_end  shcode target_day target_m shname init_jupo  end_jupo  index\n",
       "410     20191105  078590   20190924   201909   두올산업  20180930  20190924    410\n",
       "411     20191113  078590   20191002   201910   두올산업  20181031  20191002    411\n",
       "412     20191216  078860   20191104   201911  아이오케이  20181130  20191104    412\n",
       "413     20191106  079950   20190925   201909   인베니아  20180930  20190925    413\n",
       "414     20191227  079960   20191115   201911  동양이엔피  20181130  20191115    414"
      ]
     },
     "execution_count": 3,
     "metadata": {},
     "output_type": "execute_result"
    }
   ],
   "source": [
    "fin_result.iloc[410:415]"
   ]
  },
  {
   "cell_type": "code",
   "execution_count": 25,
   "metadata": {},
   "outputs": [
    {
     "data": {
      "text/plain": [
       "Index(['interval_end', 'shcode', 'target_day', 'target_m', 'shname',\n",
       "       'init_month', 'end_month', 'index'],\n",
       "      dtype='object')"
      ]
     },
     "execution_count": 25,
     "metadata": {},
     "output_type": "execute_result"
    }
   ],
   "source": [
    "fin_result.columns"
   ]
  },
  {
   "cell_type": "code",
   "execution_count": 4,
   "metadata": {},
   "outputs": [],
   "source": [
    "# for jupo query\n",
    "a = query.query_jupo_vol(fin_result['shcode'].iloc[414], fr=fin_result['init_jupo'].iloc[414], to='20191202')\n",
    "# cumsum index\n",
    "c = a.groupby(['shcode','date']).sum().cumsum()\n",
    "# multi index to single index\n",
    "c = c.reset_index(level=['shcode','date'])\n",
    "# calculate max volume\n",
    "c_for_value = c[['samo_vol', 'sec_vol', 'ins_vol', 'tusin_vol', 'bank_vol',\n",
    "                 'jong_vol', 'fund_vol', 'etcom_vol', 'per_vol', 'for_reg_vol',\n",
    "                 'for_noreg_vol', 'nat_no_vol', 'com_vol', 'for_vol', 'etc_vol']]\n",
    "c['max_vol'] = c_for_value.max(axis=1)\n",
    "c['max_jupo'] = c_for_value.idxmax(axis=1)\n",
    "c = c.assign(max3_sum=np.sum(np.partition(c_for_value.values, -3)[:, -3:], 1))\n",
    "\n"
   ]
  },
  {
   "cell_type": "code",
   "execution_count": 13,
   "metadata": {},
   "outputs": [
    {
     "data": {
      "text/plain": [
       "'000230'"
      ]
     },
     "execution_count": 13,
     "metadata": {},
     "output_type": "execute_result"
    }
   ],
   "source": [
    "fin_result['shcode'].iloc[0]"
   ]
  },
  {
   "cell_type": "code",
   "execution_count": 15,
   "metadata": {},
   "outputs": [],
   "source": [
    "b = query.query_finance(fin_result['shcode'].iloc[414])"
   ]
  },
  {
   "cell_type": "code",
   "execution_count": 16,
   "metadata": {},
   "outputs": [
    {
     "data": {
      "text/html": [
       "<div>\n",
       "<style scoped>\n",
       "    .dataframe tbody tr th:only-of-type {\n",
       "        vertical-align: middle;\n",
       "    }\n",
       "\n",
       "    .dataframe tbody tr th {\n",
       "        vertical-align: top;\n",
       "    }\n",
       "\n",
       "    .dataframe thead th {\n",
       "        text-align: right;\n",
       "    }\n",
       "</style>\n",
       "<table border=\"1\" class=\"dataframe\">\n",
       "  <thead>\n",
       "    <tr style=\"text-align: right;\">\n",
       "      <th></th>\n",
       "      <th>date</th>\n",
       "      <th>shcode</th>\n",
       "      <th>close</th>\n",
       "      <th>volume</th>\n",
       "      <th>volume_money</th>\n",
       "      <th>high_52</th>\n",
       "      <th>high_52_day</th>\n",
       "      <th>low_52</th>\n",
       "      <th>low_52_day</th>\n",
       "      <th>rotate_ratio</th>\n",
       "      <th>burn_ratio</th>\n",
       "      <th>per</th>\n",
       "      <th>total_vol</th>\n",
       "      <th>ev_ratio</th>\n",
       "      <th>vol_scale</th>\n",
       "      <th>market_value</th>\n",
       "    </tr>\n",
       "  </thead>\n",
       "  <tbody>\n",
       "    <tr>\n",
       "      <th>0</th>\n",
       "      <td>20191202</td>\n",
       "      <td>079960</td>\n",
       "      <td>16800</td>\n",
       "      <td>183482</td>\n",
       "      <td>3165</td>\n",
       "      <td>19500</td>\n",
       "      <td>20191119</td>\n",
       "      <td>9000</td>\n",
       "      <td>20190107</td>\n",
       "      <td>15.70</td>\n",
       "      <td>2.33</td>\n",
       "      <td>23.06</td>\n",
       "      <td>7860</td>\n",
       "      <td>40</td>\n",
       "      <td>00001</td>\n",
       "      <td>1368</td>\n",
       "    </tr>\n",
       "  </tbody>\n",
       "</table>\n",
       "</div>"
      ],
      "text/plain": [
       "       date  shcode  close  volume volume_money high_52 high_52_day low_52  \\\n",
       "0  20191202  079960  16800  183482         3165   19500    20191119   9000   \n",
       "\n",
       "  low_52_day rotate_ratio burn_ratio    per total_vol ev_ratio vol_scale  \\\n",
       "0   20190107        15.70       2.33  23.06      7860       40     00001   \n",
       "\n",
       "  market_value  \n",
       "0         1368  "
      ]
     },
     "execution_count": 16,
     "metadata": {},
     "output_type": "execute_result"
    }
   ],
   "source": [
    "b"
   ]
  },
  {
   "cell_type": "code",
   "execution_count": null,
   "metadata": {},
   "outputs": [],
   "source": [
    "'최고가_52','최고가일_52','최저가_52','최저가일_52','소진율','회전율','PER'\n",
    "'상장주식수_천','증거금율','수량단위',"
   ]
  },
  {
   "cell_type": "code",
   "execution_count": null,
   "metadata": {},
   "outputs": [],
   "source": []
  }
 ],
 "metadata": {
  "kernelspec": {
   "display_name": "Python 3",
   "language": "python",
   "name": "python3"
  },
  "language_info": {
   "codemirror_mode": {
    "name": "ipython",
    "version": 3
   },
   "file_extension": ".py",
   "mimetype": "text/x-python",
   "name": "python",
   "nbconvert_exporter": "python",
   "pygments_lexer": "ipython3",
   "version": "3.6.8"
  }
 },
 "nbformat": 4,
 "nbformat_minor": 2
}
