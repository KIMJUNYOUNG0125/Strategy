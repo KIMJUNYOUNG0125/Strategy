{
 "cells": [
  {
   "cell_type": "code",
   "execution_count": 1,
   "metadata": {},
   "outputs": [],
   "source": [
    "import sqlite3\n",
    "import time\n",
    "import pandas as pd\n",
    "import numpy as np\n",
    "import query\n",
    "import preprocesser\n",
    "import datetime\n",
    "import pandas.tseries.offsets as of  # for timeoffset"
   ]
  },
  {
   "cell_type": "code",
   "execution_count": 2,
   "metadata": {},
   "outputs": [],
   "source": [
    "#1.종목명\n",
    "shcode_list = query.query_shcode_list_today()"
   ]
  },
  {
   "cell_type": "code",
   "execution_count": 2,
   "metadata": {},
   "outputs": [],
   "source": [
    "#2.target from csvs\n",
    "df_bf = pd.read_csv(\"bf_target_day_using_weekly_v3.csv\",encoding='CP949')\n",
    "df_af = pd.read_csv(\"af_target_day_using_weekly_v3.csv\",encoding='CP949')\n",
    "del df_bf['Unnamed: 0']\n",
    "del df_af['Unnamed: 0']"
   ]
  },
  {
   "cell_type": "code",
   "execution_count": 3,
   "metadata": {},
   "outputs": [],
   "source": [
    "df2_bf = df_bf[['index', 'shcode','month_ma5_score', 'high_month', \n",
    "               'for_net_buy_sum', 'com_net_buy_sum','per_net_buy_sum', \n",
    "               'week_ma5_score', 'week_ma20_score',\n",
    "               'week_golden_cross', 'week_dead_cross', 'week_up', 'week_down']].drop_duplicates()"
   ]
  },
  {
   "cell_type": "code",
   "execution_count": 4,
   "metadata": {},
   "outputs": [],
   "source": [
    "df_bfaf = pd.merge(df_af, df2_bf, how = 'left', on = ['index', 'shcode'])"
   ]
  },
  {
   "cell_type": "code",
   "execution_count": 5,
   "metadata": {},
   "outputs": [],
   "source": [
    "uplist = query.query_up_distinct()\n",
    "tmlist = query.query_tm_distinct()"
   ]
  },
  {
   "cell_type": "code",
   "execution_count": 6,
   "metadata": {},
   "outputs": [],
   "source": [
    "df_bfaf = pd.merge(df_bfaf, uplist[['shcode','upcode', 'upname']], how = 'left', on = ['shcode'])\n",
    "df_bfaf = pd.merge(df_bfaf, tmlist[['shcode','tmcode', 'tmname']], how = 'left', on = ['shcode'])"
   ]
  },
  {
   "cell_type": "code",
   "execution_count": 8,
   "metadata": {},
   "outputs": [],
   "source": [
    "'''\n",
    "df_bfaf[['index', 'shcode', 'shname', 'target_m', 'date', 'close_ratio', 'open_',\n",
    "        'low', 'high', 'close', 'min_target', 'max_target', 'range_position',\n",
    "        'volume', 'volume_ratio', 'spot_range', 'inrange','volume_default', 'squeezed',\n",
    "        'obv', 'upcode', 'upname', 'tmcode', 'tmname',\n",
    "        'month_ma5_score', 'high_month','for_net_buy_sum', 'com_net_buy_sum', 'per_net_buy_sum',\n",
    "        'week_ma5_score', 'week_ma20_score', 'week_golden_cross',\n",
    "        'week_dead_cross', 'week_up', 'week_down', 'for_net_buy', 'com_net_buy', 'per_net_buy',\n",
    "        'close_ma5', 'close_ma10','close_ma20', 'close_ma60', 'close_ma120']].to_excel(\"bfaf_target_day_using_weekly_v4.xlsx\",encoding = 'ms949')\n",
    "'''"
   ]
  },
  {
   "cell_type": "code",
   "execution_count": 7,
   "metadata": {},
   "outputs": [],
   "source": [
    "df_bfaf = df_bfaf[['index', 'shcode', 'shname', 'target_m', 'date', 'close_ratio', 'open_',\n",
    "                    'low', 'high', 'close', 'min_target', 'max_target', 'range_position',\n",
    "                    'volume', 'volume_ratio', 'spot_range', 'inrange','volume_default', 'squeezed',\n",
    "                    'obv', 'upcode', 'upname', 'tmcode', 'tmname',\n",
    "                    'month_ma5_score', 'high_month','for_net_buy_sum', 'com_net_buy_sum', 'per_net_buy_sum',\n",
    "                    'week_ma5_score', 'week_ma20_score', 'week_golden_cross',\n",
    "                    'week_dead_cross', 'week_up', 'week_down', 'for_net_buy', 'com_net_buy', 'per_net_buy',\n",
    "                    'close_ma5', 'close_ma10','close_ma20', 'close_ma60', 'close_ma120']]"
   ]
  },
  {
   "cell_type": "code",
   "execution_count": 55,
   "metadata": {
    "scrolled": true
   },
   "outputs": [
    {
     "data": {
      "text/plain": [
       "index                        439\n",
       "shcode                    089010\n",
       "shname                     켐트로닉스\n",
       "target_m                  201911\n",
       "date                    20191115\n",
       "close_ratio                    0\n",
       "open_                      14550\n",
       "low                        14550\n",
       "high                       18200\n",
       "close                      17350\n",
       "min_target                 14700\n",
       "max_target                 18200\n",
       "range_position          0.767123\n",
       "volume                   4001920\n",
       "volume_ratio                   1\n",
       "spot_range              0.757143\n",
       "inrange                     True\n",
       "volume_default             False\n",
       "squeezed                   False\n",
       "obv                  1.51293e+07\n",
       "upcode                       319\n",
       "upname                 화       학\n",
       "tmcode                       393\n",
       "tmname                   갤럭시 부품주\n",
       "month_ma5_score                1\n",
       "high_month                 15450\n",
       "for_net_buy_sum           967285\n",
       "com_net_buy_sum            44598\n",
       "per_net_buy_sum      -1.0113e+06\n",
       "week_ma5_score                 1\n",
       "week_ma20_score                1\n",
       "week_golden_cross              0\n",
       "week_dead_cross                0\n",
       "week_up                        5\n",
       "week_down                      0\n",
       "for_net_buy               307192\n",
       "com_net_buy              -159450\n",
       "per_net_buy              -154610\n",
       "close_ma5                  14770\n",
       "close_ma10                 14270\n",
       "close_ma20               14222.5\n",
       "close_ma60               11439.8\n",
       "close_ma120              10732.6\n",
       "Name: 9815, dtype: object"
      ]
     },
     "execution_count": 55,
     "metadata": {},
     "output_type": "execute_result"
    }
   ],
   "source": [
    "df_bfaf.iloc[9815]"
   ]
  },
  {
   "cell_type": "code",
   "execution_count": 4,
   "metadata": {},
   "outputs": [],
   "source": [
    "#uplist[uplist['shcode']=='000080']\n",
    "#uplist[uplist['shcode']=='000080'].groupby(['shcode']).count()"
   ]
  },
  {
   "cell_type": "code",
   "execution_count": 3,
   "metadata": {},
   "outputs": [],
   "source": [
    "#tmlist[tmlist['shcode']=='000080']\n",
    "#tmlist[tmlist['shcode']=='000080'].groupby(['shcode']).count()"
   ]
  },
  {
   "cell_type": "code",
   "execution_count": null,
   "metadata": {},
   "outputs": [],
   "source": [
    "#df_bfaf2 = df_bfaf[['index','shcode']].drop_duplicates()"
   ]
  },
  {
   "cell_type": "code",
   "execution_count": 16,
   "metadata": {},
   "outputs": [
    {
     "name": "stderr",
     "output_type": "stream",
     "text": [
      "C:\\ProgramData\\Anaconda3\\lib\\site-packages\\pandas\\core\\frame.py:6692: FutureWarning: Sorting because non-concatenation axis is not aligned. A future version\n",
      "of pandas will change to not sort by default.\n",
      "\n",
      "To accept the future behavior, pass 'sort=False'.\n",
      "\n",
      "To retain the current behavior and silence the warning, pass 'sort=True'.\n",
      "\n",
      "  sort=sort)\n"
     ]
    }
   ],
   "source": [
    "#1.종목명\n",
    "shcode_list = query.query_shcode_list_today()\n",
    "\n",
    "#2.target from csvs\n",
    "df = pd.read_csv(\"high_ratio_0.05_volume_money_20000000000_v4.csv\", dtype ={'shcode':str})\n",
    "\n",
    "#3. target index 추출\n",
    "fin_result = pd.DataFrame([],columns = ['target_day','shcode'])\n",
    "\n",
    "for i,v in df['index'].items():\n",
    "    shcode = df['shcode'].iloc[i].zfill(6)\n",
    "    target_date = v.split(\" \")\n",
    "    target_day_list = pd.to_datetime(target_date, format = \"%Y-%m-%d\")\n",
    "    interval_end_timestamp = target_day_list + datetime.timedelta(weeks=6)\n",
    "    result = pd.DataFrame(dict(target_day = target_day_list.strftime(\"%Y%m%d\"),\n",
    "                              interval_end = interval_end_timestamp.strftime(\"%Y%m%d\"))).reset_index()\n",
    "    del result['index']\n",
    "    result['shcode'] = shcode\n",
    "    fin_result = fin_result.append(result)\n",
    "    \n",
    "#4. make target month\n",
    "fin_result['target_m'] = fin_result['target_day'].str.slice(stop = 6)\n",
    "fin_result = pd.merge(fin_result, shcode_list, how = 'inner', on = 'shcode')\n",
    "\n",
    "#5. target day 확인\n",
    "target_day_list = pd.to_datetime(fin_result['target_day'], format = \"%Y-%m-%d\")\n",
    "\n",
    "#(1) for jupo\n",
    "#interval calculate before 12 month \n",
    "init_jupo_timestamp = target_day_list + of.MonthBegin(n= -12)\n",
    "end_jupo_timestamp = target_day_list\n",
    "fin_result['init_jupo'] = init_jupo_timestamp.apply(lambda x: x.strftime(\"%Y%m%d\"))\n",
    "fin_result['end_jupo'] = end_jupo_timestamp.apply(lambda x: x.strftime(\"%Y%m%d\"))\n",
    "fin_result = fin_result.reset_index(drop = True)\n",
    "\n",
    "\n",
    "#fin_result = fin_result[fin_result['target_m']>='201909'].reset_index()\n",
    "#del fin_result['index']\n",
    "#fin_result['index'] = fin_result.index"
   ]
  },
  {
   "cell_type": "code",
   "execution_count": 18,
   "metadata": {},
   "outputs": [
    {
     "data": {
      "text/html": [
       "<div>\n",
       "<style scoped>\n",
       "    .dataframe tbody tr th:only-of-type {\n",
       "        vertical-align: middle;\n",
       "    }\n",
       "\n",
       "    .dataframe tbody tr th {\n",
       "        vertical-align: top;\n",
       "    }\n",
       "\n",
       "    .dataframe thead th {\n",
       "        text-align: right;\n",
       "    }\n",
       "</style>\n",
       "<table border=\"1\" class=\"dataframe\">\n",
       "  <thead>\n",
       "    <tr style=\"text-align: right;\">\n",
       "      <th></th>\n",
       "      <th>interval_end</th>\n",
       "      <th>shcode</th>\n",
       "      <th>target_day</th>\n",
       "      <th>target_m</th>\n",
       "      <th>shname</th>\n",
       "      <th>init_jupo</th>\n",
       "      <th>end_jupo</th>\n",
       "    </tr>\n",
       "  </thead>\n",
       "  <tbody>\n",
       "    <tr>\n",
       "      <th>0</th>\n",
       "      <td>20190605</td>\n",
       "      <td>000080</td>\n",
       "      <td>20190424</td>\n",
       "      <td>201904</td>\n",
       "      <td>하이트진로</td>\n",
       "      <td>20180501</td>\n",
       "      <td>20190424</td>\n",
       "    </tr>\n",
       "    <tr>\n",
       "      <th>1</th>\n",
       "      <td>20190819</td>\n",
       "      <td>000140</td>\n",
       "      <td>20190708</td>\n",
       "      <td>201907</td>\n",
       "      <td>하이트진로홀딩스</td>\n",
       "      <td>20180801</td>\n",
       "      <td>20190708</td>\n",
       "    </tr>\n",
       "    <tr>\n",
       "      <th>2</th>\n",
       "      <td>20190909</td>\n",
       "      <td>000140</td>\n",
       "      <td>20190729</td>\n",
       "      <td>201907</td>\n",
       "      <td>하이트진로홀딩스</td>\n",
       "      <td>20180801</td>\n",
       "      <td>20190729</td>\n",
       "    </tr>\n",
       "    <tr>\n",
       "      <th>3</th>\n",
       "      <td>20190528</td>\n",
       "      <td>000150</td>\n",
       "      <td>20190416</td>\n",
       "      <td>201904</td>\n",
       "      <td>두산</td>\n",
       "      <td>20180501</td>\n",
       "      <td>20190416</td>\n",
       "    </tr>\n",
       "    <tr>\n",
       "      <th>4</th>\n",
       "      <td>20190906</td>\n",
       "      <td>000150</td>\n",
       "      <td>20190726</td>\n",
       "      <td>201907</td>\n",
       "      <td>두산</td>\n",
       "      <td>20180801</td>\n",
       "      <td>20190726</td>\n",
       "    </tr>\n",
       "  </tbody>\n",
       "</table>\n",
       "</div>"
      ],
      "text/plain": [
       "  interval_end  shcode target_day target_m    shname init_jupo  end_jupo\n",
       "0     20190605  000080   20190424   201904     하이트진로  20180501  20190424\n",
       "1     20190819  000140   20190708   201907  하이트진로홀딩스  20180801  20190708\n",
       "2     20190909  000140   20190729   201907  하이트진로홀딩스  20180801  20190729\n",
       "3     20190528  000150   20190416   201904        두산  20180501  20190416\n",
       "4     20190906  000150   20190726   201907        두산  20180801  20190726"
      ]
     },
     "execution_count": 18,
     "metadata": {},
     "output_type": "execute_result"
    }
   ],
   "source": [
    "fin_result.head()"
   ]
  },
  {
   "cell_type": "code",
   "execution_count": 19,
   "metadata": {},
   "outputs": [
    {
     "data": {
      "text/plain": [
       "(2471, 7)"
      ]
     },
     "execution_count": 19,
     "metadata": {},
     "output_type": "execute_result"
    }
   ],
   "source": [
    "fin_result.shape"
   ]
  },
  {
   "cell_type": "code",
   "execution_count": 20,
   "metadata": {},
   "outputs": [
    {
     "data": {
      "text/html": [
       "<div>\n",
       "<style scoped>\n",
       "    .dataframe tbody tr th:only-of-type {\n",
       "        vertical-align: middle;\n",
       "    }\n",
       "\n",
       "    .dataframe tbody tr th {\n",
       "        vertical-align: top;\n",
       "    }\n",
       "\n",
       "    .dataframe thead th {\n",
       "        text-align: right;\n",
       "    }\n",
       "</style>\n",
       "<table border=\"1\" class=\"dataframe\">\n",
       "  <thead>\n",
       "    <tr style=\"text-align: right;\">\n",
       "      <th></th>\n",
       "      <th>interval_end</th>\n",
       "      <th>shcode</th>\n",
       "      <th>target_day</th>\n",
       "      <th>target_m</th>\n",
       "      <th>shname</th>\n",
       "      <th>init_jupo</th>\n",
       "      <th>end_jupo</th>\n",
       "    </tr>\n",
       "  </thead>\n",
       "  <tbody>\n",
       "    <tr>\n",
       "      <th>438</th>\n",
       "      <td>20190429</td>\n",
       "      <td>017900</td>\n",
       "      <td>20190318</td>\n",
       "      <td>201903</td>\n",
       "      <td>광전자</td>\n",
       "      <td>20180401</td>\n",
       "      <td>20190318</td>\n",
       "    </tr>\n",
       "    <tr>\n",
       "      <th>439</th>\n",
       "      <td>20190424</td>\n",
       "      <td>017940</td>\n",
       "      <td>20190313</td>\n",
       "      <td>201903</td>\n",
       "      <td>E1</td>\n",
       "      <td>20180401</td>\n",
       "      <td>20190313</td>\n",
       "    </tr>\n",
       "  </tbody>\n",
       "</table>\n",
       "</div>"
      ],
      "text/plain": [
       "    interval_end  shcode target_day target_m shname init_jupo  end_jupo\n",
       "438     20190429  017900   20190318   201903    광전자  20180401  20190318\n",
       "439     20190424  017940   20190313   201903     E1  20180401  20190313"
      ]
     },
     "execution_count": 20,
     "metadata": {},
     "output_type": "execute_result"
    }
   ],
   "source": [
    "fin_result.iloc[438:440]"
   ]
  },
  {
   "cell_type": "code",
   "execution_count": 7,
   "metadata": {},
   "outputs": [
    {
     "data": {
      "text/plain": [
       "Index(['interval_end', 'shcode', 'target_day', 'target_m', 'shname',\n",
       "       'init_jupo', 'end_jupo'],\n",
       "      dtype='object')"
      ]
     },
     "execution_count": 7,
     "metadata": {},
     "output_type": "execute_result"
    }
   ],
   "source": [
    "fin_result.columns"
   ]
  },
  {
   "cell_type": "code",
   "execution_count": 54,
   "metadata": {},
   "outputs": [],
   "source": [
    "# \n",
    "a = query.query_finance(fin_result['shcode'].iloc[439])\n",
    "a['num_total'] = a['total_vol'].astype(int) * 1000\n",
    "\n",
    "# for jupo query\n",
    "b = query.query_jupo_vol(fin_result['shcode'].iloc[439], fr=fin_result['init_jupo'].iloc[439], to=fin_result['end_jupo'].iloc[439])\n",
    "\n",
    "# cumsum index\n",
    "c = b.groupby(['shcode','date']).sum().cumsum()\n",
    "# multi index to single index\n",
    "c = c.reset_index(level=['shcode','date'])\n",
    "\n",
    "# calculate max volume\n",
    "c_for_value_ratio = c[['samo_vol', 'sec_vol', 'ins_vol', 'tusin_vol', 'bank_vol',\n",
    "                       'jong_vol', 'fund_vol', 'etcom_vol', 'for_reg_vol', 'for_noreg_vol',\n",
    "                       'nat_no_vol', 'per_vol', 'com_vol', 'for_vol', 'etc_vol']] / a['num_total'].iloc[0]\n",
    "\n",
    "c['max_vol'] = c_for_value_ratio.max(axis=1)\n",
    "c['max_jupo'] = c_for_value_ratio.idxmax(axis=1)\n",
    "\n",
    "c_for_value_ratio = c_for_value_ratio.rename(columns={'samo_vol' : 'samo_vol_ratio', 'sec_vol' : 'sec_vol_ratio', \n",
    "                                  'ins_vol' : 'ins_vol_ratio', 'tusin_vol' : 'tusin_vol_ratio', 'bank_vol' : 'bank_vol_ratio',\n",
    "                                  'jong_vol' : 'jong_vol_ratio', 'fund_vol' : 'fund_vol_ratio', 'etcom_vol' : 'etcom_vol_ratio',\n",
    "                                  'for_reg_vol' : 'for_reg_vol_ratio', 'for_noreg_vol' : 'for_noreg_vol_ratio',\n",
    "                                  'nat_no_vol' : 'nat_no_vol_ratio', 'per_vol' : 'per_vol_ratio', 'com_vol' : 'com_vol_ratio',\n",
    "                                  'for_vol' : 'for_vol_ratio', 'etc_vol' : 'etc_vol_ratio'})\n",
    "\n",
    "c_final = pd.concat([c, c_for_value_ratio], axis=1) # column bind\n",
    "\n",
    "#c_for_value_ratio = c_for_value / b['num_total'].iloc[0]\n",
    "#cc = pd.concat([c[['shcode','date']], c_for_value_ratio], axis=1) # column bind\n",
    "\n",
    "#c = c.assign(max3_sum=np.sum(np.partition(c_for_value.values, -3)[:, -3:], 1))"
   ]
  },
  {
   "cell_type": "code",
   "execution_count": 39,
   "metadata": {},
   "outputs": [
    {
     "data": {
      "text/plain": [
       "Index(['date', 'shcode', 'close', 'volume', 'volume_money', 'high_52',\n",
       "       'high_52_day', 'low_52', 'low_52_day', 'rotate_ratio', 'burn_ratio',\n",
       "       'per', 'total_vol', 'ev_ratio', 'vol_scale', 'market_value'],\n",
       "      dtype='object')"
      ]
     },
     "execution_count": 39,
     "metadata": {},
     "output_type": "execute_result"
    }
   ],
   "source": [
    "b.columns"
   ]
  },
  {
   "cell_type": "code",
   "execution_count": 30,
   "metadata": {},
   "outputs": [
    {
     "data": {
      "text/plain": [
       "0    6860000\n",
       "Name: total_vol, dtype: int32"
      ]
     },
     "execution_count": 30,
     "metadata": {},
     "output_type": "execute_result"
    }
   ],
   "source": [
    "b['total_vol'].astype(int) * 1000"
   ]
  },
  {
   "cell_type": "code",
   "execution_count": 50,
   "metadata": {},
   "outputs": [
    {
     "data": {
      "text/plain": [
       "Index(['shcode', 'date', 'samo_vol', 'sec_vol', 'ins_vol', 'tusin_vol',\n",
       "       'bank_vol', 'jong_vol', 'fund_vol', 'etcom_vol', 'per_vol',\n",
       "       'for_reg_vol', 'for_noreg_vol', 'nat_no_vol', 'com_vol', 'for_vol',\n",
       "       'etc_vol', 'max_vol', 'max_jupo', 'samo_vol', 'sec_vol', 'ins_vol',\n",
       "       'tusin_vol', 'bank_vol', 'jong_vol', 'fund_vol', 'etcom_vol',\n",
       "       'for_reg_vol', 'for_noreg_vol', 'nat_no_vol', 'per_vol', 'com_vol',\n",
       "       'for_vol', 'etc_vol'],\n",
       "      dtype='object')"
      ]
     },
     "execution_count": 50,
     "metadata": {},
     "output_type": "execute_result"
    }
   ],
   "source": [
    "c_final.columns"
   ]
  },
  {
   "cell_type": "code",
   "execution_count": 55,
   "metadata": {},
   "outputs": [
    {
     "data": {
      "text/html": [
       "<div>\n",
       "<style scoped>\n",
       "    .dataframe tbody tr th:only-of-type {\n",
       "        vertical-align: middle;\n",
       "    }\n",
       "\n",
       "    .dataframe tbody tr th {\n",
       "        vertical-align: top;\n",
       "    }\n",
       "\n",
       "    .dataframe thead th {\n",
       "        text-align: right;\n",
       "    }\n",
       "</style>\n",
       "<table border=\"1\" class=\"dataframe\">\n",
       "  <thead>\n",
       "    <tr style=\"text-align: right;\">\n",
       "      <th></th>\n",
       "      <th>shcode</th>\n",
       "      <th>date</th>\n",
       "      <th>samo_vol</th>\n",
       "      <th>sec_vol</th>\n",
       "      <th>ins_vol</th>\n",
       "      <th>tusin_vol</th>\n",
       "      <th>bank_vol</th>\n",
       "      <th>jong_vol</th>\n",
       "      <th>fund_vol</th>\n",
       "      <th>etcom_vol</th>\n",
       "      <th>...</th>\n",
       "      <th>jong_vol_ratio</th>\n",
       "      <th>fund_vol_ratio</th>\n",
       "      <th>etcom_vol_ratio</th>\n",
       "      <th>for_reg_vol_ratio</th>\n",
       "      <th>for_noreg_vol_ratio</th>\n",
       "      <th>nat_no_vol_ratio</th>\n",
       "      <th>per_vol_ratio</th>\n",
       "      <th>com_vol_ratio</th>\n",
       "      <th>for_vol_ratio</th>\n",
       "      <th>etc_vol_ratio</th>\n",
       "    </tr>\n",
       "  </thead>\n",
       "  <tbody>\n",
       "    <tr>\n",
       "      <th>225</th>\n",
       "      <td>017940</td>\n",
       "      <td>20190307</td>\n",
       "      <td>2799</td>\n",
       "      <td>15035</td>\n",
       "      <td>-26881</td>\n",
       "      <td>49836</td>\n",
       "      <td>-9818</td>\n",
       "      <td>-11037</td>\n",
       "      <td>18087</td>\n",
       "      <td>-7632</td>\n",
       "      <td>...</td>\n",
       "      <td>-0.001609</td>\n",
       "      <td>0.002637</td>\n",
       "      <td>-0.001113</td>\n",
       "      <td>0.013183</td>\n",
       "      <td>-0.000005</td>\n",
       "      <td>0.000568</td>\n",
       "      <td>-0.018177</td>\n",
       "      <td>0.006111</td>\n",
       "      <td>0.013178</td>\n",
       "      <td>-0.000544</td>\n",
       "    </tr>\n",
       "    <tr>\n",
       "      <th>226</th>\n",
       "      <td>017940</td>\n",
       "      <td>20190308</td>\n",
       "      <td>2799</td>\n",
       "      <td>15186</td>\n",
       "      <td>-26718</td>\n",
       "      <td>49888</td>\n",
       "      <td>-9831</td>\n",
       "      <td>-11037</td>\n",
       "      <td>18429</td>\n",
       "      <td>-8833</td>\n",
       "      <td>...</td>\n",
       "      <td>-0.001609</td>\n",
       "      <td>0.002686</td>\n",
       "      <td>-0.001288</td>\n",
       "      <td>0.013144</td>\n",
       "      <td>-0.000005</td>\n",
       "      <td>0.000568</td>\n",
       "      <td>-0.018064</td>\n",
       "      <td>0.006212</td>\n",
       "      <td>0.013139</td>\n",
       "      <td>-0.000719</td>\n",
       "    </tr>\n",
       "    <tr>\n",
       "      <th>227</th>\n",
       "      <td>017940</td>\n",
       "      <td>20190311</td>\n",
       "      <td>2881</td>\n",
       "      <td>15385</td>\n",
       "      <td>-26621</td>\n",
       "      <td>49887</td>\n",
       "      <td>-9843</td>\n",
       "      <td>-11037</td>\n",
       "      <td>18950</td>\n",
       "      <td>-8833</td>\n",
       "      <td>...</td>\n",
       "      <td>-0.001609</td>\n",
       "      <td>0.002762</td>\n",
       "      <td>-0.001288</td>\n",
       "      <td>0.013014</td>\n",
       "      <td>-0.000005</td>\n",
       "      <td>0.000568</td>\n",
       "      <td>-0.018062</td>\n",
       "      <td>0.006341</td>\n",
       "      <td>0.013009</td>\n",
       "      <td>-0.000719</td>\n",
       "    </tr>\n",
       "    <tr>\n",
       "      <th>228</th>\n",
       "      <td>017940</td>\n",
       "      <td>20190312</td>\n",
       "      <td>2884</td>\n",
       "      <td>11146</td>\n",
       "      <td>-26213</td>\n",
       "      <td>51910</td>\n",
       "      <td>-9876</td>\n",
       "      <td>-11569</td>\n",
       "      <td>19253</td>\n",
       "      <td>-9834</td>\n",
       "      <td>...</td>\n",
       "      <td>-0.001686</td>\n",
       "      <td>0.002807</td>\n",
       "      <td>-0.001434</td>\n",
       "      <td>0.012711</td>\n",
       "      <td>-0.000007</td>\n",
       "      <td>0.000568</td>\n",
       "      <td>-0.017311</td>\n",
       "      <td>0.006040</td>\n",
       "      <td>0.012704</td>\n",
       "      <td>-0.000865</td>\n",
       "    </tr>\n",
       "    <tr>\n",
       "      <th>229</th>\n",
       "      <td>017940</td>\n",
       "      <td>20190313</td>\n",
       "      <td>-9564</td>\n",
       "      <td>-8663</td>\n",
       "      <td>-33947</td>\n",
       "      <td>49828</td>\n",
       "      <td>-9583</td>\n",
       "      <td>-11969</td>\n",
       "      <td>23373</td>\n",
       "      <td>-17702</td>\n",
       "      <td>...</td>\n",
       "      <td>-0.001745</td>\n",
       "      <td>0.003407</td>\n",
       "      <td>-0.002580</td>\n",
       "      <td>0.011332</td>\n",
       "      <td>-0.000014</td>\n",
       "      <td>0.000568</td>\n",
       "      <td>-0.009229</td>\n",
       "      <td>0.000492</td>\n",
       "      <td>0.011318</td>\n",
       "      <td>-0.002012</td>\n",
       "    </tr>\n",
       "  </tbody>\n",
       "</table>\n",
       "<p>5 rows × 34 columns</p>\n",
       "</div>"
      ],
      "text/plain": [
       "     shcode      date  samo_vol  sec_vol  ins_vol  tusin_vol  bank_vol  \\\n",
       "225  017940  20190307      2799    15035   -26881      49836     -9818   \n",
       "226  017940  20190308      2799    15186   -26718      49888     -9831   \n",
       "227  017940  20190311      2881    15385   -26621      49887     -9843   \n",
       "228  017940  20190312      2884    11146   -26213      51910     -9876   \n",
       "229  017940  20190313     -9564    -8663   -33947      49828     -9583   \n",
       "\n",
       "     jong_vol  fund_vol  etcom_vol  ...  jong_vol_ratio  fund_vol_ratio  \\\n",
       "225    -11037     18087      -7632  ...       -0.001609        0.002637   \n",
       "226    -11037     18429      -8833  ...       -0.001609        0.002686   \n",
       "227    -11037     18950      -8833  ...       -0.001609        0.002762   \n",
       "228    -11569     19253      -9834  ...       -0.001686        0.002807   \n",
       "229    -11969     23373     -17702  ...       -0.001745        0.003407   \n",
       "\n",
       "     etcom_vol_ratio  for_reg_vol_ratio  for_noreg_vol_ratio  \\\n",
       "225        -0.001113           0.013183            -0.000005   \n",
       "226        -0.001288           0.013144            -0.000005   \n",
       "227        -0.001288           0.013014            -0.000005   \n",
       "228        -0.001434           0.012711            -0.000007   \n",
       "229        -0.002580           0.011332            -0.000014   \n",
       "\n",
       "     nat_no_vol_ratio  per_vol_ratio  com_vol_ratio for_vol_ratio  \\\n",
       "225          0.000568      -0.018177       0.006111      0.013178   \n",
       "226          0.000568      -0.018064       0.006212      0.013139   \n",
       "227          0.000568      -0.018062       0.006341      0.013009   \n",
       "228          0.000568      -0.017311       0.006040      0.012704   \n",
       "229          0.000568      -0.009229       0.000492      0.011318   \n",
       "\n",
       "     etc_vol_ratio  \n",
       "225      -0.000544  \n",
       "226      -0.000719  \n",
       "227      -0.000719  \n",
       "228      -0.000865  \n",
       "229      -0.002012  \n",
       "\n",
       "[5 rows x 34 columns]"
      ]
     },
     "execution_count": 55,
     "metadata": {},
     "output_type": "execute_result"
    }
   ],
   "source": [
    "c_final.tail()"
   ]
  },
  {
   "cell_type": "code",
   "execution_count": 41,
   "metadata": {},
   "outputs": [
    {
     "data": {
      "text/plain": [
       "(230, 17)"
      ]
     },
     "execution_count": 41,
     "metadata": {},
     "output_type": "execute_result"
    }
   ],
   "source": [
    "cc.shape"
   ]
  },
  {
   "cell_type": "code",
   "execution_count": 34,
   "metadata": {
    "scrolled": true
   },
   "outputs": [
    {
     "data": {
      "text/plain": [
       "(230, 19)"
      ]
     },
     "execution_count": 34,
     "metadata": {},
     "output_type": "execute_result"
    }
   ],
   "source": [
    "c.shape"
   ]
  },
  {
   "cell_type": "code",
   "execution_count": 46,
   "metadata": {},
   "outputs": [
    {
     "data": {
      "text/html": [
       "<div>\n",
       "<style scoped>\n",
       "    .dataframe tbody tr th:only-of-type {\n",
       "        vertical-align: middle;\n",
       "    }\n",
       "\n",
       "    .dataframe tbody tr th {\n",
       "        vertical-align: top;\n",
       "    }\n",
       "\n",
       "    .dataframe thead th {\n",
       "        text-align: right;\n",
       "    }\n",
       "</style>\n",
       "<table border=\"1\" class=\"dataframe\">\n",
       "  <thead>\n",
       "    <tr style=\"text-align: right;\">\n",
       "      <th></th>\n",
       "      <th>shcode</th>\n",
       "      <th>date</th>\n",
       "      <th>samo_vol</th>\n",
       "      <th>sec_vol</th>\n",
       "      <th>ins_vol</th>\n",
       "      <th>tusin_vol</th>\n",
       "      <th>bank_vol</th>\n",
       "      <th>jong_vol</th>\n",
       "      <th>fund_vol</th>\n",
       "      <th>etcom_vol</th>\n",
       "      <th>per_vol</th>\n",
       "      <th>for_reg_vol</th>\n",
       "      <th>for_noreg_vol</th>\n",
       "      <th>nat_no_vol</th>\n",
       "      <th>com_vol</th>\n",
       "      <th>for_vol</th>\n",
       "      <th>etc_vol</th>\n",
       "      <th>max_vol</th>\n",
       "      <th>max_jupo</th>\n",
       "    </tr>\n",
       "  </thead>\n",
       "  <tbody>\n",
       "    <tr>\n",
       "      <th>225</th>\n",
       "      <td>017940</td>\n",
       "      <td>20190307</td>\n",
       "      <td>2799</td>\n",
       "      <td>15035</td>\n",
       "      <td>-26881</td>\n",
       "      <td>49836</td>\n",
       "      <td>-9818</td>\n",
       "      <td>-11037</td>\n",
       "      <td>18087</td>\n",
       "      <td>-7632</td>\n",
       "      <td>-124691</td>\n",
       "      <td>90436</td>\n",
       "      <td>-33</td>\n",
       "      <td>3899</td>\n",
       "      <td>41920</td>\n",
       "      <td>90403</td>\n",
       "      <td>-3733</td>\n",
       "      <td>0.013183</td>\n",
       "      <td>for_reg_vol</td>\n",
       "    </tr>\n",
       "    <tr>\n",
       "      <th>226</th>\n",
       "      <td>017940</td>\n",
       "      <td>20190308</td>\n",
       "      <td>2799</td>\n",
       "      <td>15186</td>\n",
       "      <td>-26718</td>\n",
       "      <td>49888</td>\n",
       "      <td>-9831</td>\n",
       "      <td>-11037</td>\n",
       "      <td>18429</td>\n",
       "      <td>-8833</td>\n",
       "      <td>-123918</td>\n",
       "      <td>90169</td>\n",
       "      <td>-33</td>\n",
       "      <td>3899</td>\n",
       "      <td>42615</td>\n",
       "      <td>90136</td>\n",
       "      <td>-4934</td>\n",
       "      <td>0.013144</td>\n",
       "      <td>for_reg_vol</td>\n",
       "    </tr>\n",
       "    <tr>\n",
       "      <th>227</th>\n",
       "      <td>017940</td>\n",
       "      <td>20190311</td>\n",
       "      <td>2881</td>\n",
       "      <td>15385</td>\n",
       "      <td>-26621</td>\n",
       "      <td>49887</td>\n",
       "      <td>-9843</td>\n",
       "      <td>-11037</td>\n",
       "      <td>18950</td>\n",
       "      <td>-8833</td>\n",
       "      <td>-123907</td>\n",
       "      <td>89274</td>\n",
       "      <td>-35</td>\n",
       "      <td>3899</td>\n",
       "      <td>43501</td>\n",
       "      <td>89239</td>\n",
       "      <td>-4934</td>\n",
       "      <td>0.013014</td>\n",
       "      <td>for_reg_vol</td>\n",
       "    </tr>\n",
       "    <tr>\n",
       "      <th>228</th>\n",
       "      <td>017940</td>\n",
       "      <td>20190312</td>\n",
       "      <td>2884</td>\n",
       "      <td>11146</td>\n",
       "      <td>-26213</td>\n",
       "      <td>51910</td>\n",
       "      <td>-9876</td>\n",
       "      <td>-11569</td>\n",
       "      <td>19253</td>\n",
       "      <td>-9834</td>\n",
       "      <td>-118751</td>\n",
       "      <td>87197</td>\n",
       "      <td>-46</td>\n",
       "      <td>3899</td>\n",
       "      <td>41434</td>\n",
       "      <td>87151</td>\n",
       "      <td>-5935</td>\n",
       "      <td>0.012711</td>\n",
       "      <td>for_reg_vol</td>\n",
       "    </tr>\n",
       "    <tr>\n",
       "      <th>229</th>\n",
       "      <td>017940</td>\n",
       "      <td>20190313</td>\n",
       "      <td>-9564</td>\n",
       "      <td>-8663</td>\n",
       "      <td>-33947</td>\n",
       "      <td>49828</td>\n",
       "      <td>-9583</td>\n",
       "      <td>-11969</td>\n",
       "      <td>23373</td>\n",
       "      <td>-17702</td>\n",
       "      <td>-63313</td>\n",
       "      <td>77737</td>\n",
       "      <td>-96</td>\n",
       "      <td>3899</td>\n",
       "      <td>3374</td>\n",
       "      <td>77641</td>\n",
       "      <td>-13803</td>\n",
       "      <td>0.011332</td>\n",
       "      <td>for_reg_vol</td>\n",
       "    </tr>\n",
       "  </tbody>\n",
       "</table>\n",
       "</div>"
      ],
      "text/plain": [
       "     shcode      date  samo_vol  sec_vol  ins_vol  tusin_vol  bank_vol  \\\n",
       "225  017940  20190307      2799    15035   -26881      49836     -9818   \n",
       "226  017940  20190308      2799    15186   -26718      49888     -9831   \n",
       "227  017940  20190311      2881    15385   -26621      49887     -9843   \n",
       "228  017940  20190312      2884    11146   -26213      51910     -9876   \n",
       "229  017940  20190313     -9564    -8663   -33947      49828     -9583   \n",
       "\n",
       "     jong_vol  fund_vol  etcom_vol  per_vol  for_reg_vol  for_noreg_vol  \\\n",
       "225    -11037     18087      -7632  -124691        90436            -33   \n",
       "226    -11037     18429      -8833  -123918        90169            -33   \n",
       "227    -11037     18950      -8833  -123907        89274            -35   \n",
       "228    -11569     19253      -9834  -118751        87197            -46   \n",
       "229    -11969     23373     -17702   -63313        77737            -96   \n",
       "\n",
       "     nat_no_vol  com_vol  for_vol  etc_vol   max_vol     max_jupo  \n",
       "225        3899    41920    90403    -3733  0.013183  for_reg_vol  \n",
       "226        3899    42615    90136    -4934  0.013144  for_reg_vol  \n",
       "227        3899    43501    89239    -4934  0.013014  for_reg_vol  \n",
       "228        3899    41434    87151    -5935  0.012711  for_reg_vol  \n",
       "229        3899     3374    77641   -13803  0.011332  for_reg_vol  "
      ]
     },
     "execution_count": 46,
     "metadata": {},
     "output_type": "execute_result"
    }
   ],
   "source": [
    "c.tail()"
   ]
  },
  {
   "cell_type": "code",
   "execution_count": null,
   "metadata": {},
   "outputs": [],
   "source": [
    "13905000 - 4056934"
   ]
  },
  {
   "cell_type": "code",
   "execution_count": 56,
   "metadata": {
    "scrolled": true
   },
   "outputs": [
    {
     "data": {
      "text/plain": [
       "0          768\n",
       "1         1391\n",
       "2         4713\n",
       "3         8197\n",
       "4         5364\n",
       "5         5952\n",
       "6         9889\n",
       "7         3784\n",
       "8         4281\n",
       "9         6685\n",
       "10        5017\n",
       "11      -12412\n",
       "12      -20046\n",
       "13      -21852\n",
       "14      -31687\n",
       "15      -28676\n",
       "16      -36482\n",
       "17      -40789\n",
       "18      -44662\n",
       "19       14222\n",
       "20       62999\n",
       "21       61665\n",
       "22       68318\n",
       "23       70326\n",
       "24       60426\n",
       "25       55683\n",
       "26       52569\n",
       "27       40983\n",
       "28       34815\n",
       "29       23644\n",
       "        ...   \n",
       "216     209352\n",
       "217     341543\n",
       "218     271352\n",
       "219     510918\n",
       "220     859740\n",
       "221     884779\n",
       "222     897740\n",
       "223     914734\n",
       "224     947794\n",
       "225    1002866\n",
       "226    1002083\n",
       "227    1030267\n",
       "228    1133791\n",
       "229    1090623\n",
       "230    1146198\n",
       "231    1153030\n",
       "232    1296123\n",
       "233    1334199\n",
       "234    1313963\n",
       "235    1468573\n",
       "236    1475529\n",
       "237    1455159\n",
       "238    1392198\n",
       "239    1440078\n",
       "240    1506026\n",
       "241    1443628\n",
       "242    1416555\n",
       "243    1398161\n",
       "244    1392433\n",
       "245    1403282\n",
       "Length: 246, dtype: int64"
      ]
     },
     "execution_count": 56,
     "metadata": {},
     "output_type": "execute_result"
    }
   ],
   "source": [
    "c_sam2 = c[['samo_vol', 'sec_vol', 'ins_vol', 'tusin_vol', 'bank_vol',\n",
    "           'jong_vol', 'fund_vol', 'etcom_vol', 'per_vol', 'for_reg_vol',\n",
    "           'for_noreg_vol', 'nat_no_vol', 'com_vol', 'for_vol', 'etc_vol']]\n",
    "c_sam2.sum(axis=1)"
   ]
  },
  {
   "cell_type": "code",
   "execution_count": 46,
   "metadata": {},
   "outputs": [],
   "source": [
    "c_sam = c[['samo_vol', 'sec_vol', 'ins_vol', 'tusin_vol', 'bank_vol',\n",
    "           'jong_vol', 'fund_vol', 'etcom_vol', 'per_vol', 'for_reg_vol',\n",
    "           'for_noreg_vol', 'nat_no_vol', 'com_vol', 'for_vol', 'etc_vol']].iloc[245]"
   ]
  },
  {
   "cell_type": "code",
   "execution_count": 48,
   "metadata": {},
   "outputs": [
    {
     "data": {
      "text/plain": [
       "samo_vol         -757529\n",
       "sec_vol           -83176\n",
       "ins_vol           157171\n",
       "tusin_vol         620899\n",
       "bank_vol            7840\n",
       "jong_vol         -152048\n",
       "fund_vol          293159\n",
       "etcom_vol           6385\n",
       "per_vol         -1403282\n",
       "for_reg_vol      1308754\n",
       "for_noreg_vol       1827\n",
       "nat_no_vol             0\n",
       "com_vol            86316\n",
       "for_vol          1310581\n",
       "etc_vol             6385\n",
       "Name: 245, dtype: int64"
      ]
     },
     "execution_count": 48,
     "metadata": {},
     "output_type": "execute_result"
    }
   ],
   "source": [
    "c_sam"
   ]
  },
  {
   "cell_type": "code",
   "execution_count": 51,
   "metadata": {},
   "outputs": [
    {
     "data": {
      "text/plain": [
       "1403282"
      ]
     },
     "execution_count": 51,
     "metadata": {},
     "output_type": "execute_result"
    }
   ],
   "source": [
    "c_sam.sum(axis=0)"
   ]
  },
  {
   "cell_type": "code",
   "execution_count": 41,
   "metadata": {},
   "outputs": [
    {
     "data": {
      "text/plain": [
       "0.09425249910104279"
      ]
     },
     "execution_count": 41,
     "metadata": {},
     "output_type": "execute_result"
    }
   ],
   "source": [
    "# 외인\n",
    "1310581 / 13905000"
   ]
  },
  {
   "cell_type": "code",
   "execution_count": null,
   "metadata": {},
   "outputs": [],
   "source": [
    "1403282 / 13905000"
   ]
  },
  {
   "cell_type": "code",
   "execution_count": 44,
   "metadata": {},
   "outputs": [
    {
     "data": {
      "text/plain": [
       "0.23302653721682848"
      ]
     },
     "execution_count": 44,
     "metadata": {},
     "output_type": "execute_result"
    }
   ],
   "source": [
    "# 투신\n",
    "3240234 / 13905000"
   ]
  },
  {
   "cell_type": "code",
   "execution_count": 65,
   "metadata": {},
   "outputs": [
    {
     "data": {
      "text/plain": [
       "9848061"
      ]
     },
     "execution_count": 65,
     "metadata": {},
     "output_type": "execute_result"
    }
   ],
   "source": [
    "13905000 - 4056939"
   ]
  },
  {
   "cell_type": "code",
   "execution_count": 67,
   "metadata": {},
   "outputs": [
    {
     "data": {
      "text/plain": [
       "0.11154713603012817"
      ]
     },
     "execution_count": 67,
     "metadata": {},
     "output_type": "execute_result"
    }
   ],
   "source": [
    "1098523 / 9848061"
   ]
  },
  {
   "cell_type": "code",
   "execution_count": 16,
   "metadata": {},
   "outputs": [],
   "source": [
    "b = query.query_finance(fin_result['shcode'].iloc[414])"
   ]
  },
  {
   "cell_type": "code",
   "execution_count": 17,
   "metadata": {},
   "outputs": [
    {
     "data": {
      "text/html": [
       "<div>\n",
       "<style scoped>\n",
       "    .dataframe tbody tr th:only-of-type {\n",
       "        vertical-align: middle;\n",
       "    }\n",
       "\n",
       "    .dataframe tbody tr th {\n",
       "        vertical-align: top;\n",
       "    }\n",
       "\n",
       "    .dataframe thead th {\n",
       "        text-align: right;\n",
       "    }\n",
       "</style>\n",
       "<table border=\"1\" class=\"dataframe\">\n",
       "  <thead>\n",
       "    <tr style=\"text-align: right;\">\n",
       "      <th></th>\n",
       "      <th>date</th>\n",
       "      <th>shcode</th>\n",
       "      <th>close</th>\n",
       "      <th>volume</th>\n",
       "      <th>volume_money</th>\n",
       "      <th>high_52</th>\n",
       "      <th>high_52_day</th>\n",
       "      <th>low_52</th>\n",
       "      <th>low_52_day</th>\n",
       "      <th>rotate_ratio</th>\n",
       "      <th>burn_ratio</th>\n",
       "      <th>per</th>\n",
       "      <th>total_vol</th>\n",
       "      <th>ev_ratio</th>\n",
       "      <th>vol_scale</th>\n",
       "      <th>market_value</th>\n",
       "    </tr>\n",
       "  </thead>\n",
       "  <tbody>\n",
       "    <tr>\n",
       "      <th>0</th>\n",
       "      <td>20191203</td>\n",
       "      <td>079960</td>\n",
       "      <td>17350</td>\n",
       "      <td>145243</td>\n",
       "      <td>2469</td>\n",
       "      <td>19500</td>\n",
       "      <td>20191119</td>\n",
       "      <td>9000</td>\n",
       "      <td>20190107</td>\n",
       "      <td>15.95</td>\n",
       "      <td>1.85</td>\n",
       "      <td>22.73</td>\n",
       "      <td>7860</td>\n",
       "      <td>40</td>\n",
       "      <td>00001</td>\n",
       "      <td>1348</td>\n",
       "    </tr>\n",
       "  </tbody>\n",
       "</table>\n",
       "</div>"
      ],
      "text/plain": [
       "       date  shcode  close  volume volume_money high_52 high_52_day low_52  \\\n",
       "0  20191203  079960  17350  145243         2469   19500    20191119   9000   \n",
       "\n",
       "  low_52_day rotate_ratio burn_ratio    per total_vol ev_ratio vol_scale  \\\n",
       "0   20190107        15.95       1.85  22.73      7860       40     00001   \n",
       "\n",
       "  market_value  \n",
       "0         1348  "
      ]
     },
     "execution_count": 17,
     "metadata": {},
     "output_type": "execute_result"
    }
   ],
   "source": [
    "b"
   ]
  },
  {
   "cell_type": "code",
   "execution_count": 35,
   "metadata": {},
   "outputs": [
    {
     "data": {
      "text/html": [
       "<div>\n",
       "<style scoped>\n",
       "    .dataframe tbody tr th:only-of-type {\n",
       "        vertical-align: middle;\n",
       "    }\n",
       "\n",
       "    .dataframe tbody tr th {\n",
       "        vertical-align: top;\n",
       "    }\n",
       "\n",
       "    .dataframe thead th {\n",
       "        text-align: right;\n",
       "    }\n",
       "</style>\n",
       "<table border=\"1\" class=\"dataframe\">\n",
       "  <thead>\n",
       "    <tr style=\"text-align: right;\">\n",
       "      <th></th>\n",
       "      <th>date</th>\n",
       "      <th>shcode</th>\n",
       "      <th>close</th>\n",
       "      <th>volume</th>\n",
       "      <th>volume_money</th>\n",
       "      <th>high_52</th>\n",
       "      <th>high_52_day</th>\n",
       "      <th>low_52</th>\n",
       "      <th>low_52_day</th>\n",
       "      <th>rotate_ratio</th>\n",
       "      <th>burn_ratio</th>\n",
       "      <th>per</th>\n",
       "      <th>total_vol</th>\n",
       "      <th>ev_ratio</th>\n",
       "      <th>vol_scale</th>\n",
       "      <th>market_value</th>\n",
       "    </tr>\n",
       "  </thead>\n",
       "  <tbody>\n",
       "    <tr>\n",
       "      <th>0</th>\n",
       "      <td>20191203</td>\n",
       "      <td>089010</td>\n",
       "      <td>16300</td>\n",
       "      <td>440065</td>\n",
       "      <td>7079</td>\n",
       "      <td>18500</td>\n",
       "      <td>20191119</td>\n",
       "      <td>5230</td>\n",
       "      <td>20181226</td>\n",
       "      <td>13.93</td>\n",
       "      <td>3.16</td>\n",
       "      <td>103.49</td>\n",
       "      <td>13905</td>\n",
       "      <td>40</td>\n",
       "      <td>00001</td>\n",
       "      <td>2225</td>\n",
       "    </tr>\n",
       "  </tbody>\n",
       "</table>\n",
       "</div>"
      ],
      "text/plain": [
       "       date  shcode  close  volume volume_money high_52 high_52_day low_52  \\\n",
       "0  20191203  089010  16300  440065         7079   18500    20191119   5230   \n",
       "\n",
       "  low_52_day rotate_ratio burn_ratio     per total_vol ev_ratio vol_scale  \\\n",
       "0   20181226        13.93       3.16  103.49     13905       40     00001   \n",
       "\n",
       "  market_value  \n",
       "0         2225  "
      ]
     },
     "execution_count": 35,
     "metadata": {},
     "output_type": "execute_result"
    }
   ],
   "source": [
    "query.query_finance(fin_result['shcode'].iloc[439])"
   ]
  },
  {
   "cell_type": "code",
   "execution_count": 23,
   "metadata": {},
   "outputs": [
    {
     "data": {
      "text/plain": [
       "str"
      ]
     },
     "execution_count": 23,
     "metadata": {},
     "output_type": "execute_result"
    }
   ],
   "source": [
    "#상장주식수\n",
    "type(b['total_vol'].iloc[0])"
   ]
  },
  {
   "cell_type": "code",
   "execution_count": 25,
   "metadata": {},
   "outputs": [
    {
     "data": {
      "text/plain": [
       "shcode             079960\n",
       "date             20191115\n",
       "samo_vol            48992\n",
       "sec_vol             99560\n",
       "ins_vol              1584\n",
       "tusin_vol           31333\n",
       "bank_vol           -90339\n",
       "jong_vol             1224\n",
       "fund_vol            -1584\n",
       "etcom_vol           21943\n",
       "per_vol            229600\n",
       "for_reg_vol       -329458\n",
       "for_noreg_vol      -12855\n",
       "nat_no_vol              0\n",
       "com_vol             90770\n",
       "for_vol           -342313\n",
       "etc_vol             21943\n",
       "max_vol            229600\n",
       "max_jupo          per_vol\n",
       "max3_sum           419930\n",
       "Name: 235, dtype: object"
      ]
     },
     "execution_count": 25,
     "metadata": {},
     "output_type": "execute_result"
    }
   ],
   "source": [
    "c.iloc[235]"
   ]
  },
  {
   "cell_type": "code",
   "execution_count": 28,
   "metadata": {},
   "outputs": [
    {
     "data": {
      "text/plain": [
       "0.05342620865139949"
      ]
     },
     "execution_count": 28,
     "metadata": {},
     "output_type": "execute_result"
    }
   ],
   "source": [
    "419930 / 7860000"
   ]
  },
  {
   "cell_type": "code",
   "execution_count": 24,
   "metadata": {},
   "outputs": [
    {
     "data": {
      "text/plain": [
       "0    7860000\n",
       "Name: total_vol, dtype: int32"
      ]
     },
     "execution_count": 24,
     "metadata": {},
     "output_type": "execute_result"
    }
   ],
   "source": [
    "b['total_vol'].astype(int) * 1000"
   ]
  },
  {
   "cell_type": "code",
   "execution_count": null,
   "metadata": {},
   "outputs": [],
   "source": []
  },
  {
   "cell_type": "code",
   "execution_count": null,
   "metadata": {},
   "outputs": [],
   "source": [
    "'최고가_52','최고가일_52','최저가_52','최저가일_52','소진율','회전율','PER'\n",
    "'상장주식수_천','증거금율','수량단위',"
   ]
  },
  {
   "cell_type": "code",
   "execution_count": null,
   "metadata": {},
   "outputs": [],
   "source": []
  }
 ],
 "metadata": {
  "kernelspec": {
   "display_name": "Python 3",
   "language": "python",
   "name": "python3"
  },
  "language_info": {
   "codemirror_mode": {
    "name": "ipython",
    "version": 3
   },
   "file_extension": ".py",
   "mimetype": "text/x-python",
   "name": "python",
   "nbconvert_exporter": "python",
   "pygments_lexer": "ipython3",
   "version": "3.6.8"
  }
 },
 "nbformat": 4,
 "nbformat_minor": 2
}
