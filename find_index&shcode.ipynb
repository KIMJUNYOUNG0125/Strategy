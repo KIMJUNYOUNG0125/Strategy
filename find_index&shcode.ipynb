{
 "cells": [
  {
   "cell_type": "code",
   "execution_count": 1,
   "metadata": {},
   "outputs": [],
   "source": [
    "import sqlite3\n",
    "import time\n",
    "import pandas as pd\n",
    "import numpy as np\n",
    "\n",
    "from datetime import datetime"
   ]
  },
  {
   "cell_type": "markdown",
   "metadata": {},
   "source": [
    "종목코드열람"
   ]
  },
  {
   "cell_type": "code",
   "execution_count": 2,
   "metadata": {},
   "outputs": [],
   "source": [
    "# SQLite DB 연결\n",
    "conn = sqlite3.connect(\"t8430.db\")\n",
    "# Connection 으로부터 Cursor 생성\n",
    "cur = conn.cursor()\n",
    "# SQL 쿼리 실행\n",
    "query = \"select distinct 종목명, 종목코드 \\\n",
    "        from 종목코드 ;\"\n",
    "        #where 종목코드 = '%s'; \" % '000020'\n",
    "cur.execute(query)\n",
    "# 데이타 Fetch\n",
    "rows = cur.fetchall()\n",
    "shcode_list = pd.DataFrame(rows, columns = ['종목명', '종목코드'])\n",
    "# Connection 닫기\n",
    "conn.close()"
   ]
  },
  {
   "cell_type": "markdown",
   "metadata": {},
   "source": [
    "시세데이터 뽑기"
   ]
  },
  {
   "cell_type": "code",
   "execution_count": 3,
   "metadata": {},
   "outputs": [],
   "source": [
    "def query_ohlcv(shcode):\n",
    "    # SQLite DB 연결\n",
    "    conn = sqlite3.connect(\"t1305_1.db\")\n",
    "    # Connection 으로부터 Cursor 생성\n",
    "    cur = conn.cursor()\n",
    "    # SQL 쿼리 실행\n",
    "    query = \"select 일자, 시가, 고가, 저가, 종가, 누적거래량 \\\n",
    "            from 종목별체결조회 \\\n",
    "            where 1=1 \\\n",
    "            and 일자 between '20190101' and '20190927'\\\n",
    "            and 종목코드 = '%s' \\\n",
    "            and 일주월구분 = '%s' ;\" % (shcode,'1')\n",
    "    cur.execute(query)\n",
    "    # 데이타 Fetch\n",
    "    query_result = cur.fetchall()\n",
    "    fin_result = pd.DataFrame(query_result, columns = ['date', 'open', 'high', 'low', 'close', 'volume'])\n",
    "    # Connection 닫기\n",
    "    daily = fin_result.sort_values(by = ['date']).reset_index(drop = True)\n",
    "    conn.close()\n",
    "    return daily"
   ]
  },
  {
   "cell_type": "code",
   "execution_count": 4,
   "metadata": {},
   "outputs": [],
   "source": [
    "# array_df: numpy array date, open, high, low, close, volume\n",
    "def fun_incresing_ratio_test(array_df, limit = 0.15):\n",
    "    #1) 종가비율 limit 이상\n",
    "    ratio_list = [y/x-1 for x, y in zip(array_df[:,4][:-1], array_df[:,4][1:])]\n",
    "    ratio_test = np.array([i >= limit for i in ratio_list])\n",
    "    ratio_test = np.insert(ratio_test, 0 , 0)\n",
    "    return ratio_test"
   ]
  },
  {
   "cell_type": "code",
   "execution_count": 5,
   "metadata": {},
   "outputs": [],
   "source": [
    "def fun_total_volume_test(array_df, min_total_volume = 30000000000):\n",
    "    \n",
    "    #2) 해당날 거래대금 300억 이상 거래대금 = 종가 * 거래량\n",
    "    total_volume_list = array_df[:,4] * array_df[:,5]\n",
    "    total_volume_test = [i >= min_total_volume  for i in total_volume_list]\n",
    "    total_volume_test = np.array(total_volume_test[:])\n",
    "    return total_volume_test\n"
   ]
  },
  {
   "cell_type": "code",
   "execution_count": 6,
   "metadata": {},
   "outputs": [],
   "source": [
    "def fun_average_volume_test(array_df, ratio_test, total_volume_test):\n",
    "    #3) 급등시점 전 평균 20일간 거래량의 1000%\n",
    "    average_volume_list = ratio_test * total_volume_test\n",
    "    average_volume_list_index = [ i for i,v in enumerate(average_volume_list) if v == True]\n",
    "    \n",
    "    average_volume_test = np.array([0 for i in range(len(average_volume_list))])\n",
    "    \n",
    "    for ind in average_volume_list_index:\n",
    "        if ind < 20:\n",
    "            average_vol =  array_df[:,5][:ind].sum() / ind\n",
    "        else:\n",
    "            average_vol =  array_df[:,5][ind-20:ind].sum() / 20\n",
    "        if array_df[:,5][ind] >= average_vol * 10:\n",
    "            average_volume_test[ind] = 1\n",
    "            \n",
    "    return average_volume_test"
   ]
  },
  {
   "cell_type": "code",
   "execution_count": 8,
   "metadata": {},
   "outputs": [
    {
     "data": {
      "text/html": [
       "<div>\n",
       "<style scoped>\n",
       "    .dataframe tbody tr th:only-of-type {\n",
       "        vertical-align: middle;\n",
       "    }\n",
       "\n",
       "    .dataframe tbody tr th {\n",
       "        vertical-align: top;\n",
       "    }\n",
       "\n",
       "    .dataframe thead th {\n",
       "        text-align: right;\n",
       "    }\n",
       "</style>\n",
       "<table border=\"1\" class=\"dataframe\">\n",
       "  <thead>\n",
       "    <tr style=\"text-align: right;\">\n",
       "      <th></th>\n",
       "      <th>date</th>\n",
       "      <th>open</th>\n",
       "      <th>high</th>\n",
       "      <th>low</th>\n",
       "      <th>close</th>\n",
       "      <th>volume</th>\n",
       "    </tr>\n",
       "  </thead>\n",
       "  <tbody>\n",
       "    <tr>\n",
       "      <th>0</th>\n",
       "      <td>20190102</td>\n",
       "      <td>9190</td>\n",
       "      <td>9430</td>\n",
       "      <td>9080</td>\n",
       "      <td>9340</td>\n",
       "      <td>88403</td>\n",
       "    </tr>\n",
       "    <tr>\n",
       "      <th>1</th>\n",
       "      <td>20190103</td>\n",
       "      <td>9340</td>\n",
       "      <td>9390</td>\n",
       "      <td>9130</td>\n",
       "      <td>9170</td>\n",
       "      <td>54992</td>\n",
       "    </tr>\n",
       "    <tr>\n",
       "      <th>2</th>\n",
       "      <td>20190104</td>\n",
       "      <td>9100</td>\n",
       "      <td>9700</td>\n",
       "      <td>9100</td>\n",
       "      <td>9530</td>\n",
       "      <td>115336</td>\n",
       "    </tr>\n",
       "    <tr>\n",
       "      <th>3</th>\n",
       "      <td>20190107</td>\n",
       "      <td>9660</td>\n",
       "      <td>9800</td>\n",
       "      <td>9510</td>\n",
       "      <td>9530</td>\n",
       "      <td>107912</td>\n",
       "    </tr>\n",
       "    <tr>\n",
       "      <th>4</th>\n",
       "      <td>20190108</td>\n",
       "      <td>9610</td>\n",
       "      <td>9640</td>\n",
       "      <td>9320</td>\n",
       "      <td>9520</td>\n",
       "      <td>108681</td>\n",
       "    </tr>\n",
       "  </tbody>\n",
       "</table>\n",
       "</div>"
      ],
      "text/plain": [
       "       date  open  high   low  close  volume\n",
       "0  20190102  9190  9430  9080   9340   88403\n",
       "1  20190103  9340  9390  9130   9170   54992\n",
       "2  20190104  9100  9700  9100   9530  115336\n",
       "3  20190107  9660  9800  9510   9530  107912\n",
       "4  20190108  9610  9640  9320   9520  108681"
      ]
     },
     "execution_count": 8,
     "metadata": {},
     "output_type": "execute_result"
    }
   ],
   "source": [
    "daily_data = query_ohlcv(shcode_list['종목코드'].iloc[0])\n",
    "daily_data.head()"
   ]
  },
  {
   "cell_type": "code",
   "execution_count": null,
   "metadata": {},
   "outputs": [],
   "source": [
    "result = pd.DataFrame([], columns= ['shcode',\"index\"])\n",
    "high_ratio = 0.15\n",
    "volume_money = 30000000000\n",
    "\n",
    "for i, v in enumerate(shcode_list['종목코드']):\n",
    "    \n",
    "    now = datetime.now()\n",
    "    now_time = '%s-%s-%s_%s:%s:%s' % ( now.year, now.month, now.day, now.hour, now.minute, now.second)\n",
    "    print('------------------- test 시작_%s : , %s , %s , %s -------------------  ' %(now_time, i, v, shcode_list['종목명'].iloc[i]))\n",
    "    \n",
    "    daily_data = query_ohlcv(v)\n",
    "    array_daily = np.array(daily_data)\n",
    "    \n",
    "    ratio_test = fun_incresing_ratio_test(array_daily, limit = high_ratio)\n",
    "    if any(ratio_test) != 1:\n",
    "        print('X_1. ratio_test 없음 %s , %s , %s' %( i, v, shcode_list['종목명'].iloc[i]))        \n",
    "        continue\n",
    "    print('O_1. ratio_test 통과 %s , %s , %s' %( i, v, shcode_list['종목명'].iloc[i]))  \n",
    "    \n",
    "    total_volume_test = fun_total_volume_test(array_daily, min_total_volume = volume_money)\n",
    "    if any(total_volume_test) != 1:\n",
    "        print('X_2. total_volume_test 없음 %s , %s , %s' %( i, v, shcode_list['종목명'].iloc[i]))         \n",
    "        continue\n",
    "    print('O_2. total_volume_test 통과 %s , %s , %s' %( i, v, shcode_list['종목명'].iloc[i])) \n",
    "    \n",
    "    average_volume_test = fun_average_volume_test(array_daily, ratio_test, total_volume_test)\n",
    "    if any(average_volume_test) != 1:\n",
    "        print('X_3. average_volume_test 없음 %s , %s , %s' %( i, v, shcode_list['종목명'].iloc[i]))            \n",
    "        continue\n",
    "    print('O_3. average_volume_test 통과 %s , %s , %s' %( i, v, shcode_list['종목명'].iloc[i]))     \n",
    "    \n",
    "    result_test = ratio_test * total_volume_test * average_volume_test\n",
    "    final_index = np.where(result_test==1)\n",
    "    final_value = \" \".join(str(x) for x in final_index[0])\n",
    "    \n",
    "    test_result = pd.DataFrame([[v,final_value]], columns= ['shcode',\"index\"])\n",
    "    result = result.append(test_result, ignore_index = True)\n",
    "\n",
    "    print('------------------- test 완료 : , %s , %s , %s ------------------- ' %(i, v, shcode_list['종목명'].iloc[i]))\n",
    "\n",
    "filename = 'high_ratio'+'_'+str(high_ratio)+'_' + 'volume_money'+'_'+str(volume_money)+ '.csv'\n",
    "result.to_csv(filename, sep=',')"
   ]
  }
 ],
 "metadata": {
  "kernelspec": {
   "display_name": "Python 3",
   "language": "python",
   "name": "python3"
  },
  "language_info": {
   "codemirror_mode": {
    "name": "ipython",
    "version": 3
   },
   "file_extension": ".py",
   "mimetype": "text/x-python",
   "name": "python",
   "nbconvert_exporter": "python",
   "pygments_lexer": "ipython3",
   "version": "3.6.8"
  }
 },
 "nbformat": 4,
 "nbformat_minor": 2
}
