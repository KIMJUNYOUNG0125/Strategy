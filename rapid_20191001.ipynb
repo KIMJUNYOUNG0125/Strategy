{
 "cells": [
  {
   "cell_type": "code",
   "execution_count": 1,
   "metadata": {},
   "outputs": [],
   "source": [
    "import sqlite3\n",
    "import os\n",
    "import sys\n",
    "import time\n",
    "import pandas as pd\n",
    "import numpy as np\n",
    "import preprocesser\n",
    "\n",
    "import datetime\n",
    "from dateutil.parser import parse"
   ]
  },
  {
   "cell_type": "code",
   "execution_count": 11,
   "metadata": {},
   "outputs": [],
   "source": [
    "import talib"
   ]
  },
  {
   "cell_type": "code",
   "execution_count": 2,
   "metadata": {},
   "outputs": [],
   "source": [
    "MARKET_KOSPI   = 0\n",
    "MARKET_KOSDAQ  = 10"
   ]
  },
  {
   "cell_type": "code",
   "execution_count": 2,
   "metadata": {},
   "outputs": [],
   "source": [
    "#chart_data = pd.read_csv('C:\\\\Users\\\\JUNKIM\\\\python\\\\02.stock\\\\gatherer_junkim\\\\000000.csv')\n",
    "chart_data = pd.read_csv('C:\\\\Users\\\\312263\\\\Desktop\\\\python\\\\03_stock\\\\000000.csv')\n",
    "chart_data.columns = ['date', 'open', 'high', 'low', 'close', 'volume']"
   ]
  },
  {
   "cell_type": "markdown",
   "metadata": {},
   "source": [
    "종목코드열람"
   ]
  },
  {
   "cell_type": "code",
   "execution_count": 3,
   "metadata": {},
   "outputs": [],
   "source": [
    "# SQLite DB 연결\n",
    "conn = sqlite3.connect(\"t8430.db\")\n",
    "# Connection 으로부터 Cursor 생성\n",
    "cur = conn.cursor()\n",
    "# SQL 쿼리 실행\n",
    "query = \"select distinct 종목명, 종목코드 \\\n",
    "        from 종목코드 ;\"\n",
    "        #where 종목코드 = '%s'; \" % '000020'\n",
    "cur.execute(query)\n",
    "# 데이타 Fetch\n",
    "rows = cur.fetchall()\n",
    "shcode_list = pd.DataFrame(rows, columns = ['종목명', '종목코드'])\n",
    "# Connection 닫기\n",
    "conn.close()"
   ]
  },
  {
   "cell_type": "code",
   "execution_count": 4,
   "metadata": {
    "scrolled": true
   },
   "outputs": [
    {
     "data": {
      "text/html": [
       "<div>\n",
       "<style scoped>\n",
       "    .dataframe tbody tr th:only-of-type {\n",
       "        vertical-align: middle;\n",
       "    }\n",
       "\n",
       "    .dataframe tbody tr th {\n",
       "        vertical-align: top;\n",
       "    }\n",
       "\n",
       "    .dataframe thead th {\n",
       "        text-align: right;\n",
       "    }\n",
       "</style>\n",
       "<table border=\"1\" class=\"dataframe\">\n",
       "  <thead>\n",
       "    <tr style=\"text-align: right;\">\n",
       "      <th></th>\n",
       "      <th>종목명</th>\n",
       "      <th>종목코드</th>\n",
       "    </tr>\n",
       "  </thead>\n",
       "  <tbody>\n",
       "    <tr>\n",
       "      <th>0</th>\n",
       "      <td>동화약품</td>\n",
       "      <td>000020</td>\n",
       "    </tr>\n",
       "    <tr>\n",
       "      <th>1</th>\n",
       "      <td>KR모터스</td>\n",
       "      <td>000040</td>\n",
       "    </tr>\n",
       "    <tr>\n",
       "      <th>2</th>\n",
       "      <td>경방</td>\n",
       "      <td>000050</td>\n",
       "    </tr>\n",
       "    <tr>\n",
       "      <th>3</th>\n",
       "      <td>메리츠화재</td>\n",
       "      <td>000060</td>\n",
       "    </tr>\n",
       "    <tr>\n",
       "      <th>4</th>\n",
       "      <td>삼양홀딩스</td>\n",
       "      <td>000070</td>\n",
       "    </tr>\n",
       "  </tbody>\n",
       "</table>\n",
       "</div>"
      ],
      "text/plain": [
       "     종목명    종목코드\n",
       "0   동화약품  000020\n",
       "1  KR모터스  000040\n",
       "2     경방  000050\n",
       "3  메리츠화재  000060\n",
       "4  삼양홀딩스  000070"
      ]
     },
     "execution_count": 4,
     "metadata": {},
     "output_type": "execute_result"
    }
   ],
   "source": [
    "shcode_list.head()"
   ]
  },
  {
   "cell_type": "markdown",
   "metadata": {},
   "source": [
    "시세데이터 뽑기"
   ]
  },
  {
   "cell_type": "code",
   "execution_count": 19,
   "metadata": {},
   "outputs": [],
   "source": [
    "def query_ohlcv(shcode):\n",
    "    # SQLite DB 연결\n",
    "    conn = sqlite3.connect(\"t1305.db\")\n",
    "    # Connection 으로부터 Cursor 생성\n",
    "    cur = conn.cursor()\n",
    "    # SQL 쿼리 실행\n",
    "    query = \"select 일자, 시가, 고가, 저가, 종가, 누적거래량 \\\n",
    "            from 종목별체결조회 \\\n",
    "            where 1=1 \\\n",
    "            and 종목코드 = '%s' \\\n",
    "            and 일주월구분 = '%s' ;\" % (shcode,'3')\n",
    "    cur.execute(query)\n",
    "    # 데이타 Fetch\n",
    "    query_result = cur.fetchall()\n",
    "    fin_result = pd.DataFrame(query_result, columns = ['date', 'open', 'high', 'low', 'close', 'volume'])\n",
    "    # Connection 닫기\n",
    "    daily = fin_result.iloc[:100].sort_values(by = ['date']).reset_index(drop = True)\n",
    "    weekly = fin_result.iloc[100:200].sort_values(by = ['date']).reset_index(drop = True)\n",
    "    monthly = fin_result.iloc[200:].sort_values(by = ['date']).reset_index(drop = True)\n",
    "    conn.close()\n",
    "    return daily, weekly, monthly"
   ]
  },
  {
   "cell_type": "code",
   "execution_count": 20,
   "metadata": {
    "scrolled": true
   },
   "outputs": [],
   "source": [
    "daily_data, weekly_data, monthly_data = query_ohlcv(shcode_list['종목코드'].iloc[0])"
   ]
  },
  {
   "cell_type": "code",
   "execution_count": 5,
   "metadata": {
    "scrolled": true
   },
   "outputs": [],
   "source": [
    "df['date'] = df['date'].apply(lambda x: parse(x).strftime('%Y%m%d'))"
   ]
  },
  {
   "cell_type": "code",
   "execution_count": 6,
   "metadata": {},
   "outputs": [],
   "source": [
    "df_new = pd.DataFrame([],columns = ['date', 'open', 'high', 'low', 'close', 'volume'])"
   ]
  },
  {
   "cell_type": "code",
   "execution_count": 10,
   "metadata": {},
   "outputs": [],
   "source": [
    "#batch_size * steps_per_epoch =s 전체샘플수\n",
    "lookback = 5\n",
    "step = 1\n",
    "delay = 0 #바로다음거 타겟_ cls 미사용\n",
    "batch_size = 1\n",
    "\n",
    "\n",
    "def generator_cls(data_x, data_y, lookback, delay, min_index, max_index,\n",
    "              shuffle=False, batch_size=1, step=1):\n",
    "    #끝점\n",
    "    if max_index is None:\n",
    "        max_index = len(data_x) - delay - 1  \n",
    "    #시작점\n",
    "    i = min_index + lookback\n",
    "    while 1:\n",
    "        if shuffle:\n",
    "            rows = np.random.randint(min_index + lookback, max_index, size=batch_size)\n",
    "        else:\n",
    "            if i + batch_size >= max_index:\n",
    "                i = min_index + lookback\n",
    "            #시작점부터 인덱스최대와 시작점+배치사이즈 사이의 모든 행을 리스트로가져옴\n",
    "            rows = np.arange(i, min(i + batch_size, max_index))\n",
    "            #시작점 + 총행의길이\n",
    "            i += len(rows)\n",
    "\n",
    "        samples = np.zeros((len(rows),         # 총개수\n",
    "                           lookback // step,   # 하나입력데이터개수\n",
    "                           data_x.shape[-1]))  # 열갯수\n",
    "        \n",
    "        targets = np.zeros((len(rows),         # 총개수\n",
    "                           data_y.shape[-1]))  # 열개수\n",
    "        \n",
    "        for j, row in enumerate(rows):\n",
    "            indices = range(rows[j] - lookback, rows[j], step)  #(시작점 -lookback)->최초시작점 부터 시작점까지 step수만큼\n",
    "            samples[j] = data_x[indices]\n",
    "            targets[j] = data_y[rows[j]-1][:]  #target data 변경\n",
    "            \n",
    "            \n",
    "        yield samples, targets"
   ]
  },
  {
   "cell_type": "code",
   "execution_count": 11,
   "metadata": {},
   "outputs": [
    {
     "data": {
      "text/html": [
       "<div>\n",
       "<style scoped>\n",
       "    .dataframe tbody tr th:only-of-type {\n",
       "        vertical-align: middle;\n",
       "    }\n",
       "\n",
       "    .dataframe tbody tr th {\n",
       "        vertical-align: top;\n",
       "    }\n",
       "\n",
       "    .dataframe thead th {\n",
       "        text-align: right;\n",
       "    }\n",
       "</style>\n",
       "<table border=\"1\" class=\"dataframe\">\n",
       "  <thead>\n",
       "    <tr style=\"text-align: right;\">\n",
       "      <th></th>\n",
       "      <th>date</th>\n",
       "      <th>open</th>\n",
       "      <th>high</th>\n",
       "      <th>low</th>\n",
       "      <th>close</th>\n",
       "      <th>volume</th>\n",
       "    </tr>\n",
       "  </thead>\n",
       "  <tbody>\n",
       "    <tr>\n",
       "      <th>0</th>\n",
       "      <td>20171231</td>\n",
       "      <td>698.64</td>\n",
       "      <td>730.03</td>\n",
       "      <td>682.16</td>\n",
       "      <td>727.45</td>\n",
       "      <td>26063.61900</td>\n",
       "    </tr>\n",
       "    <tr>\n",
       "      <th>1</th>\n",
       "      <td>20180101</td>\n",
       "      <td>727.01</td>\n",
       "      <td>763.55</td>\n",
       "      <td>711.10</td>\n",
       "      <td>742.74</td>\n",
       "      <td>56434.92261</td>\n",
       "    </tr>\n",
       "    <tr>\n",
       "      <th>2</th>\n",
       "      <td>20180102</td>\n",
       "      <td>742.41</td>\n",
       "      <td>899.50</td>\n",
       "      <td>733.00</td>\n",
       "      <td>856.93</td>\n",
       "      <td>91952.80814</td>\n",
       "    </tr>\n",
       "    <tr>\n",
       "      <th>3</th>\n",
       "      <td>20180103</td>\n",
       "      <td>856.92</td>\n",
       "      <td>884.98</td>\n",
       "      <td>810.00</td>\n",
       "      <td>868.89</td>\n",
       "      <td>95818.07760</td>\n",
       "    </tr>\n",
       "    <tr>\n",
       "      <th>4</th>\n",
       "      <td>20180104</td>\n",
       "      <td>868.86</td>\n",
       "      <td>1009.72</td>\n",
       "      <td>859.84</td>\n",
       "      <td>1002.31</td>\n",
       "      <td>94631.18420</td>\n",
       "    </tr>\n",
       "    <tr>\n",
       "      <th>5</th>\n",
       "      <td>20180105</td>\n",
       "      <td>1006.78</td>\n",
       "      <td>1045.00</td>\n",
       "      <td>910.00</td>\n",
       "      <td>981.97</td>\n",
       "      <td>105250.84204</td>\n",
       "    </tr>\n",
       "    <tr>\n",
       "      <th>6</th>\n",
       "      <td>20180106</td>\n",
       "      <td>981.97</td>\n",
       "      <td>1005.00</td>\n",
       "      <td>930.00</td>\n",
       "      <td>992.46</td>\n",
       "      <td>82885.18727</td>\n",
       "    </tr>\n",
       "    <tr>\n",
       "      <th>7</th>\n",
       "      <td>20180107</td>\n",
       "      <td>992.45</td>\n",
       "      <td>1095.90</td>\n",
       "      <td>982.00</td>\n",
       "      <td>1082.61</td>\n",
       "      <td>62576.36663</td>\n",
       "    </tr>\n",
       "    <tr>\n",
       "      <th>8</th>\n",
       "      <td>20180108</td>\n",
       "      <td>1082.61</td>\n",
       "      <td>1239.18</td>\n",
       "      <td>951.00</td>\n",
       "      <td>970.11</td>\n",
       "      <td>121768.95634</td>\n",
       "    </tr>\n",
       "    <tr>\n",
       "      <th>9</th>\n",
       "      <td>20180109</td>\n",
       "      <td>970.12</td>\n",
       "      <td>1260.00</td>\n",
       "      <td>910.00</td>\n",
       "      <td>1202.01</td>\n",
       "      <td>141992.87571</td>\n",
       "    </tr>\n",
       "  </tbody>\n",
       "</table>\n",
       "</div>"
      ],
      "text/plain": [
       "       date     open     high     low    close        volume\n",
       "0  20171231   698.64   730.03  682.16   727.45   26063.61900\n",
       "1  20180101   727.01   763.55  711.10   742.74   56434.92261\n",
       "2  20180102   742.41   899.50  733.00   856.93   91952.80814\n",
       "3  20180103   856.92   884.98  810.00   868.89   95818.07760\n",
       "4  20180104   868.86  1009.72  859.84  1002.31   94631.18420\n",
       "5  20180105  1006.78  1045.00  910.00   981.97  105250.84204\n",
       "6  20180106   981.97  1005.00  930.00   992.46   82885.18727\n",
       "7  20180107   992.45  1095.90  982.00  1082.61   62576.36663\n",
       "8  20180108  1082.61  1239.18  951.00   970.11  121768.95634\n",
       "9  20180109   970.12  1260.00  910.00  1202.01  141992.87571"
      ]
     },
     "execution_count": 11,
     "metadata": {},
     "output_type": "execute_result"
    }
   ],
   "source": [
    "df_new.head(10)"
   ]
  },
  {
   "cell_type": "code",
   "execution_count": 13,
   "metadata": {},
   "outputs": [
    {
     "data": {
      "text/plain": [
       "(575, 6)"
      ]
     },
     "execution_count": 13,
     "metadata": {},
     "output_type": "execute_result"
    }
   ],
   "source": [
    "df_new.shape"
   ]
  },
  {
   "cell_type": "code",
   "execution_count": 12,
   "metadata": {},
   "outputs": [],
   "source": [
    "df_new2 = df_new[['date', 'open', 'high', 'low', 'close', 'volume']].values\n",
    "df_new2_target = df_new[['close']].values\n"
   ]
  },
  {
   "cell_type": "code",
   "execution_count": 14,
   "metadata": {},
   "outputs": [],
   "source": [
    "gen = generator_cls(df_new2,df_new2_target, lookback, delay, min_index=0, max_index=575,\n",
    "                                shuffle=False, batch_size=1, step=1)"
   ]
  },
  {
   "cell_type": "code",
   "execution_count": 33,
   "metadata": {},
   "outputs": [],
   "source": [
    "a = next(gen)[0]\n",
    "b = next(gen)[1]"
   ]
  },
  {
   "cell_type": "code",
   "execution_count": 34,
   "metadata": {},
   "outputs": [
    {
     "data": {
      "text/html": [
       "<div>\n",
       "<style scoped>\n",
       "    .dataframe tbody tr th:only-of-type {\n",
       "        vertical-align: middle;\n",
       "    }\n",
       "\n",
       "    .dataframe tbody tr th {\n",
       "        vertical-align: top;\n",
       "    }\n",
       "\n",
       "    .dataframe thead th {\n",
       "        text-align: right;\n",
       "    }\n",
       "</style>\n",
       "<table border=\"1\" class=\"dataframe\">\n",
       "  <thead>\n",
       "    <tr style=\"text-align: right;\">\n",
       "      <th></th>\n",
       "      <th>date</th>\n",
       "      <th>open</th>\n",
       "      <th>high</th>\n",
       "      <th>low</th>\n",
       "      <th>close</th>\n",
       "      <th>volume</th>\n",
       "    </tr>\n",
       "  </thead>\n",
       "  <tbody>\n",
       "    <tr>\n",
       "      <th>0</th>\n",
       "      <td>20180104.0</td>\n",
       "      <td>868.86</td>\n",
       "      <td>1009.72</td>\n",
       "      <td>859.84</td>\n",
       "      <td>1002.31</td>\n",
       "      <td>94631.18420</td>\n",
       "    </tr>\n",
       "    <tr>\n",
       "      <th>1</th>\n",
       "      <td>20180105.0</td>\n",
       "      <td>1006.78</td>\n",
       "      <td>1045.00</td>\n",
       "      <td>910.00</td>\n",
       "      <td>981.97</td>\n",
       "      <td>105250.84204</td>\n",
       "    </tr>\n",
       "    <tr>\n",
       "      <th>2</th>\n",
       "      <td>20180106.0</td>\n",
       "      <td>981.97</td>\n",
       "      <td>1005.00</td>\n",
       "      <td>930.00</td>\n",
       "      <td>992.46</td>\n",
       "      <td>82885.18727</td>\n",
       "    </tr>\n",
       "    <tr>\n",
       "      <th>3</th>\n",
       "      <td>20180107.0</td>\n",
       "      <td>992.45</td>\n",
       "      <td>1095.90</td>\n",
       "      <td>982.00</td>\n",
       "      <td>1082.61</td>\n",
       "      <td>62576.36663</td>\n",
       "    </tr>\n",
       "    <tr>\n",
       "      <th>4</th>\n",
       "      <td>20180108.0</td>\n",
       "      <td>1082.61</td>\n",
       "      <td>1239.18</td>\n",
       "      <td>951.00</td>\n",
       "      <td>970.11</td>\n",
       "      <td>121768.95634</td>\n",
       "    </tr>\n",
       "  </tbody>\n",
       "</table>\n",
       "</div>"
      ],
      "text/plain": [
       "         date     open     high     low    close        volume\n",
       "0  20180104.0   868.86  1009.72  859.84  1002.31   94631.18420\n",
       "1  20180105.0  1006.78  1045.00  910.00   981.97  105250.84204\n",
       "2  20180106.0   981.97  1005.00  930.00   992.46   82885.18727\n",
       "3  20180107.0   992.45  1095.90  982.00  1082.61   62576.36663\n",
       "4  20180108.0  1082.61  1239.18  951.00   970.11  121768.95634"
      ]
     },
     "execution_count": 34,
     "metadata": {},
     "output_type": "execute_result"
    }
   ],
   "source": [
    "pd.DataFrame(a[0],columns = ['date', 'open', 'high', 'low', 'close', 'volume'])"
   ]
  },
  {
   "cell_type": "code",
   "execution_count": 32,
   "metadata": {},
   "outputs": [
    {
     "data": {
      "text/plain": [
       "array([[1082.61]])"
      ]
     },
     "execution_count": 32,
     "metadata": {},
     "output_type": "execute_result"
    }
   ],
   "source": [
    "b"
   ]
  },
  {
   "cell_type": "code",
   "execution_count": 35,
   "metadata": {},
   "outputs": [],
   "source": [
    "c = next(gen)"
   ]
  },
  {
   "cell_type": "code",
   "execution_count": 38,
   "metadata": {},
   "outputs": [
    {
     "data": {
      "text/plain": [
       "array([[1308.61]])"
      ]
     },
     "execution_count": 38,
     "metadata": {},
     "output_type": "execute_result"
    }
   ],
   "source": [
    "c[1]"
   ]
  },
  {
   "cell_type": "code",
   "execution_count": null,
   "metadata": {},
   "outputs": [],
   "source": [
    "pd.DataFrame(next(gen)[1][0],columns = ['date', 'open', 'high', 'low', 'close', 'volume'])"
   ]
  },
  {
   "cell_type": "code",
   "execution_count": 101,
   "metadata": {},
   "outputs": [
    {
     "data": {
      "text/plain": [
       "False"
      ]
     },
     "execution_count": 101,
     "metadata": {},
     "output_type": "execute_result"
    }
   ],
   "source": [
    "all([high_vol >= average_vol * 10, \n",
    "    high_vol * a[0][:,5][ind] >= 1000])"
   ]
  },
  {
   "cell_type": "code",
   "execution_count": 114,
   "metadata": {},
   "outputs": [
    {
     "data": {
      "text/plain": [
       "[1.0, 0.5, 0.33333333333333326, 0.25]"
      ]
     },
     "execution_count": 114,
     "metadata": {},
     "output_type": "execute_result"
    }
   ],
   "source": [
    "ratio_list"
   ]
  },
  {
   "cell_type": "code",
   "execution_count": 120,
   "metadata": {},
   "outputs": [
    {
     "data": {
      "text/plain": [
       "0"
      ]
     },
     "execution_count": 120,
     "metadata": {},
     "output_type": "execute_result"
    }
   ],
   "source": [
    "np.array(ratio_list).argmax()"
   ]
  },
  {
   "cell_type": "code",
   "execution_count": null,
   "metadata": {},
   "outputs": [],
   "source": [
    "#>>> a = [1,2,3,4]\n",
    "#>>> result = [num * 3 for num in a if num % 2 == 0]\n",
    "#>>> print(result)\n",
    "#[6, 12]"
   ]
  },
  {
   "cell_type": "code",
   "execution_count": 51,
   "metadata": {},
   "outputs": [],
   "source": [
    "daily_data, weekly_data, monthly_data = query_ohlcv(shcode_list['종목코드'].iloc[1])"
   ]
  },
  {
   "cell_type": "code",
   "execution_count": 52,
   "metadata": {
    "scrolled": true
   },
   "outputs": [
    {
     "data": {
      "text/html": [
       "<div>\n",
       "<style scoped>\n",
       "    .dataframe tbody tr th:only-of-type {\n",
       "        vertical-align: middle;\n",
       "    }\n",
       "\n",
       "    .dataframe tbody tr th {\n",
       "        vertical-align: top;\n",
       "    }\n",
       "\n",
       "    .dataframe thead th {\n",
       "        text-align: right;\n",
       "    }\n",
       "</style>\n",
       "<table border=\"1\" class=\"dataframe\">\n",
       "  <thead>\n",
       "    <tr style=\"text-align: right;\">\n",
       "      <th></th>\n",
       "      <th>date</th>\n",
       "      <th>open</th>\n",
       "      <th>high</th>\n",
       "      <th>low</th>\n",
       "      <th>close</th>\n",
       "      <th>volume</th>\n",
       "      <th>sma5</th>\n",
       "      <th>sma10</th>\n",
       "      <th>sma20</th>\n",
       "      <th>sma60</th>\n",
       "      <th>macd</th>\n",
       "      <th>macd_signal</th>\n",
       "    </tr>\n",
       "  </thead>\n",
       "  <tbody>\n",
       "    <tr>\n",
       "      <th>0</th>\n",
       "      <td>20190430</td>\n",
       "      <td>530</td>\n",
       "      <td>595</td>\n",
       "      <td>530</td>\n",
       "      <td>550</td>\n",
       "      <td>2154890</td>\n",
       "      <td>NaN</td>\n",
       "      <td>NaN</td>\n",
       "      <td>NaN</td>\n",
       "      <td>NaN</td>\n",
       "      <td>NaN</td>\n",
       "      <td>NaN</td>\n",
       "    </tr>\n",
       "    <tr>\n",
       "      <th>1</th>\n",
       "      <td>20190502</td>\n",
       "      <td>545</td>\n",
       "      <td>554</td>\n",
       "      <td>532</td>\n",
       "      <td>544</td>\n",
       "      <td>425141</td>\n",
       "      <td>NaN</td>\n",
       "      <td>NaN</td>\n",
       "      <td>NaN</td>\n",
       "      <td>NaN</td>\n",
       "      <td>NaN</td>\n",
       "      <td>NaN</td>\n",
       "    </tr>\n",
       "    <tr>\n",
       "      <th>2</th>\n",
       "      <td>20190503</td>\n",
       "      <td>544</td>\n",
       "      <td>560</td>\n",
       "      <td>538</td>\n",
       "      <td>557</td>\n",
       "      <td>391150</td>\n",
       "      <td>NaN</td>\n",
       "      <td>NaN</td>\n",
       "      <td>NaN</td>\n",
       "      <td>NaN</td>\n",
       "      <td>NaN</td>\n",
       "      <td>NaN</td>\n",
       "    </tr>\n",
       "    <tr>\n",
       "      <th>3</th>\n",
       "      <td>20190507</td>\n",
       "      <td>557</td>\n",
       "      <td>567</td>\n",
       "      <td>544</td>\n",
       "      <td>558</td>\n",
       "      <td>311506</td>\n",
       "      <td>NaN</td>\n",
       "      <td>NaN</td>\n",
       "      <td>NaN</td>\n",
       "      <td>NaN</td>\n",
       "      <td>NaN</td>\n",
       "      <td>NaN</td>\n",
       "    </tr>\n",
       "    <tr>\n",
       "      <th>4</th>\n",
       "      <td>20190508</td>\n",
       "      <td>558</td>\n",
       "      <td>558</td>\n",
       "      <td>542</td>\n",
       "      <td>546</td>\n",
       "      <td>196176</td>\n",
       "      <td>551.0</td>\n",
       "      <td>NaN</td>\n",
       "      <td>NaN</td>\n",
       "      <td>NaN</td>\n",
       "      <td>NaN</td>\n",
       "      <td>NaN</td>\n",
       "    </tr>\n",
       "    <tr>\n",
       "      <th>5</th>\n",
       "      <td>20190509</td>\n",
       "      <td>542</td>\n",
       "      <td>548</td>\n",
       "      <td>526</td>\n",
       "      <td>528</td>\n",
       "      <td>409774</td>\n",
       "      <td>546.6</td>\n",
       "      <td>NaN</td>\n",
       "      <td>NaN</td>\n",
       "      <td>NaN</td>\n",
       "      <td>NaN</td>\n",
       "      <td>NaN</td>\n",
       "    </tr>\n",
       "    <tr>\n",
       "      <th>6</th>\n",
       "      <td>20190510</td>\n",
       "      <td>518</td>\n",
       "      <td>539</td>\n",
       "      <td>518</td>\n",
       "      <td>538</td>\n",
       "      <td>302430</td>\n",
       "      <td>545.4</td>\n",
       "      <td>NaN</td>\n",
       "      <td>NaN</td>\n",
       "      <td>NaN</td>\n",
       "      <td>NaN</td>\n",
       "      <td>NaN</td>\n",
       "    </tr>\n",
       "    <tr>\n",
       "      <th>7</th>\n",
       "      <td>20190513</td>\n",
       "      <td>536</td>\n",
       "      <td>564</td>\n",
       "      <td>532</td>\n",
       "      <td>543</td>\n",
       "      <td>798705</td>\n",
       "      <td>542.6</td>\n",
       "      <td>NaN</td>\n",
       "      <td>NaN</td>\n",
       "      <td>NaN</td>\n",
       "      <td>NaN</td>\n",
       "      <td>NaN</td>\n",
       "    </tr>\n",
       "    <tr>\n",
       "      <th>8</th>\n",
       "      <td>20190514</td>\n",
       "      <td>541</td>\n",
       "      <td>552</td>\n",
       "      <td>527</td>\n",
       "      <td>551</td>\n",
       "      <td>300171</td>\n",
       "      <td>541.2</td>\n",
       "      <td>NaN</td>\n",
       "      <td>NaN</td>\n",
       "      <td>NaN</td>\n",
       "      <td>NaN</td>\n",
       "      <td>NaN</td>\n",
       "    </tr>\n",
       "    <tr>\n",
       "      <th>9</th>\n",
       "      <td>20190515</td>\n",
       "      <td>551</td>\n",
       "      <td>565</td>\n",
       "      <td>545</td>\n",
       "      <td>559</td>\n",
       "      <td>359249</td>\n",
       "      <td>543.8</td>\n",
       "      <td>547.4</td>\n",
       "      <td>NaN</td>\n",
       "      <td>NaN</td>\n",
       "      <td>NaN</td>\n",
       "      <td>NaN</td>\n",
       "    </tr>\n",
       "    <tr>\n",
       "      <th>10</th>\n",
       "      <td>20190516</td>\n",
       "      <td>565</td>\n",
       "      <td>565</td>\n",
       "      <td>552</td>\n",
       "      <td>559</td>\n",
       "      <td>377769</td>\n",
       "      <td>550.0</td>\n",
       "      <td>548.3</td>\n",
       "      <td>NaN</td>\n",
       "      <td>NaN</td>\n",
       "      <td>NaN</td>\n",
       "      <td>NaN</td>\n",
       "    </tr>\n",
       "    <tr>\n",
       "      <th>11</th>\n",
       "      <td>20190517</td>\n",
       "      <td>556</td>\n",
       "      <td>561</td>\n",
       "      <td>548</td>\n",
       "      <td>553</td>\n",
       "      <td>398801</td>\n",
       "      <td>553.0</td>\n",
       "      <td>549.2</td>\n",
       "      <td>NaN</td>\n",
       "      <td>NaN</td>\n",
       "      <td>NaN</td>\n",
       "      <td>NaN</td>\n",
       "    </tr>\n",
       "    <tr>\n",
       "      <th>12</th>\n",
       "      <td>20190520</td>\n",
       "      <td>553</td>\n",
       "      <td>576</td>\n",
       "      <td>552</td>\n",
       "      <td>559</td>\n",
       "      <td>454525</td>\n",
       "      <td>556.2</td>\n",
       "      <td>549.4</td>\n",
       "      <td>NaN</td>\n",
       "      <td>NaN</td>\n",
       "      <td>NaN</td>\n",
       "      <td>NaN</td>\n",
       "    </tr>\n",
       "    <tr>\n",
       "      <th>13</th>\n",
       "      <td>20190521</td>\n",
       "      <td>559</td>\n",
       "      <td>564</td>\n",
       "      <td>545</td>\n",
       "      <td>556</td>\n",
       "      <td>263568</td>\n",
       "      <td>557.2</td>\n",
       "      <td>549.2</td>\n",
       "      <td>NaN</td>\n",
       "      <td>NaN</td>\n",
       "      <td>NaN</td>\n",
       "      <td>NaN</td>\n",
       "    </tr>\n",
       "    <tr>\n",
       "      <th>14</th>\n",
       "      <td>20190522</td>\n",
       "      <td>554</td>\n",
       "      <td>556</td>\n",
       "      <td>542</td>\n",
       "      <td>546</td>\n",
       "      <td>206253</td>\n",
       "      <td>554.6</td>\n",
       "      <td>549.2</td>\n",
       "      <td>NaN</td>\n",
       "      <td>NaN</td>\n",
       "      <td>NaN</td>\n",
       "      <td>NaN</td>\n",
       "    </tr>\n",
       "    <tr>\n",
       "      <th>15</th>\n",
       "      <td>20190523</td>\n",
       "      <td>544</td>\n",
       "      <td>547</td>\n",
       "      <td>535</td>\n",
       "      <td>537</td>\n",
       "      <td>192375</td>\n",
       "      <td>550.2</td>\n",
       "      <td>550.1</td>\n",
       "      <td>NaN</td>\n",
       "      <td>NaN</td>\n",
       "      <td>NaN</td>\n",
       "      <td>NaN</td>\n",
       "    </tr>\n",
       "    <tr>\n",
       "      <th>16</th>\n",
       "      <td>20190524</td>\n",
       "      <td>537</td>\n",
       "      <td>546</td>\n",
       "      <td>525</td>\n",
       "      <td>531</td>\n",
       "      <td>179748</td>\n",
       "      <td>545.8</td>\n",
       "      <td>549.4</td>\n",
       "      <td>NaN</td>\n",
       "      <td>NaN</td>\n",
       "      <td>NaN</td>\n",
       "      <td>NaN</td>\n",
       "    </tr>\n",
       "    <tr>\n",
       "      <th>17</th>\n",
       "      <td>20190527</td>\n",
       "      <td>540</td>\n",
       "      <td>544</td>\n",
       "      <td>519</td>\n",
       "      <td>525</td>\n",
       "      <td>189208</td>\n",
       "      <td>539.0</td>\n",
       "      <td>547.6</td>\n",
       "      <td>NaN</td>\n",
       "      <td>NaN</td>\n",
       "      <td>NaN</td>\n",
       "      <td>NaN</td>\n",
       "    </tr>\n",
       "    <tr>\n",
       "      <th>18</th>\n",
       "      <td>20190528</td>\n",
       "      <td>525</td>\n",
       "      <td>528</td>\n",
       "      <td>515</td>\n",
       "      <td>527</td>\n",
       "      <td>165137</td>\n",
       "      <td>533.2</td>\n",
       "      <td>545.2</td>\n",
       "      <td>NaN</td>\n",
       "      <td>NaN</td>\n",
       "      <td>NaN</td>\n",
       "      <td>NaN</td>\n",
       "    </tr>\n",
       "    <tr>\n",
       "      <th>19</th>\n",
       "      <td>20190529</td>\n",
       "      <td>530</td>\n",
       "      <td>541</td>\n",
       "      <td>526</td>\n",
       "      <td>535</td>\n",
       "      <td>245875</td>\n",
       "      <td>531.0</td>\n",
       "      <td>542.8</td>\n",
       "      <td>545.1</td>\n",
       "      <td>NaN</td>\n",
       "      <td>NaN</td>\n",
       "      <td>NaN</td>\n",
       "    </tr>\n",
       "  </tbody>\n",
       "</table>\n",
       "</div>"
      ],
      "text/plain": [
       "        date  open  high  low  close   volume   sma5  sma10  sma20  sma60  \\\n",
       "0   20190430   530   595  530    550  2154890    NaN    NaN    NaN    NaN   \n",
       "1   20190502   545   554  532    544   425141    NaN    NaN    NaN    NaN   \n",
       "2   20190503   544   560  538    557   391150    NaN    NaN    NaN    NaN   \n",
       "3   20190507   557   567  544    558   311506    NaN    NaN    NaN    NaN   \n",
       "4   20190508   558   558  542    546   196176  551.0    NaN    NaN    NaN   \n",
       "5   20190509   542   548  526    528   409774  546.6    NaN    NaN    NaN   \n",
       "6   20190510   518   539  518    538   302430  545.4    NaN    NaN    NaN   \n",
       "7   20190513   536   564  532    543   798705  542.6    NaN    NaN    NaN   \n",
       "8   20190514   541   552  527    551   300171  541.2    NaN    NaN    NaN   \n",
       "9   20190515   551   565  545    559   359249  543.8  547.4    NaN    NaN   \n",
       "10  20190516   565   565  552    559   377769  550.0  548.3    NaN    NaN   \n",
       "11  20190517   556   561  548    553   398801  553.0  549.2    NaN    NaN   \n",
       "12  20190520   553   576  552    559   454525  556.2  549.4    NaN    NaN   \n",
       "13  20190521   559   564  545    556   263568  557.2  549.2    NaN    NaN   \n",
       "14  20190522   554   556  542    546   206253  554.6  549.2    NaN    NaN   \n",
       "15  20190523   544   547  535    537   192375  550.2  550.1    NaN    NaN   \n",
       "16  20190524   537   546  525    531   179748  545.8  549.4    NaN    NaN   \n",
       "17  20190527   540   544  519    525   189208  539.0  547.6    NaN    NaN   \n",
       "18  20190528   525   528  515    527   165137  533.2  545.2    NaN    NaN   \n",
       "19  20190529   530   541  526    535   245875  531.0  542.8  545.1    NaN   \n",
       "\n",
       "    macd  macd_signal  \n",
       "0    NaN          NaN  \n",
       "1    NaN          NaN  \n",
       "2    NaN          NaN  \n",
       "3    NaN          NaN  \n",
       "4    NaN          NaN  \n",
       "5    NaN          NaN  \n",
       "6    NaN          NaN  \n",
       "7    NaN          NaN  \n",
       "8    NaN          NaN  \n",
       "9    NaN          NaN  \n",
       "10   NaN          NaN  \n",
       "11   NaN          NaN  \n",
       "12   NaN          NaN  \n",
       "13   NaN          NaN  \n",
       "14   NaN          NaN  \n",
       "15   NaN          NaN  \n",
       "16   NaN          NaN  \n",
       "17   NaN          NaN  \n",
       "18   NaN          NaN  \n",
       "19   NaN          NaN  "
      ]
     },
     "execution_count": 52,
     "metadata": {},
     "output_type": "execute_result"
    }
   ],
   "source": [
    "preprocesser.sma(daily_data)\n",
    "preprocesser.sma(daily_data)\n",
    "preprocesser.macd(daily_data)\n",
    "daily_data.head(20)"
   ]
  },
  {
   "cell_type": "code",
   "execution_count": 53,
   "metadata": {},
   "outputs": [],
   "source": [
    "ratio_list = [y/x-1 for x, y in zip(daily_data['close'].iloc[:-1], daily_data['close'].iloc[1:])]"
   ]
  },
  {
   "cell_type": "code",
   "execution_count": 58,
   "metadata": {},
   "outputs": [
    {
     "data": {
      "text/plain": [
       "55"
      ]
     },
     "execution_count": 58,
     "metadata": {},
     "output_type": "execute_result"
    }
   ],
   "source": [
    "ratio_list.index(max(ratio_list))"
   ]
  },
  {
   "cell_type": "code",
   "execution_count": 62,
   "metadata": {},
   "outputs": [
    {
     "data": {
      "text/plain": [
       "459027500"
      ]
     },
     "execution_count": 62,
     "metadata": {},
     "output_type": "execute_result"
    }
   ],
   "source": [
    "result = daily_data['close']*daily_data['volume']\n",
    "result[55]"
   ]
  },
  {
   "cell_type": "code",
   "execution_count": 36,
   "metadata": {
    "scrolled": true
   },
   "outputs": [
    {
     "data": {
      "text/plain": [
       "0      380226840\n",
       "1      249069450\n",
       "2      568419140\n",
       "3      181867700\n",
       "4      185350140\n",
       "5      395981680\n",
       "6      322645400\n",
       "7      283533440\n",
       "8      504837160\n",
       "9      329380260\n",
       "10     480204600\n",
       "11     451786140\n",
       "12    2144151350\n",
       "13     829118940\n",
       "14     293951960\n",
       "15     519756960\n",
       "16     136600940\n",
       "17     269515760\n",
       "18     288727800\n",
       "19     395991540\n",
       "20     405833400\n",
       "21    1277521200\n",
       "22     617422390\n",
       "23    1232785260\n",
       "24     546348790\n",
       "25    1344377420\n",
       "26     347870600\n",
       "27     737533440\n",
       "28    1313097600\n",
       "29    1676701840\n",
       "         ...    \n",
       "70     926188380\n",
       "71      65892040\n",
       "72     553786120\n",
       "73    2211735400\n",
       "74     976180480\n",
       "75    4189515280\n",
       "76     647162520\n",
       "77     998643100\n",
       "78    1351711200\n",
       "79     612296880\n",
       "80     273543760\n",
       "81    3524466870\n",
       "82    2120606060\n",
       "83    1279946060\n",
       "84     906806090\n",
       "85     752374170\n",
       "86    1152764860\n",
       "87     340981900\n",
       "88     626038400\n",
       "89    1512872000\n",
       "90     463520000\n",
       "91     109016000\n",
       "92    3122174800\n",
       "93     555275480\n",
       "94    1896997680\n",
       "95     266446600\n",
       "96     929002600\n",
       "97     245134180\n",
       "98    1158659520\n",
       "99     254965400\n",
       "Length: 100, dtype: int64"
      ]
     },
     "execution_count": 36,
     "metadata": {},
     "output_type": "execute_result"
    }
   ],
   "source": [
    "daily_data['close']*daily_data['volume']"
   ]
  },
  {
   "cell_type": "code",
   "execution_count": 30,
   "metadata": {},
   "outputs": [],
   "source": [
    "a = [i >= 0.15 for i in ratio_list]"
   ]
  },
  {
   "cell_type": "code",
   "execution_count": 32,
   "metadata": {},
   "outputs": [
    {
     "data": {
      "text/plain": [
       "99"
      ]
     },
     "execution_count": 32,
     "metadata": {},
     "output_type": "execute_result"
    }
   ],
   "source": [
    "len(a)"
   ]
  },
  {
   "cell_type": "code",
   "execution_count": 34,
   "metadata": {},
   "outputs": [
    {
     "data": {
      "text/plain": [
       "array([False, False, False, False, False, False, False, False, False,\n",
       "       False, False, False, False, False, False, False, False, False,\n",
       "       False, False, False, False, False, False, False, False, False,\n",
       "       False, False, False, False, False, False, False, False, False,\n",
       "       False, False, False, False, False, False, False, False, False,\n",
       "       False, False, False, False, False, False, False, False, False,\n",
       "       False, False, False, False, False, False, False, False, False,\n",
       "       False, False, False, False, False, False, False, False, False,\n",
       "       False, False, False, False, False, False, False, False, False,\n",
       "       False, False, False, False, False, False, False, False, False,\n",
       "       False, False, False, False, False, False, False, False, False])"
      ]
     },
     "execution_count": 34,
     "metadata": {},
     "output_type": "execute_result"
    }
   ],
   "source": [
    "np.array(a)"
   ]
  },
  {
   "cell_type": "code",
   "execution_count": 35,
   "metadata": {
    "scrolled": true
   },
   "outputs": [
    {
     "name": "stdout",
     "output_type": "stream",
     "text": [
      "0 False\n",
      "1 False\n",
      "2 False\n",
      "3 False\n",
      "4 False\n",
      "5 False\n",
      "6 False\n",
      "7 False\n",
      "8 False\n",
      "9 False\n",
      "10 False\n",
      "11 False\n",
      "12 False\n",
      "13 False\n",
      "14 False\n",
      "15 False\n",
      "16 False\n",
      "17 False\n",
      "18 False\n",
      "19 False\n",
      "20 False\n",
      "21 False\n",
      "22 False\n",
      "23 False\n",
      "24 False\n",
      "25 False\n",
      "26 False\n",
      "27 False\n",
      "28 False\n",
      "29 False\n",
      "30 False\n",
      "31 False\n",
      "32 False\n",
      "33 False\n",
      "34 False\n",
      "35 False\n",
      "36 False\n",
      "37 False\n",
      "38 False\n",
      "39 False\n",
      "40 False\n",
      "41 False\n",
      "42 False\n",
      "43 False\n",
      "44 False\n",
      "45 False\n",
      "46 False\n",
      "47 False\n",
      "48 False\n",
      "49 False\n",
      "50 False\n",
      "51 False\n",
      "52 False\n",
      "53 False\n",
      "54 False\n",
      "55 False\n",
      "56 False\n",
      "57 False\n",
      "58 False\n",
      "59 False\n",
      "60 False\n",
      "61 False\n",
      "62 False\n",
      "63 False\n",
      "64 False\n",
      "65 False\n",
      "66 False\n",
      "67 False\n",
      "68 False\n",
      "69 False\n",
      "70 False\n",
      "71 False\n",
      "72 False\n",
      "73 False\n",
      "74 False\n",
      "75 False\n",
      "76 False\n",
      "77 False\n",
      "78 False\n",
      "79 False\n",
      "80 False\n",
      "81 False\n",
      "82 False\n",
      "83 False\n",
      "84 False\n",
      "85 False\n",
      "86 False\n",
      "87 False\n",
      "88 False\n",
      "89 False\n",
      "90 False\n",
      "91 False\n",
      "92 False\n",
      "93 False\n",
      "94 False\n",
      "95 False\n",
      "96 False\n",
      "97 False\n",
      "98 False\n"
     ]
    }
   ],
   "source": [
    "for i,v in enumerate(a):\n",
    "    print(i,v)"
   ]
  },
  {
   "cell_type": "code",
   "execution_count": 38,
   "metadata": {},
   "outputs": [],
   "source": [
    "average_volume_test = [0 for i in range(99)]"
   ]
  },
  {
   "cell_type": "code",
   "execution_count": 48,
   "metadata": {},
   "outputs": [],
   "source": [
    "ratio_test = np.array([0,1,1])\n",
    "total_volume_test = np.array([True,False,True])\n",
    "average_volume_test = np.array([0,0,1])\n",
    "result = ratio_test * total_volume_test * average_volume_test"
   ]
  },
  {
   "cell_type": "code",
   "execution_count": 49,
   "metadata": {},
   "outputs": [
    {
     "data": {
      "text/plain": [
       "array([0, 0, 1])"
      ]
     },
     "execution_count": 49,
     "metadata": {},
     "output_type": "execute_result"
    }
   ],
   "source": [
    "result"
   ]
  },
  {
   "cell_type": "code",
   "execution_count": 66,
   "metadata": {},
   "outputs": [],
   "source": [
    "a = strictly_increasing(np.array(daily_data), limit = 0.041, min_money_high_volume = 459027500)"
   ]
  },
  {
   "cell_type": "code",
   "execution_count": 67,
   "metadata": {},
   "outputs": [
    {
     "data": {
      "text/plain": [
       "array([0, 0, 0, 0, 0, 0, 0, 0, 0, 0, 0, 0, 0, 0, 0, 0, 0, 0, 0, 0, 0, 0,\n",
       "       0, 0, 0, 0, 0, 0, 0, 0, 0, 0, 0, 0, 0, 0, 0, 0, 0, 0, 0, 0, 0, 0,\n",
       "       0, 0, 0, 0, 0, 0, 0, 0, 0, 0, 0, 0, 0, 0, 0, 0, 0, 0, 0, 0, 0, 0,\n",
       "       0, 0, 0, 0, 0, 0, 0, 0, 0, 0, 0, 0, 0, 0, 0, 0, 0, 0, 0, 0, 0, 0,\n",
       "       0, 0, 0, 0, 0, 0, 0, 0, 0, 0, 0])"
      ]
     },
     "execution_count": 67,
     "metadata": {},
     "output_type": "execute_result"
    }
   ],
   "source": [
    "a"
   ]
  },
  {
   "cell_type": "code",
   "execution_count": 65,
   "metadata": {},
   "outputs": [],
   "source": [
    "# L: numpy array date, open, high, low, close, volume\n",
    "#급등주 시점 찾아보자\n",
    "\n",
    "def strictly_increasing(L, limit = 0.15, min_money_high_volume = 30000000000):\n",
    "    #1) 종가비율 limit 이상\n",
    "    ratio_list = [y/x-1 for x, y in zip(L[:,4][:-1], L[:,4][1:])]\n",
    "    ratio_test = np.array([i >= limit for i in ratio_list])\n",
    "    \n",
    "    #2) 해당날 거래대금 300억 이상 거래대금 = 종가 * 거래량\n",
    "    total_volume_list = L[:,4] * L[:,5]\n",
    "    total_volume_test = [i >= min_money_high_volume  for i in total_volume_list]\n",
    "    total_volume_test = np.array(total_volume_test[:-1])\n",
    "    \n",
    "    #3) 급등시점 전 평균 20일간 거래량의 1000%\n",
    "    average_volume_list = ratio_test * total_volume_test\n",
    "    average_volume_list_index = [ i for i,v in enumerate(average_volume_list) if v == True]\n",
    "    \n",
    "    average_volume_test = np.array([0 for i in range(99)])\n",
    "    \n",
    "    for ind in average_volume_list_index:\n",
    "        if ind < 20:\n",
    "            average_vol =  L[:,5][:ind].sum() / ind\n",
    "        else:\n",
    "            average_vol =  L[:,5][ind-20:ind].sum() / 20\n",
    "        if L[:,5][ind] >= average_vol * 10:\n",
    "            average_volume_test[ind] = 1\n",
    "\n",
    "    \n",
    "    return ratio_test * total_volume_test * average_volume_test"
   ]
  },
  {
   "cell_type": "code",
   "execution_count": null,
   "metadata": {},
   "outputs": [],
   "source": [
    "# L: numpy array date, open, high, low, close, volume\n",
    "\n",
    "def strictly_increasing(L, limit = 0.15, min_money_high_volume = 30000000000):\n",
    "    #1) 종가비율 limit 이상\n",
    "    ratio_list = [y/x-1 for x, y in zip(L[:,4][:-1], L[:,4][1:])]\n",
    "    ratio_test = [i >= limit for i in ratio_list]\n",
    "    \n",
    "    #2) 해당날 거래대금 300억 이상\n",
    "    total_volume_list = L[:,4] * L[:,5]\n",
    "    volume_test = [i >= min_money_high_volume  for i in total_volume_list]\n",
    "    volume_test = volume_test[:-1]\n",
    "    \n",
    "    \n",
    "    \n",
    "    \n",
    "    #3) 급등시점 전 평균 ?일간 거래량의 1000%\n",
    "    \n",
    "    ind = L[:,5].argmax()\n",
    "    high_vol = L[:,5][ind]\n",
    "    if ind >= 20:\n",
    "        average_vol =  L[:,5][ind-20:ind].sum() / 20\n",
    "    else:\n",
    "        average_vol =  L[:,5][:ind].sum() / ind\n",
    "    \n",
    "    all([high_vol >= average_vol * 10,\n",
    "         high_vol * L[:,4][ind] >= min_money_high_volume])\n",
    "    \n",
    "    #3) 첫번째급등 이후 급등하는 곳 찾기 (for 급등의 조건확인)\n",
    "    target_ind = np.array(ratio_list[ind:]).argmax()\n",
    "    target_ratio_inde\n",
    "    \n",
    "    \n",
    "    sum_vol20 = 0\n",
    "    today_vol = 0\n",
    "    #index와 값을 같이 조합\n",
    "    for i, vol in enumerate(L[:,5][:ind]):\n",
    "        if i == 0:\n",
    "            today_vol = vol\n",
    "        elif 1 <= i <= 20:\n",
    "            sum_vol20 += vol\n",
    "        else:\n",
    "            break\n",
    "    \n",
    "    volume_ratio_list = max\n",
    "\n",
    "\n",
    "    \n",
    "    return "
   ]
  },
  {
   "cell_type": "code",
   "execution_count": null,
   "metadata": {},
   "outputs": [],
   "source": [
    "#!!주, 월 increasing 체크 로직 만들 것.\n"
   ]
  },
  {
   "cell_type": "code",
   "execution_count": 39,
   "metadata": {},
   "outputs": [],
   "source": [
    "def strictly_increasing(L):\n",
    "    return all(x<y for x, y in zip(L, L[1:]))\n",
    "\n",
    "def strictly_decreasing(L):\n",
    "    return all(x>y for x, y in zip(L, L[1:]))\n",
    "\n",
    "def non_increasing(L):\n",
    "    return all(x>=y for x, y in zip(L, L[1:]))\n",
    "\n",
    "def non_decreasing(L):\n",
    "    return all(x<=y for x, y in zip(L, L[1:]))\n",
    "\n",
    "def monotonic(L):\n",
    "    return non_increasing(L) or non_decreasing(L)"
   ]
  },
  {
   "cell_type": "code",
   "execution_count": null,
   "metadata": {},
   "outputs": [],
   "source": [
    "def check_speedy_rising_volume(code):\n",
    "    today = datetime.datetime.today().strftime(\"%Y%m%d\")\n",
    "    volumes = df['volume']\n",
    "\n",
    "    if len(volumes) < 21:\n",
    "        return False\n",
    "\n",
    "    sum_vol20 = 0\n",
    "    today_vol = 0\n",
    "    #index와 값을 같이 조합\n",
    "    for i, vol in enumerate(volumes):\n",
    "        if i == 0:\n",
    "            today_vol = vol\n",
    "        elif 1 <= i <= 20:\n",
    "            sum_vol20 += vol\n",
    "        else:\n",
    "            break\n",
    "\n",
    "    avg_vol20 = sum_vol20 / 20\n",
    "    if today_vol > avg_vol20 * 10:\n",
    "        return True"
   ]
  },
  {
   "cell_type": "code",
   "execution_count": null,
   "metadata": {},
   "outputs": [],
   "source": [
    "def check_speedy_rising_volume(code):\n",
    "    today = datetime.datetime.today().strftime(\"%Y%m%d\")\n",
    "    volumes = df['volume']\n",
    "\n",
    "    if len(volumes) < 21:\n",
    "        return False\n",
    "\n",
    "    sum_vol20 = 0\n",
    "    today_vol = 0\n",
    "\n",
    "    for i, vol in enumerate(volumes):\n",
    "        if i == 0:\n",
    "            today_vol = vol\n",
    "        elif 1 <= i <= 20:\n",
    "            sum_vol20 += vol\n",
    "        else:\n",
    "            break\n",
    "\n",
    "    avg_vol20 = sum_vol20 / 20\n",
    "    if today_vol > avg_vol20 * 10:\n",
    "        return True"
   ]
  },
  {
   "cell_type": "code",
   "execution_count": null,
   "metadata": {},
   "outputs": [],
   "source": [
    "def update_buy_list(self, buy_list):\n",
    "    f = open(\"buy_list.txt\", \"wt\")\n",
    "    for code in buy_list:\n",
    "        f.writelines(\"매수;\", code, \";시장가;10;0;매수전\")\n",
    "    f.close()"
   ]
  },
  {
   "cell_type": "code",
   "execution_count": null,
   "metadata": {},
   "outputs": [],
   "source": [
    "def run(self):\n",
    "    buy_list = []\n",
    "    num = len(self.kosdaq_codes)\n",
    "\n",
    "    for i, code in enumerate(self.kosdaq_codes):\n",
    "        print(i, '/', num)\n",
    "        if self.check_speedy_rising_volume(code):\n",
    "            buy_list.append(code)\n",
    "\n",
    "    self.update_buy_list(buy_list)"
   ]
  },
  {
   "cell_type": "code",
   "execution_count": null,
   "metadata": {},
   "outputs": [],
   "source": [
    "if __name__ == \"__main__\":\n",
    "    app = QApplication(sys.argv)\n",
    "    pymon = PyMon()\n",
    "    pymon.run()"
   ]
  }
 ],
 "metadata": {
  "kernelspec": {
   "display_name": "Python 3",
   "language": "python",
   "name": "python3"
  },
  "language_info": {
   "codemirror_mode": {
    "name": "ipython",
    "version": 3
   },
   "file_extension": ".py",
   "mimetype": "text/x-python",
   "name": "python",
   "nbconvert_exporter": "python",
   "pygments_lexer": "ipython3",
   "version": "3.6.8"
  }
 },
 "nbformat": 4,
 "nbformat_minor": 2
}
