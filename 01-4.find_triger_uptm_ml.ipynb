{
 "cells": [
  {
   "cell_type": "code",
   "execution_count": null,
   "metadata": {},
   "outputs": [],
   "source": [
    "#uplist[uplist['shcode']=='000080']\n",
    "#uplist[uplist['shcode']=='000080'].groupby(['shcode']).count()\n",
    "#tmlist[tmlist['shcode']=='000080']\n",
    "#tmlist[tmlist['shcode']=='000080'].groupby(['shcode']).count()\n",
    "#df_bfaf2 = df_bfaf[['index','shcode']].drop_duplicates()\n",
    "\n",
    "'''\n",
    "#4-1 분리\n",
    "s = df['index'].str.split(' ').apply(Series,1)#.fillna(0)\n",
    "df = pd.merge(df, s,left_index =True, right_index =True ,how = 'left')\n",
    "df['total_n'] = s.groupby(s.index).count().sum(axis=1)\n",
    "del df['index']\n",
    "df = df.fillna(0)\n",
    "df = pd.merge(df, uplist[['shcode','upcode', 'upname']], how = 'left', on = ['shcode'])\n",
    "df = pd.merge(df, tmlist[['shcode','tmcode', 'tmname']], how = 'left', on = ['shcode'])\n",
    "df = pd.merge(df, shcode_list, how = 'left', on = ['shcode'])\n",
    "\n",
    "df.groupby(['upcode','upname'])['total_n'].count().sort_values(ascending= False)\n",
    "df.groupby(['tmcode','tmname'])['total_n'].count().sort_values(ascending= False)\n",
    "\n",
    "li = [x for x in range(0,12)]\n",
    "df.columns.isin(li)\n",
    "df2 = df.copy()\n",
    "for i in df.columns[df.columns.isin(li)]:\n",
    "    df2[i] = df2[i].str.slice(stop = 6) \n",
    "'''"
   ]
  },
  {
   "cell_type": "code",
   "execution_count": 1,
   "metadata": {},
   "outputs": [],
   "source": [
    "import sqlite3\n",
    "import time\n",
    "import pandas as pd\n",
    "import numpy as np\n",
    "import query\n",
    "import preprocesser\n",
    "import datetime\n",
    "import pandas.tseries.offsets as of  # for timeoffset\n",
    "from pandas import Series\n"
   ]
  },
  {
   "cell_type": "code",
   "execution_count": 94,
   "metadata": {},
   "outputs": [],
   "source": [
    "df = pd.read_csv(\"df.csv\",encoding = 'ms949', dtype = {'shcode':str })\n",
    "jupo = pd.read_csv(\"jupo.csv\",encoding = 'ms949', dtype = {'shcode':str})\n",
    "per_df = pd.read_csv(\"per_df.csv\",encoding = 'ms949', dtype = {'shcode':str})\n",
    "rrr = pd.read_csv(\"rrr.csv\",encoding = 'ms949', dtype = {'shcode':str})"
   ]
  },
  {
   "cell_type": "code",
   "execution_count": 95,
   "metadata": {},
   "outputs": [],
   "source": [
    "del df['Unnamed: 0']\n",
    "del jupo['Unnamed: 0']\n",
    "del per_df['Unnamed: 0']\n",
    "del rrr['Unnamed: 0']"
   ]
  },
  {
   "cell_type": "code",
   "execution_count": 96,
   "metadata": {},
   "outputs": [
    {
     "data": {
      "text/plain": [
       "Index(['shcode', 'target_day', 'upcode', 'upname', 'tmcode', 'tmname',\n",
       "       'shname', 'target_m', 'next_target_day', 'shcode2', 'y', 'init_jupo',\n",
       "       'end_jupo', 'init_month', 'end_month', 'init_week', 'end_week',\n",
       "       'check_init_day2', 'date_x', 'max_vol', 'max_jupo', 'contin_jupo',\n",
       "       'samo_vol_ratio', 'sec_vol_ratio', 'ins_vol_ratio', 'tusin_vol_ratio',\n",
       "       'bank_vol_ratio', 'jong_vol_ratio', 'fund_vol_ratio', 'etcom_vol_ratio',\n",
       "       'for_reg_vol_ratio', 'for_noreg_vol_ratio', 'nat_no_vol_ratio',\n",
       "       'per_vol_ratio', 'com_vol_ratio', 'for_vol_ratio', 'etc_vol_ratio',\n",
       "       'date_y', 'obv', 'date', 'open_', 'low', 'high', 'close', 'volume',\n",
       "       'range_position', 'month_ma5_score', 'week_ma5_score',\n",
       "       'week_ma20_score', 'week_golden_cross', 'week_dead_cross', 'week_up',\n",
       "       'week_down'],\n",
       "      dtype='object')"
      ]
     },
     "execution_count": 96,
     "metadata": {},
     "output_type": "execute_result"
    }
   ],
   "source": [
    "from functools import reduce\n",
    "dfs = [df, jupo, per_df, rrr]\n",
    "df_final = reduce(lambda left, right: pd.merge(left,right,left_on=['shcode','target_day'], right_on=['shcode','date']), dfs)\n",
    "df_final.columns"
   ]
  },
  {
   "cell_type": "code",
   "execution_count": 97,
   "metadata": {},
   "outputs": [
    {
     "data": {
      "text/plain": [
       "((2479, 18), (2479, 20), (2479, 3), (2479, 15), (2477, 53))"
      ]
     },
     "execution_count": 97,
     "metadata": {},
     "output_type": "execute_result"
    }
   ],
   "source": [
    "df.shape, jupo.shape, per_df.shape, rrr.shape , df_final.shape"
   ]
  },
  {
   "cell_type": "code",
   "execution_count": 98,
   "metadata": {},
   "outputs": [],
   "source": [
    "df_final = df_final[['y', 'shcode', 'upcode', 'target_m', \n",
    "                     'max_vol', 'max_jupo', 'contin_jupo',\n",
    "                     'samo_vol_ratio', 'sec_vol_ratio', 'ins_vol_ratio', \n",
    "                     'tusin_vol_ratio', 'bank_vol_ratio', 'jong_vol_ratio', \n",
    "                     'fund_vol_ratio', 'etcom_vol_ratio', 'for_reg_vol_ratio', \n",
    "                     'for_noreg_vol_ratio', 'nat_no_vol_ratio', 'per_vol_ratio', \n",
    "                     'com_vol_ratio', 'for_vol_ratio', 'etc_vol_ratio', 'obv', \n",
    "                     'close', 'volume','range_position', \n",
    "                     'month_ma5_score', 'week_ma5_score', 'week_ma20_score', \n",
    "                     'week_golden_cross', 'week_dead_cross', 'week_up', \n",
    "                     'week_down']].drop_duplicates()"
   ]
  },
  {
   "cell_type": "code",
   "execution_count": 99,
   "metadata": {},
   "outputs": [
    {
     "data": {
      "text/plain": [
       "(2473, 33)"
      ]
     },
     "execution_count": 99,
     "metadata": {},
     "output_type": "execute_result"
    }
   ],
   "source": [
    "df_final.shape"
   ]
  },
  {
   "cell_type": "markdown",
   "metadata": {},
   "source": [
    "ml"
   ]
  },
  {
   "cell_type": "code",
   "execution_count": null,
   "metadata": {},
   "outputs": [],
   "source": [
    "#dtype변환\n",
    "#https://github.com/TeamLab/machine_learning_from_scratch_with_python/blob/master/code/ch9/4_Logistic_Regression_with_sklearn.ipynb"
   ]
  },
  {
   "cell_type": "code",
   "execution_count": 100,
   "metadata": {
    "scrolled": true
   },
   "outputs": [
    {
     "data": {
      "text/plain": [
       "y                        int64\n",
       "shcode                  object\n",
       "upcode                 float64\n",
       "target_m                 int64\n",
       "max_vol                float64\n",
       "max_jupo                object\n",
       "contin_jupo              int64\n",
       "samo_vol_ratio         float64\n",
       "sec_vol_ratio          float64\n",
       "ins_vol_ratio          float64\n",
       "tusin_vol_ratio        float64\n",
       "bank_vol_ratio         float64\n",
       "jong_vol_ratio         float64\n",
       "fund_vol_ratio         float64\n",
       "etcom_vol_ratio        float64\n",
       "for_reg_vol_ratio      float64\n",
       "for_noreg_vol_ratio    float64\n",
       "nat_no_vol_ratio       float64\n",
       "per_vol_ratio          float64\n",
       "com_vol_ratio          float64\n",
       "for_vol_ratio          float64\n",
       "etc_vol_ratio          float64\n",
       "obv                    float64\n",
       "close                    int64\n",
       "volume                   int64\n",
       "range_position         float64\n",
       "month_ma5_score        float64\n",
       "week_ma5_score         float64\n",
       "week_ma20_score        float64\n",
       "week_golden_cross        int64\n",
       "week_dead_cross          int64\n",
       "week_up                  int64\n",
       "week_down                int64\n",
       "dtype: object"
      ]
     },
     "execution_count": 100,
     "metadata": {},
     "output_type": "execute_result"
    }
   ],
   "source": [
    "df_final.dtypes"
   ]
  },
  {
   "cell_type": "code",
   "execution_count": 101,
   "metadata": {},
   "outputs": [],
   "source": [
    "#분기변경\n",
    "df_final['target_m'] = pd.to_datetime(df_final['target_m'],format = \"%Y%m\").dt.quarter\n",
    "\n",
    "#upcode, null값 처리\n",
    "df_final['upcode'] = df_final['upcode'].fillna(0).astype(int)\n",
    "df_final['month_ma5_score'] = df_final['month_ma5_score'].fillna(0)\n",
    "\n",
    "# 총액계산\n",
    "df_final['volume_money'] = df_final['close'] * df_final['volume']\n",
    "\n",
    "del df_final['close']\n",
    "del df_final['volume']"
   ]
  },
  {
   "cell_type": "code",
   "execution_count": 102,
   "metadata": {},
   "outputs": [
    {
     "data": {
      "text/plain": [
       "0"
      ]
     },
     "execution_count": 102,
     "metadata": {},
     "output_type": "execute_result"
    }
   ],
   "source": [
    "df_final.isnull().sum().sum()"
   ]
  },
  {
   "cell_type": "code",
   "execution_count": 103,
   "metadata": {
    "scrolled": true
   },
   "outputs": [],
   "source": [
    "for col in ['upcode','target_m','max_jupo']:\n",
    "    df_final[col] = df_final[col].astype('category')"
   ]
  },
  {
   "cell_type": "code",
   "execution_count": 104,
   "metadata": {
    "scrolled": true
   },
   "outputs": [
    {
     "data": {
      "text/plain": [
       "y                         int64\n",
       "shcode                   object\n",
       "upcode                 category\n",
       "target_m               category\n",
       "max_vol                 float64\n",
       "max_jupo               category\n",
       "contin_jupo               int64\n",
       "samo_vol_ratio          float64\n",
       "sec_vol_ratio           float64\n",
       "ins_vol_ratio           float64\n",
       "tusin_vol_ratio         float64\n",
       "bank_vol_ratio          float64\n",
       "jong_vol_ratio          float64\n",
       "fund_vol_ratio          float64\n",
       "etcom_vol_ratio         float64\n",
       "for_reg_vol_ratio       float64\n",
       "for_noreg_vol_ratio     float64\n",
       "nat_no_vol_ratio        float64\n",
       "per_vol_ratio           float64\n",
       "com_vol_ratio           float64\n",
       "for_vol_ratio           float64\n",
       "etc_vol_ratio           float64\n",
       "obv                     float64\n",
       "range_position          float64\n",
       "month_ma5_score         float64\n",
       "week_ma5_score          float64\n",
       "week_ma20_score         float64\n",
       "week_golden_cross         int64\n",
       "week_dead_cross           int64\n",
       "week_up                   int64\n",
       "week_down                 int64\n",
       "volume_money              int64\n",
       "dtype: object"
      ]
     },
     "execution_count": 104,
     "metadata": {},
     "output_type": "execute_result"
    }
   ],
   "source": [
    "df_final.dtypes"
   ]
  },
  {
   "cell_type": "code",
   "execution_count": 105,
   "metadata": {},
   "outputs": [],
   "source": [
    "df_mordified = pd.get_dummies(df_final)"
   ]
  },
  {
   "cell_type": "code",
   "execution_count": 106,
   "metadata": {
    "scrolled": true
   },
   "outputs": [
    {
     "data": {
      "text/plain": [
       "y                         0.000000e+00\n",
       "max_vol                   4.050743e-02\n",
       "contin_jupo               1.000000e+00\n",
       "samo_vol_ratio            4.080974e-03\n",
       "sec_vol_ratio             5.235178e-03\n",
       "ins_vol_ratio             3.285140e-05\n",
       "tusin_vol_ratio           7.657741e-03\n",
       "bank_vol_ratio           -2.329683e-04\n",
       "jong_vol_ratio            7.753729e-05\n",
       "fund_vol_ratio            1.919240e-03\n",
       "etcom_vol_ratio          -3.229675e-04\n",
       "for_reg_vol_ratio        -5.765619e-02\n",
       "for_noreg_vol_ratio      -8.161519e-05\n",
       "nat_no_vol_ratio         -1.217213e-03\n",
       "per_vol_ratio             4.050743e-02\n",
       "com_vol_ratio             1.755334e-02\n",
       "for_vol_ratio            -5.773780e-02\n",
       "etc_vol_ratio            -1.540180e-03\n",
       "obv                       4.393838e+06\n",
       "range_position            9.000000e-01\n",
       "month_ma5_score           7.000000e-01\n",
       "week_ma5_score            7.000000e-01\n",
       "week_ma20_score           1.000000e+00\n",
       "week_golden_cross         0.000000e+00\n",
       "week_dead_cross           0.000000e+00\n",
       "week_up                   5.000000e+00\n",
       "week_down                 0.000000e+00\n",
       "volume_money              4.099134e+10\n",
       "shcode_000080             1.000000e+00\n",
       "shcode_000140             0.000000e+00\n",
       "                              ...     \n",
       "upcode_323                0.000000e+00\n",
       "upcode_324                0.000000e+00\n",
       "upcode_325                0.000000e+00\n",
       "upcode_326                0.000000e+00\n",
       "upcode_327                0.000000e+00\n",
       "upcode_330                0.000000e+00\n",
       "upcode_331                0.000000e+00\n",
       "upcode_332                0.000000e+00\n",
       "upcode_333                0.000000e+00\n",
       "upcode_334                0.000000e+00\n",
       "upcode_335                0.000000e+00\n",
       "upcode_336                0.000000e+00\n",
       "upcode_337                0.000000e+00\n",
       "upcode_338                0.000000e+00\n",
       "upcode_345                0.000000e+00\n",
       "target_m_1                0.000000e+00\n",
       "target_m_2                1.000000e+00\n",
       "target_m_3                0.000000e+00\n",
       "target_m_4                0.000000e+00\n",
       "max_jupo_com_vol          0.000000e+00\n",
       "max_jupo_etc_vol          0.000000e+00\n",
       "max_jupo_etcom_vol        0.000000e+00\n",
       "max_jupo_for_noreg_vol    0.000000e+00\n",
       "max_jupo_for_reg_vol      0.000000e+00\n",
       "max_jupo_for_vol          0.000000e+00\n",
       "max_jupo_fund_vol         0.000000e+00\n",
       "max_jupo_per_vol          1.000000e+00\n",
       "max_jupo_samo_vol         0.000000e+00\n",
       "max_jupo_sec_vol          0.000000e+00\n",
       "max_jupo_tusin_vol        0.000000e+00\n",
       "Name: 0, Length: 1111, dtype: float64"
      ]
     },
     "execution_count": 106,
     "metadata": {},
     "output_type": "execute_result"
    }
   ],
   "source": [
    "df_mordified.iloc[0].T"
   ]
  },
  {
   "cell_type": "code",
   "execution_count": 108,
   "metadata": {},
   "outputs": [
    {
     "name": "stderr",
     "output_type": "stream",
     "text": [
      "C:\\ProgramData\\Anaconda3\\lib\\site-packages\\ipykernel_launcher.py:1: FutureWarning: Method .as_matrix will be removed in a future version. Use .values instead.\n",
      "  \"\"\"Entry point for launching an IPython kernel.\n",
      "C:\\ProgramData\\Anaconda3\\lib\\site-packages\\ipykernel_launcher.py:2: FutureWarning: Method .as_matrix will be removed in a future version. Use .values instead.\n",
      "  \n"
     ]
    },
    {
     "data": {
      "text/plain": [
       "((2473, 1), (2473, 1110))"
      ]
     },
     "execution_count": 108,
     "metadata": {},
     "output_type": "execute_result"
    }
   ],
   "source": [
    "y_data = df_mordified.iloc[:, 0].as_matrix().reshape(-1, 1)\n",
    "x_data = df_mordified.iloc[:, 1:].as_matrix()\n",
    "\n",
    "y_data.shape, x_data.shape"
   ]
  },
  {
   "cell_type": "code",
   "execution_count": null,
   "metadata": {},
   "outputs": [],
   "source": [
    "'''\n",
    "#범주형숫자형을 -> 변환함\n",
    "from sklearn.preprocessing import LabelEncoder \n",
    "from sklearn.preprocessing import OneHotEncoder\n",
    "\n",
    "label_encoder = LabelEncoder() \n",
    "onehot_encoder = OneHotEncoder()\n",
    "\n",
    "train_y = label_encoder.fit_transform(info['class2']) \n",
    "train_y = train_y.reshape(len(train_y), 1) \n",
    "train_y = onehot_encoder.fit_transform(train_y)\n",
    "'''"
   ]
  },
  {
   "cell_type": "code",
   "execution_count": 109,
   "metadata": {},
   "outputs": [],
   "source": [
    "from sklearn.preprocessing import MinMaxScaler\n",
    "\n",
    "scaler = MinMaxScaler(feature_range=(0, 1))\n",
    "scaler.fit(x_data)\n",
    "x_data_n = scaler.transform(x_data) #전체데이터 minmax"
   ]
  },
  {
   "cell_type": "code",
   "execution_count": null,
   "metadata": {},
   "outputs": [],
   "source": [
    "#ch12 decision_tree_w_sklearn.ipynb\n",
    "#https://github.com/TeamLab/machine_learning_from_scratch_with_python/blob/master/code/ch12/4_decision_tree_w_sklearn.ipynb"
   ]
  },
  {
   "cell_type": "code",
   "execution_count": 112,
   "metadata": {},
   "outputs": [],
   "source": [
    "from sklearn.model_selection import train_test_split\n",
    "X_train, X_test, y_train, y_test = train_test_split(x_data_n, y_data, test_size=0.33, random_state=42)"
   ]
  },
  {
   "cell_type": "code",
   "execution_count": 113,
   "metadata": {},
   "outputs": [],
   "source": [
    "from sklearn.linear_model import LogisticRegression\n",
    "from sklearn.tree import DecisionTreeClassifier"
   ]
  },
  {
   "cell_type": "code",
   "execution_count": 114,
   "metadata": {},
   "outputs": [],
   "source": [
    "from sklearn.pipeline import Pipeline\n",
    "from sklearn.pipeline import make_pipeline\n",
    "\n",
    "algorithmes = [LogisticRegression(), DecisionTreeClassifier()]"
   ]
  },
  {
   "cell_type": "code",
   "execution_count": 115,
   "metadata": {},
   "outputs": [],
   "source": [
    "c_params = [0.1,  5.0, 7.0, 10.0, 15.0, 20.0, 100.0]\n",
    "\n",
    "\n",
    "params = []\n",
    "params.append([{\n",
    "    \"solver\" : [\"saga\"],\n",
    "    \"penalty\" : [\"l1\"],\n",
    "    \"C\" : c_params\n",
    "    },{\n",
    "    \"solver\" : ['liblinear'],\n",
    "    \"penalty\" : [\"l2\"],\n",
    "    \"C\" : c_params\n",
    "    }\n",
    "    ])\n",
    "params.append({\n",
    "    \"criterion\" : [\"gini\", \"entropy\"],\n",
    "    \"max_depth\" : [10,8,7,6,5,4,3,2],\n",
    "    \"min_samples_leaf\": [1,2,3,4,5,6,7,8,9]})"
   ]
  },
  {
   "cell_type": "code",
   "execution_count": 116,
   "metadata": {},
   "outputs": [
    {
     "data": {
      "text/plain": [
       "[[{'solver': ['saga'],\n",
       "   'penalty': ['l1'],\n",
       "   'C': [0.1, 5.0, 7.0, 10.0, 15.0, 20.0, 100.0]},\n",
       "  {'solver': ['liblinear'],\n",
       "   'penalty': ['l2'],\n",
       "   'C': [0.1, 5.0, 7.0, 10.0, 15.0, 20.0, 100.0]}],\n",
       " {'criterion': ['gini', 'entropy'],\n",
       "  'max_depth': [10, 8, 7, 6, 5, 4, 3, 2],\n",
       "  'min_samples_leaf': [1, 2, 3, 4, 5, 6, 7, 8, 9]}]"
      ]
     },
     "execution_count": 116,
     "metadata": {},
     "output_type": "execute_result"
    }
   ],
   "source": [
    "params"
   ]
  },
  {
   "cell_type": "code",
   "execution_count": 117,
   "metadata": {},
   "outputs": [
    {
     "name": "stdout",
     "output_type": "stream",
     "text": [
      "GridSearchCV(cv=5, error_score='raise-deprecating',\n",
      "       estimator=LogisticRegression(C=1.0, class_weight=None, dual=False, fit_intercept=True,\n",
      "          intercept_scaling=1, max_iter=100, multi_class='warn',\n",
      "          n_jobs=None, penalty='l2', random_state=None, solver='warn',\n",
      "          tol=0.0001, verbose=0, warm_start=False),\n",
      "       fit_params=None, iid='warn', n_jobs=4,\n",
      "       param_grid=[{'solver': ['saga'], 'penalty': ['l1'], 'C': [0.1, 5.0, 7.0, 10.0, 15.0, 20.0, 100.0]}, {'solver': ['liblinear'], 'penalty': ['l2'], 'C': [0.1, 5.0, 7.0, 10.0, 15.0, 20.0, 100.0]}],\n",
      "       pre_dispatch='2*n_jobs', refit='accuracy',\n",
      "       return_train_score='warn', scoring=['accuracy'], verbose=1)\n",
      "Fitting 5 folds for each of 14 candidates, totalling 70 fits\n"
     ]
    },
    {
     "name": "stderr",
     "output_type": "stream",
     "text": [
      "[Parallel(n_jobs=4)]: Using backend LokyBackend with 4 concurrent workers.\n",
      "[Parallel(n_jobs=4)]: Done  42 tasks      | elapsed:  1.5min\n",
      "[Parallel(n_jobs=4)]: Done  70 out of  70 | elapsed:  1.6min finished\n",
      "C:\\ProgramData\\Anaconda3\\lib\\site-packages\\sklearn\\utils\\validation.py:761: DataConversionWarning: A column-vector y was passed when a 1d array was expected. Please change the shape of y to (n_samples, ), for example using ravel().\n",
      "  y = column_or_1d(y, warn=True)\n"
     ]
    },
    {
     "name": "stdout",
     "output_type": "stream",
     "text": [
      "GridSearchCV(cv=5, error_score='raise-deprecating',\n",
      "       estimator=DecisionTreeClassifier(class_weight=None, criterion='gini', max_depth=None,\n",
      "            max_features=None, max_leaf_nodes=None,\n",
      "            min_impurity_decrease=0.0, min_impurity_split=None,\n",
      "            min_samples_leaf=1, min_samples_split=2,\n",
      "            min_weight_fraction_leaf=0.0, presort=False, random_state=None,\n",
      "            splitter='best'),\n",
      "       fit_params=None, iid='warn', n_jobs=4,\n",
      "       param_grid={'criterion': ['gini', 'entropy'], 'max_depth': [10, 8, 7, 6, 5, 4, 3, 2], 'min_samples_leaf': [1, 2, 3, 4, 5, 6, 7, 8, 9]},\n",
      "       pre_dispatch='2*n_jobs', refit='accuracy',\n",
      "       return_train_score='warn', scoring=['accuracy'], verbose=1)\n",
      "Fitting 5 folds for each of 144 candidates, totalling 720 fits\n"
     ]
    },
    {
     "name": "stderr",
     "output_type": "stream",
     "text": [
      "[Parallel(n_jobs=4)]: Using backend LokyBackend with 4 concurrent workers.\n",
      "[Parallel(n_jobs=4)]: Done  42 tasks      | elapsed:    3.3s\n",
      "[Parallel(n_jobs=4)]: Done 192 tasks      | elapsed:   14.3s\n",
      "[Parallel(n_jobs=4)]: Done 442 tasks      | elapsed:   33.1s\n",
      "[Parallel(n_jobs=4)]: Done 720 out of 720 | elapsed:   53.9s finished\n"
     ]
    }
   ],
   "source": [
    "from sklearn.model_selection import GridSearchCV\n",
    "from sklearn.metrics import classification_report, accuracy_score\n",
    "\n",
    "scoring = ['accuracy']\n",
    "estimator_results = []\n",
    "for i, (estimator, params) in enumerate(zip(algorithmes,params)):\n",
    "    gs_estimator = GridSearchCV(\n",
    "            refit=\"accuracy\", estimator=estimator,param_grid=params, scoring=scoring, cv=5, verbose=1, n_jobs=4)\n",
    "    print(gs_estimator)\n",
    "\n",
    "    gs_estimator.fit(X_train, y_train)\n",
    "    estimator_results.append(gs_estimator)"
   ]
  },
  {
   "cell_type": "code",
   "execution_count": 120,
   "metadata": {},
   "outputs": [
    {
     "data": {
      "text/plain": [
       "(0.7095410628019324, 0.7022946859903382)"
      ]
     },
     "execution_count": 120,
     "metadata": {},
     "output_type": "execute_result"
    }
   ],
   "source": [
    "estimator_results[0].best_score_, estimator_results[1].best_score_"
   ]
  },
  {
   "cell_type": "code",
   "execution_count": 122,
   "metadata": {},
   "outputs": [],
   "source": [
    "import pandas as pd\n",
    "from collections import defaultdict\n",
    "\n",
    "result_df_dict = {}\n",
    "\n",
    "result_attributes = [\"model\", \"accuracy\", \"penalty\", \"solver\", \"C\", \"criterion\", \"max_depth\", \"min_samples_leaf\"]\n",
    "result_dict = defaultdict(list)\n",
    "\n",
    "algorithm_name= [\"LogisticRegression\", \"DecisionTreeClassifier\"]\n",
    "\n",
    "for i, estimators in enumerate(estimator_results):\n",
    "    number_of_estimators = len(estimators.cv_results_[\"mean_fit_time\"])\n",
    "\n",
    "    for idx_estimator in range(number_of_estimators):\n",
    "        result_dict[\"model\"].append(algorithm_name[i])\n",
    "        result_dict[\"accuracy\"].append(\n",
    "            estimators.cv_results_[\"mean_test_accuracy\"][idx_estimator])\n",
    "            \n",
    "    for param_value in estimators.cv_results_[\"params\"]:\n",
    "        for k,v in param_value.items():\n",
    "            result_dict[k].append(v)\n",
    "    for attr_name in result_attributes:\n",
    "        if len(result_dict[attr_name]) < len(result_dict[\"accuracy\"]):\n",
    "            result_dict[attr_name].extend([None for i in range(number_of_estimators)])"
   ]
  },
  {
   "cell_type": "code",
   "execution_count": 123,
   "metadata": {},
   "outputs": [
    {
     "data": {
      "text/html": [
       "<div>\n",
       "<style scoped>\n",
       "    .dataframe tbody tr th:only-of-type {\n",
       "        vertical-align: middle;\n",
       "    }\n",
       "\n",
       "    .dataframe tbody tr th {\n",
       "        vertical-align: top;\n",
       "    }\n",
       "\n",
       "    .dataframe thead th {\n",
       "        text-align: right;\n",
       "    }\n",
       "</style>\n",
       "<table border=\"1\" class=\"dataframe\">\n",
       "  <thead>\n",
       "    <tr style=\"text-align: right;\">\n",
       "      <th></th>\n",
       "      <th>model</th>\n",
       "      <th>accuracy</th>\n",
       "      <th>penalty</th>\n",
       "      <th>solver</th>\n",
       "      <th>C</th>\n",
       "      <th>criterion</th>\n",
       "      <th>max_depth</th>\n",
       "      <th>min_samples_leaf</th>\n",
       "    </tr>\n",
       "  </thead>\n",
       "  <tbody>\n",
       "    <tr>\n",
       "      <th>0</th>\n",
       "      <td>LogisticRegression</td>\n",
       "      <td>0.709541</td>\n",
       "      <td>l1</td>\n",
       "      <td>saga</td>\n",
       "      <td>0.1</td>\n",
       "      <td>None</td>\n",
       "      <td>NaN</td>\n",
       "      <td>NaN</td>\n",
       "    </tr>\n",
       "    <tr>\n",
       "      <th>7</th>\n",
       "      <td>LogisticRegression</td>\n",
       "      <td>0.708937</td>\n",
       "      <td>l2</td>\n",
       "      <td>liblinear</td>\n",
       "      <td>0.1</td>\n",
       "      <td>None</td>\n",
       "      <td>NaN</td>\n",
       "      <td>NaN</td>\n",
       "    </tr>\n",
       "    <tr>\n",
       "      <th>149</th>\n",
       "      <td>DecisionTreeClassifier</td>\n",
       "      <td>0.702295</td>\n",
       "      <td>None</td>\n",
       "      <td>None</td>\n",
       "      <td>NaN</td>\n",
       "      <td>entropy</td>\n",
       "      <td>2.0</td>\n",
       "      <td>1.0</td>\n",
       "    </tr>\n",
       "    <tr>\n",
       "      <th>154</th>\n",
       "      <td>DecisionTreeClassifier</td>\n",
       "      <td>0.702295</td>\n",
       "      <td>None</td>\n",
       "      <td>None</td>\n",
       "      <td>NaN</td>\n",
       "      <td>entropy</td>\n",
       "      <td>2.0</td>\n",
       "      <td>6.0</td>\n",
       "    </tr>\n",
       "    <tr>\n",
       "      <th>153</th>\n",
       "      <td>DecisionTreeClassifier</td>\n",
       "      <td>0.702295</td>\n",
       "      <td>None</td>\n",
       "      <td>None</td>\n",
       "      <td>NaN</td>\n",
       "      <td>entropy</td>\n",
       "      <td>2.0</td>\n",
       "      <td>5.0</td>\n",
       "    </tr>\n",
       "    <tr>\n",
       "      <th>152</th>\n",
       "      <td>DecisionTreeClassifier</td>\n",
       "      <td>0.702295</td>\n",
       "      <td>None</td>\n",
       "      <td>None</td>\n",
       "      <td>NaN</td>\n",
       "      <td>entropy</td>\n",
       "      <td>2.0</td>\n",
       "      <td>4.0</td>\n",
       "    </tr>\n",
       "    <tr>\n",
       "      <th>151</th>\n",
       "      <td>DecisionTreeClassifier</td>\n",
       "      <td>0.702295</td>\n",
       "      <td>None</td>\n",
       "      <td>None</td>\n",
       "      <td>NaN</td>\n",
       "      <td>entropy</td>\n",
       "      <td>2.0</td>\n",
       "      <td>3.0</td>\n",
       "    </tr>\n",
       "    <tr>\n",
       "      <th>150</th>\n",
       "      <td>DecisionTreeClassifier</td>\n",
       "      <td>0.702295</td>\n",
       "      <td>None</td>\n",
       "      <td>None</td>\n",
       "      <td>NaN</td>\n",
       "      <td>entropy</td>\n",
       "      <td>2.0</td>\n",
       "      <td>2.0</td>\n",
       "    </tr>\n",
       "    <tr>\n",
       "      <th>156</th>\n",
       "      <td>DecisionTreeClassifier</td>\n",
       "      <td>0.698671</td>\n",
       "      <td>None</td>\n",
       "      <td>None</td>\n",
       "      <td>NaN</td>\n",
       "      <td>entropy</td>\n",
       "      <td>2.0</td>\n",
       "      <td>8.0</td>\n",
       "    </tr>\n",
       "    <tr>\n",
       "      <th>155</th>\n",
       "      <td>DecisionTreeClassifier</td>\n",
       "      <td>0.698671</td>\n",
       "      <td>None</td>\n",
       "      <td>None</td>\n",
       "      <td>NaN</td>\n",
       "      <td>entropy</td>\n",
       "      <td>2.0</td>\n",
       "      <td>7.0</td>\n",
       "    </tr>\n",
       "    <tr>\n",
       "      <th>157</th>\n",
       "      <td>DecisionTreeClassifier</td>\n",
       "      <td>0.698671</td>\n",
       "      <td>None</td>\n",
       "      <td>None</td>\n",
       "      <td>NaN</td>\n",
       "      <td>entropy</td>\n",
       "      <td>2.0</td>\n",
       "      <td>9.0</td>\n",
       "    </tr>\n",
       "    <tr>\n",
       "      <th>148</th>\n",
       "      <td>DecisionTreeClassifier</td>\n",
       "      <td>0.697464</td>\n",
       "      <td>None</td>\n",
       "      <td>None</td>\n",
       "      <td>NaN</td>\n",
       "      <td>entropy</td>\n",
       "      <td>3.0</td>\n",
       "      <td>9.0</td>\n",
       "    </tr>\n",
       "    <tr>\n",
       "      <th>147</th>\n",
       "      <td>DecisionTreeClassifier</td>\n",
       "      <td>0.697464</td>\n",
       "      <td>None</td>\n",
       "      <td>None</td>\n",
       "      <td>NaN</td>\n",
       "      <td>entropy</td>\n",
       "      <td>3.0</td>\n",
       "      <td>8.0</td>\n",
       "    </tr>\n",
       "    <tr>\n",
       "      <th>146</th>\n",
       "      <td>DecisionTreeClassifier</td>\n",
       "      <td>0.697464</td>\n",
       "      <td>None</td>\n",
       "      <td>None</td>\n",
       "      <td>NaN</td>\n",
       "      <td>entropy</td>\n",
       "      <td>3.0</td>\n",
       "      <td>7.0</td>\n",
       "    </tr>\n",
       "    <tr>\n",
       "      <th>76</th>\n",
       "      <td>DecisionTreeClassifier</td>\n",
       "      <td>0.696860</td>\n",
       "      <td>None</td>\n",
       "      <td>None</td>\n",
       "      <td>NaN</td>\n",
       "      <td>gini</td>\n",
       "      <td>3.0</td>\n",
       "      <td>9.0</td>\n",
       "    </tr>\n",
       "    <tr>\n",
       "      <th>75</th>\n",
       "      <td>DecisionTreeClassifier</td>\n",
       "      <td>0.696860</td>\n",
       "      <td>None</td>\n",
       "      <td>None</td>\n",
       "      <td>NaN</td>\n",
       "      <td>gini</td>\n",
       "      <td>3.0</td>\n",
       "      <td>8.0</td>\n",
       "    </tr>\n",
       "    <tr>\n",
       "      <th>84</th>\n",
       "      <td>DecisionTreeClassifier</td>\n",
       "      <td>0.696256</td>\n",
       "      <td>None</td>\n",
       "      <td>None</td>\n",
       "      <td>NaN</td>\n",
       "      <td>gini</td>\n",
       "      <td>2.0</td>\n",
       "      <td>8.0</td>\n",
       "    </tr>\n",
       "    <tr>\n",
       "      <th>72</th>\n",
       "      <td>DecisionTreeClassifier</td>\n",
       "      <td>0.696256</td>\n",
       "      <td>None</td>\n",
       "      <td>None</td>\n",
       "      <td>NaN</td>\n",
       "      <td>gini</td>\n",
       "      <td>3.0</td>\n",
       "      <td>5.0</td>\n",
       "    </tr>\n",
       "    <tr>\n",
       "      <th>85</th>\n",
       "      <td>DecisionTreeClassifier</td>\n",
       "      <td>0.696256</td>\n",
       "      <td>None</td>\n",
       "      <td>None</td>\n",
       "      <td>NaN</td>\n",
       "      <td>gini</td>\n",
       "      <td>2.0</td>\n",
       "      <td>9.0</td>\n",
       "    </tr>\n",
       "    <tr>\n",
       "      <th>83</th>\n",
       "      <td>DecisionTreeClassifier</td>\n",
       "      <td>0.696256</td>\n",
       "      <td>None</td>\n",
       "      <td>None</td>\n",
       "      <td>NaN</td>\n",
       "      <td>gini</td>\n",
       "      <td>2.0</td>\n",
       "      <td>7.0</td>\n",
       "    </tr>\n",
       "    <tr>\n",
       "      <th>82</th>\n",
       "      <td>DecisionTreeClassifier</td>\n",
       "      <td>0.696256</td>\n",
       "      <td>None</td>\n",
       "      <td>None</td>\n",
       "      <td>NaN</td>\n",
       "      <td>gini</td>\n",
       "      <td>2.0</td>\n",
       "      <td>6.0</td>\n",
       "    </tr>\n",
       "    <tr>\n",
       "      <th>81</th>\n",
       "      <td>DecisionTreeClassifier</td>\n",
       "      <td>0.696256</td>\n",
       "      <td>None</td>\n",
       "      <td>None</td>\n",
       "      <td>NaN</td>\n",
       "      <td>gini</td>\n",
       "      <td>2.0</td>\n",
       "      <td>5.0</td>\n",
       "    </tr>\n",
       "    <tr>\n",
       "      <th>80</th>\n",
       "      <td>DecisionTreeClassifier</td>\n",
       "      <td>0.696256</td>\n",
       "      <td>None</td>\n",
       "      <td>None</td>\n",
       "      <td>NaN</td>\n",
       "      <td>gini</td>\n",
       "      <td>2.0</td>\n",
       "      <td>4.0</td>\n",
       "    </tr>\n",
       "    <tr>\n",
       "      <th>78</th>\n",
       "      <td>DecisionTreeClassifier</td>\n",
       "      <td>0.696256</td>\n",
       "      <td>None</td>\n",
       "      <td>None</td>\n",
       "      <td>NaN</td>\n",
       "      <td>gini</td>\n",
       "      <td>2.0</td>\n",
       "      <td>2.0</td>\n",
       "    </tr>\n",
       "    <tr>\n",
       "      <th>77</th>\n",
       "      <td>DecisionTreeClassifier</td>\n",
       "      <td>0.696256</td>\n",
       "      <td>None</td>\n",
       "      <td>None</td>\n",
       "      <td>NaN</td>\n",
       "      <td>gini</td>\n",
       "      <td>2.0</td>\n",
       "      <td>1.0</td>\n",
       "    </tr>\n",
       "    <tr>\n",
       "      <th>74</th>\n",
       "      <td>DecisionTreeClassifier</td>\n",
       "      <td>0.696256</td>\n",
       "      <td>None</td>\n",
       "      <td>None</td>\n",
       "      <td>NaN</td>\n",
       "      <td>gini</td>\n",
       "      <td>3.0</td>\n",
       "      <td>7.0</td>\n",
       "    </tr>\n",
       "    <tr>\n",
       "      <th>73</th>\n",
       "      <td>DecisionTreeClassifier</td>\n",
       "      <td>0.696256</td>\n",
       "      <td>None</td>\n",
       "      <td>None</td>\n",
       "      <td>NaN</td>\n",
       "      <td>gini</td>\n",
       "      <td>3.0</td>\n",
       "      <td>6.0</td>\n",
       "    </tr>\n",
       "    <tr>\n",
       "      <th>79</th>\n",
       "      <td>DecisionTreeClassifier</td>\n",
       "      <td>0.696256</td>\n",
       "      <td>None</td>\n",
       "      <td>None</td>\n",
       "      <td>NaN</td>\n",
       "      <td>gini</td>\n",
       "      <td>2.0</td>\n",
       "      <td>3.0</td>\n",
       "    </tr>\n",
       "    <tr>\n",
       "      <th>130</th>\n",
       "      <td>DecisionTreeClassifier</td>\n",
       "      <td>0.695652</td>\n",
       "      <td>None</td>\n",
       "      <td>None</td>\n",
       "      <td>NaN</td>\n",
       "      <td>entropy</td>\n",
       "      <td>5.0</td>\n",
       "      <td>9.0</td>\n",
       "    </tr>\n",
       "    <tr>\n",
       "      <th>69</th>\n",
       "      <td>DecisionTreeClassifier</td>\n",
       "      <td>0.695652</td>\n",
       "      <td>None</td>\n",
       "      <td>None</td>\n",
       "      <td>NaN</td>\n",
       "      <td>gini</td>\n",
       "      <td>3.0</td>\n",
       "      <td>2.0</td>\n",
       "    </tr>\n",
       "    <tr>\n",
       "      <th>...</th>\n",
       "      <td>...</td>\n",
       "      <td>...</td>\n",
       "      <td>...</td>\n",
       "      <td>...</td>\n",
       "      <td>...</td>\n",
       "      <td>...</td>\n",
       "      <td>...</td>\n",
       "      <td>...</td>\n",
       "    </tr>\n",
       "    <tr>\n",
       "      <th>67</th>\n",
       "      <td>DecisionTreeClassifier</td>\n",
       "      <td>0.686594</td>\n",
       "      <td>None</td>\n",
       "      <td>None</td>\n",
       "      <td>NaN</td>\n",
       "      <td>gini</td>\n",
       "      <td>4.0</td>\n",
       "      <td>9.0</td>\n",
       "    </tr>\n",
       "    <tr>\n",
       "      <th>59</th>\n",
       "      <td>DecisionTreeClassifier</td>\n",
       "      <td>0.686594</td>\n",
       "      <td>None</td>\n",
       "      <td>None</td>\n",
       "      <td>NaN</td>\n",
       "      <td>gini</td>\n",
       "      <td>4.0</td>\n",
       "      <td>1.0</td>\n",
       "    </tr>\n",
       "    <tr>\n",
       "      <th>55</th>\n",
       "      <td>DecisionTreeClassifier</td>\n",
       "      <td>0.686594</td>\n",
       "      <td>None</td>\n",
       "      <td>None</td>\n",
       "      <td>NaN</td>\n",
       "      <td>gini</td>\n",
       "      <td>5.0</td>\n",
       "      <td>6.0</td>\n",
       "    </tr>\n",
       "    <tr>\n",
       "      <th>137</th>\n",
       "      <td>DecisionTreeClassifier</td>\n",
       "      <td>0.685990</td>\n",
       "      <td>None</td>\n",
       "      <td>None</td>\n",
       "      <td>NaN</td>\n",
       "      <td>entropy</td>\n",
       "      <td>4.0</td>\n",
       "      <td>7.0</td>\n",
       "    </tr>\n",
       "    <tr>\n",
       "      <th>117</th>\n",
       "      <td>DecisionTreeClassifier</td>\n",
       "      <td>0.685990</td>\n",
       "      <td>None</td>\n",
       "      <td>None</td>\n",
       "      <td>NaN</td>\n",
       "      <td>entropy</td>\n",
       "      <td>6.0</td>\n",
       "      <td>5.0</td>\n",
       "    </tr>\n",
       "    <tr>\n",
       "      <th>134</th>\n",
       "      <td>DecisionTreeClassifier</td>\n",
       "      <td>0.685990</td>\n",
       "      <td>None</td>\n",
       "      <td>None</td>\n",
       "      <td>NaN</td>\n",
       "      <td>entropy</td>\n",
       "      <td>4.0</td>\n",
       "      <td>4.0</td>\n",
       "    </tr>\n",
       "    <tr>\n",
       "      <th>56</th>\n",
       "      <td>DecisionTreeClassifier</td>\n",
       "      <td>0.685990</td>\n",
       "      <td>None</td>\n",
       "      <td>None</td>\n",
       "      <td>NaN</td>\n",
       "      <td>gini</td>\n",
       "      <td>5.0</td>\n",
       "      <td>7.0</td>\n",
       "    </tr>\n",
       "    <tr>\n",
       "      <th>107</th>\n",
       "      <td>DecisionTreeClassifier</td>\n",
       "      <td>0.685386</td>\n",
       "      <td>None</td>\n",
       "      <td>None</td>\n",
       "      <td>NaN</td>\n",
       "      <td>entropy</td>\n",
       "      <td>7.0</td>\n",
       "      <td>4.0</td>\n",
       "    </tr>\n",
       "    <tr>\n",
       "      <th>114</th>\n",
       "      <td>DecisionTreeClassifier</td>\n",
       "      <td>0.685386</td>\n",
       "      <td>None</td>\n",
       "      <td>None</td>\n",
       "      <td>NaN</td>\n",
       "      <td>entropy</td>\n",
       "      <td>6.0</td>\n",
       "      <td>2.0</td>\n",
       "    </tr>\n",
       "    <tr>\n",
       "      <th>54</th>\n",
       "      <td>DecisionTreeClassifier</td>\n",
       "      <td>0.685386</td>\n",
       "      <td>None</td>\n",
       "      <td>None</td>\n",
       "      <td>NaN</td>\n",
       "      <td>gini</td>\n",
       "      <td>5.0</td>\n",
       "      <td>5.0</td>\n",
       "    </tr>\n",
       "    <tr>\n",
       "      <th>133</th>\n",
       "      <td>DecisionTreeClassifier</td>\n",
       "      <td>0.684783</td>\n",
       "      <td>None</td>\n",
       "      <td>None</td>\n",
       "      <td>NaN</td>\n",
       "      <td>entropy</td>\n",
       "      <td>4.0</td>\n",
       "      <td>3.0</td>\n",
       "    </tr>\n",
       "    <tr>\n",
       "      <th>121</th>\n",
       "      <td>DecisionTreeClassifier</td>\n",
       "      <td>0.684179</td>\n",
       "      <td>None</td>\n",
       "      <td>None</td>\n",
       "      <td>NaN</td>\n",
       "      <td>entropy</td>\n",
       "      <td>6.0</td>\n",
       "      <td>9.0</td>\n",
       "    </tr>\n",
       "    <tr>\n",
       "      <th>131</th>\n",
       "      <td>DecisionTreeClassifier</td>\n",
       "      <td>0.684179</td>\n",
       "      <td>None</td>\n",
       "      <td>None</td>\n",
       "      <td>NaN</td>\n",
       "      <td>entropy</td>\n",
       "      <td>4.0</td>\n",
       "      <td>1.0</td>\n",
       "    </tr>\n",
       "    <tr>\n",
       "      <th>48</th>\n",
       "      <td>DecisionTreeClassifier</td>\n",
       "      <td>0.684179</td>\n",
       "      <td>None</td>\n",
       "      <td>None</td>\n",
       "      <td>NaN</td>\n",
       "      <td>gini</td>\n",
       "      <td>6.0</td>\n",
       "      <td>8.0</td>\n",
       "    </tr>\n",
       "    <tr>\n",
       "      <th>132</th>\n",
       "      <td>DecisionTreeClassifier</td>\n",
       "      <td>0.683575</td>\n",
       "      <td>None</td>\n",
       "      <td>None</td>\n",
       "      <td>NaN</td>\n",
       "      <td>entropy</td>\n",
       "      <td>4.0</td>\n",
       "      <td>2.0</td>\n",
       "    </tr>\n",
       "    <tr>\n",
       "      <th>113</th>\n",
       "      <td>DecisionTreeClassifier</td>\n",
       "      <td>0.682971</td>\n",
       "      <td>None</td>\n",
       "      <td>None</td>\n",
       "      <td>NaN</td>\n",
       "      <td>entropy</td>\n",
       "      <td>6.0</td>\n",
       "      <td>1.0</td>\n",
       "    </tr>\n",
       "    <tr>\n",
       "      <th>110</th>\n",
       "      <td>DecisionTreeClassifier</td>\n",
       "      <td>0.681159</td>\n",
       "      <td>None</td>\n",
       "      <td>None</td>\n",
       "      <td>NaN</td>\n",
       "      <td>entropy</td>\n",
       "      <td>7.0</td>\n",
       "      <td>7.0</td>\n",
       "    </tr>\n",
       "    <tr>\n",
       "      <th>106</th>\n",
       "      <td>DecisionTreeClassifier</td>\n",
       "      <td>0.680556</td>\n",
       "      <td>None</td>\n",
       "      <td>None</td>\n",
       "      <td>NaN</td>\n",
       "      <td>entropy</td>\n",
       "      <td>7.0</td>\n",
       "      <td>3.0</td>\n",
       "    </tr>\n",
       "    <tr>\n",
       "      <th>49</th>\n",
       "      <td>DecisionTreeClassifier</td>\n",
       "      <td>0.679952</td>\n",
       "      <td>None</td>\n",
       "      <td>None</td>\n",
       "      <td>NaN</td>\n",
       "      <td>gini</td>\n",
       "      <td>6.0</td>\n",
       "      <td>9.0</td>\n",
       "    </tr>\n",
       "    <tr>\n",
       "      <th>24</th>\n",
       "      <td>DecisionTreeClassifier</td>\n",
       "      <td>0.679952</td>\n",
       "      <td>None</td>\n",
       "      <td>None</td>\n",
       "      <td>NaN</td>\n",
       "      <td>gini</td>\n",
       "      <td>8.0</td>\n",
       "      <td>2.0</td>\n",
       "    </tr>\n",
       "    <tr>\n",
       "      <th>109</th>\n",
       "      <td>DecisionTreeClassifier</td>\n",
       "      <td>0.679348</td>\n",
       "      <td>None</td>\n",
       "      <td>None</td>\n",
       "      <td>NaN</td>\n",
       "      <td>entropy</td>\n",
       "      <td>7.0</td>\n",
       "      <td>6.0</td>\n",
       "    </tr>\n",
       "    <tr>\n",
       "      <th>105</th>\n",
       "      <td>DecisionTreeClassifier</td>\n",
       "      <td>0.679348</td>\n",
       "      <td>None</td>\n",
       "      <td>None</td>\n",
       "      <td>NaN</td>\n",
       "      <td>entropy</td>\n",
       "      <td>7.0</td>\n",
       "      <td>2.0</td>\n",
       "    </tr>\n",
       "    <tr>\n",
       "      <th>43</th>\n",
       "      <td>DecisionTreeClassifier</td>\n",
       "      <td>0.677536</td>\n",
       "      <td>None</td>\n",
       "      <td>None</td>\n",
       "      <td>NaN</td>\n",
       "      <td>gini</td>\n",
       "      <td>6.0</td>\n",
       "      <td>3.0</td>\n",
       "    </tr>\n",
       "    <tr>\n",
       "      <th>104</th>\n",
       "      <td>DecisionTreeClassifier</td>\n",
       "      <td>0.677536</td>\n",
       "      <td>None</td>\n",
       "      <td>None</td>\n",
       "      <td>NaN</td>\n",
       "      <td>entropy</td>\n",
       "      <td>7.0</td>\n",
       "      <td>1.0</td>\n",
       "    </tr>\n",
       "    <tr>\n",
       "      <th>33</th>\n",
       "      <td>DecisionTreeClassifier</td>\n",
       "      <td>0.676932</td>\n",
       "      <td>None</td>\n",
       "      <td>None</td>\n",
       "      <td>NaN</td>\n",
       "      <td>gini</td>\n",
       "      <td>7.0</td>\n",
       "      <td>2.0</td>\n",
       "    </tr>\n",
       "    <tr>\n",
       "      <th>112</th>\n",
       "      <td>DecisionTreeClassifier</td>\n",
       "      <td>0.676329</td>\n",
       "      <td>None</td>\n",
       "      <td>None</td>\n",
       "      <td>NaN</td>\n",
       "      <td>entropy</td>\n",
       "      <td>7.0</td>\n",
       "      <td>9.0</td>\n",
       "    </tr>\n",
       "    <tr>\n",
       "      <th>100</th>\n",
       "      <td>DecisionTreeClassifier</td>\n",
       "      <td>0.676329</td>\n",
       "      <td>None</td>\n",
       "      <td>None</td>\n",
       "      <td>NaN</td>\n",
       "      <td>entropy</td>\n",
       "      <td>8.0</td>\n",
       "      <td>6.0</td>\n",
       "    </tr>\n",
       "    <tr>\n",
       "      <th>25</th>\n",
       "      <td>DecisionTreeClassifier</td>\n",
       "      <td>0.676329</td>\n",
       "      <td>None</td>\n",
       "      <td>None</td>\n",
       "      <td>NaN</td>\n",
       "      <td>gini</td>\n",
       "      <td>8.0</td>\n",
       "      <td>3.0</td>\n",
       "    </tr>\n",
       "    <tr>\n",
       "      <th>101</th>\n",
       "      <td>DecisionTreeClassifier</td>\n",
       "      <td>0.675725</td>\n",
       "      <td>None</td>\n",
       "      <td>None</td>\n",
       "      <td>NaN</td>\n",
       "      <td>entropy</td>\n",
       "      <td>8.0</td>\n",
       "      <td>7.0</td>\n",
       "    </tr>\n",
       "    <tr>\n",
       "      <th>97</th>\n",
       "      <td>DecisionTreeClassifier</td>\n",
       "      <td>0.675121</td>\n",
       "      <td>None</td>\n",
       "      <td>None</td>\n",
       "      <td>NaN</td>\n",
       "      <td>entropy</td>\n",
       "      <td>8.0</td>\n",
       "      <td>3.0</td>\n",
       "    </tr>\n",
       "  </tbody>\n",
       "</table>\n",
       "<p>100 rows × 8 columns</p>\n",
       "</div>"
      ],
      "text/plain": [
       "                      model  accuracy penalty     solver    C criterion  \\\n",
       "0        LogisticRegression  0.709541      l1       saga  0.1      None   \n",
       "7        LogisticRegression  0.708937      l2  liblinear  0.1      None   \n",
       "149  DecisionTreeClassifier  0.702295    None       None  NaN   entropy   \n",
       "154  DecisionTreeClassifier  0.702295    None       None  NaN   entropy   \n",
       "153  DecisionTreeClassifier  0.702295    None       None  NaN   entropy   \n",
       "152  DecisionTreeClassifier  0.702295    None       None  NaN   entropy   \n",
       "151  DecisionTreeClassifier  0.702295    None       None  NaN   entropy   \n",
       "150  DecisionTreeClassifier  0.702295    None       None  NaN   entropy   \n",
       "156  DecisionTreeClassifier  0.698671    None       None  NaN   entropy   \n",
       "155  DecisionTreeClassifier  0.698671    None       None  NaN   entropy   \n",
       "157  DecisionTreeClassifier  0.698671    None       None  NaN   entropy   \n",
       "148  DecisionTreeClassifier  0.697464    None       None  NaN   entropy   \n",
       "147  DecisionTreeClassifier  0.697464    None       None  NaN   entropy   \n",
       "146  DecisionTreeClassifier  0.697464    None       None  NaN   entropy   \n",
       "76   DecisionTreeClassifier  0.696860    None       None  NaN      gini   \n",
       "75   DecisionTreeClassifier  0.696860    None       None  NaN      gini   \n",
       "84   DecisionTreeClassifier  0.696256    None       None  NaN      gini   \n",
       "72   DecisionTreeClassifier  0.696256    None       None  NaN      gini   \n",
       "85   DecisionTreeClassifier  0.696256    None       None  NaN      gini   \n",
       "83   DecisionTreeClassifier  0.696256    None       None  NaN      gini   \n",
       "82   DecisionTreeClassifier  0.696256    None       None  NaN      gini   \n",
       "81   DecisionTreeClassifier  0.696256    None       None  NaN      gini   \n",
       "80   DecisionTreeClassifier  0.696256    None       None  NaN      gini   \n",
       "78   DecisionTreeClassifier  0.696256    None       None  NaN      gini   \n",
       "77   DecisionTreeClassifier  0.696256    None       None  NaN      gini   \n",
       "74   DecisionTreeClassifier  0.696256    None       None  NaN      gini   \n",
       "73   DecisionTreeClassifier  0.696256    None       None  NaN      gini   \n",
       "79   DecisionTreeClassifier  0.696256    None       None  NaN      gini   \n",
       "130  DecisionTreeClassifier  0.695652    None       None  NaN   entropy   \n",
       "69   DecisionTreeClassifier  0.695652    None       None  NaN      gini   \n",
       "..                      ...       ...     ...        ...  ...       ...   \n",
       "67   DecisionTreeClassifier  0.686594    None       None  NaN      gini   \n",
       "59   DecisionTreeClassifier  0.686594    None       None  NaN      gini   \n",
       "55   DecisionTreeClassifier  0.686594    None       None  NaN      gini   \n",
       "137  DecisionTreeClassifier  0.685990    None       None  NaN   entropy   \n",
       "117  DecisionTreeClassifier  0.685990    None       None  NaN   entropy   \n",
       "134  DecisionTreeClassifier  0.685990    None       None  NaN   entropy   \n",
       "56   DecisionTreeClassifier  0.685990    None       None  NaN      gini   \n",
       "107  DecisionTreeClassifier  0.685386    None       None  NaN   entropy   \n",
       "114  DecisionTreeClassifier  0.685386    None       None  NaN   entropy   \n",
       "54   DecisionTreeClassifier  0.685386    None       None  NaN      gini   \n",
       "133  DecisionTreeClassifier  0.684783    None       None  NaN   entropy   \n",
       "121  DecisionTreeClassifier  0.684179    None       None  NaN   entropy   \n",
       "131  DecisionTreeClassifier  0.684179    None       None  NaN   entropy   \n",
       "48   DecisionTreeClassifier  0.684179    None       None  NaN      gini   \n",
       "132  DecisionTreeClassifier  0.683575    None       None  NaN   entropy   \n",
       "113  DecisionTreeClassifier  0.682971    None       None  NaN   entropy   \n",
       "110  DecisionTreeClassifier  0.681159    None       None  NaN   entropy   \n",
       "106  DecisionTreeClassifier  0.680556    None       None  NaN   entropy   \n",
       "49   DecisionTreeClassifier  0.679952    None       None  NaN      gini   \n",
       "24   DecisionTreeClassifier  0.679952    None       None  NaN      gini   \n",
       "109  DecisionTreeClassifier  0.679348    None       None  NaN   entropy   \n",
       "105  DecisionTreeClassifier  0.679348    None       None  NaN   entropy   \n",
       "43   DecisionTreeClassifier  0.677536    None       None  NaN      gini   \n",
       "104  DecisionTreeClassifier  0.677536    None       None  NaN   entropy   \n",
       "33   DecisionTreeClassifier  0.676932    None       None  NaN      gini   \n",
       "112  DecisionTreeClassifier  0.676329    None       None  NaN   entropy   \n",
       "100  DecisionTreeClassifier  0.676329    None       None  NaN   entropy   \n",
       "25   DecisionTreeClassifier  0.676329    None       None  NaN      gini   \n",
       "101  DecisionTreeClassifier  0.675725    None       None  NaN   entropy   \n",
       "97   DecisionTreeClassifier  0.675121    None       None  NaN   entropy   \n",
       "\n",
       "     max_depth  min_samples_leaf  \n",
       "0          NaN               NaN  \n",
       "7          NaN               NaN  \n",
       "149        2.0               1.0  \n",
       "154        2.0               6.0  \n",
       "153        2.0               5.0  \n",
       "152        2.0               4.0  \n",
       "151        2.0               3.0  \n",
       "150        2.0               2.0  \n",
       "156        2.0               8.0  \n",
       "155        2.0               7.0  \n",
       "157        2.0               9.0  \n",
       "148        3.0               9.0  \n",
       "147        3.0               8.0  \n",
       "146        3.0               7.0  \n",
       "76         3.0               9.0  \n",
       "75         3.0               8.0  \n",
       "84         2.0               8.0  \n",
       "72         3.0               5.0  \n",
       "85         2.0               9.0  \n",
       "83         2.0               7.0  \n",
       "82         2.0               6.0  \n",
       "81         2.0               5.0  \n",
       "80         2.0               4.0  \n",
       "78         2.0               2.0  \n",
       "77         2.0               1.0  \n",
       "74         3.0               7.0  \n",
       "73         3.0               6.0  \n",
       "79         2.0               3.0  \n",
       "130        5.0               9.0  \n",
       "69         3.0               2.0  \n",
       "..         ...               ...  \n",
       "67         4.0               9.0  \n",
       "59         4.0               1.0  \n",
       "55         5.0               6.0  \n",
       "137        4.0               7.0  \n",
       "117        6.0               5.0  \n",
       "134        4.0               4.0  \n",
       "56         5.0               7.0  \n",
       "107        7.0               4.0  \n",
       "114        6.0               2.0  \n",
       "54         5.0               5.0  \n",
       "133        4.0               3.0  \n",
       "121        6.0               9.0  \n",
       "131        4.0               1.0  \n",
       "48         6.0               8.0  \n",
       "132        4.0               2.0  \n",
       "113        6.0               1.0  \n",
       "110        7.0               7.0  \n",
       "106        7.0               3.0  \n",
       "49         6.0               9.0  \n",
       "24         8.0               2.0  \n",
       "109        7.0               6.0  \n",
       "105        7.0               2.0  \n",
       "43         6.0               3.0  \n",
       "104        7.0               1.0  \n",
       "33         7.0               2.0  \n",
       "112        7.0               9.0  \n",
       "100        8.0               6.0  \n",
       "25         8.0               3.0  \n",
       "101        8.0               7.0  \n",
       "97         8.0               3.0  \n",
       "\n",
       "[100 rows x 8 columns]"
      ]
     },
     "execution_count": 123,
     "metadata": {},
     "output_type": "execute_result"
    }
   ],
   "source": [
    "result_df = pd.DataFrame(result_dict, columns=result_attributes)\n",
    "result_df.sort_values(\"accuracy\",ascending=False).head(n=100)"
   ]
  },
  {
   "cell_type": "code",
   "execution_count": 132,
   "metadata": {},
   "outputs": [
    {
     "data": {
      "text/plain": [
       "array([0., 0., 0., ..., 0., 0., 0.])"
      ]
     },
     "execution_count": 132,
     "metadata": {},
     "output_type": "execute_result"
    }
   ],
   "source": [
    "estimator_results[1].best_estimator_.feature_importances_"
   ]
  },
  {
   "cell_type": "code",
   "execution_count": 130,
   "metadata": {},
   "outputs": [
    {
     "data": {
      "text/plain": [
       "Index(['max_vol', 'contin_jupo', 'samo_vol_ratio', 'sec_vol_ratio',\n",
       "       'ins_vol_ratio', 'tusin_vol_ratio', 'bank_vol_ratio', 'jong_vol_ratio',\n",
       "       'fund_vol_ratio', 'etcom_vol_ratio',\n",
       "       ...\n",
       "       'max_jupo_etc_vol', 'max_jupo_etcom_vol', 'max_jupo_for_noreg_vol',\n",
       "       'max_jupo_for_reg_vol', 'max_jupo_for_vol', 'max_jupo_fund_vol',\n",
       "       'max_jupo_per_vol', 'max_jupo_samo_vol', 'max_jupo_sec_vol',\n",
       "       'max_jupo_tusin_vol'],\n",
       "      dtype='object', length=1110)"
      ]
     },
     "execution_count": 130,
     "metadata": {},
     "output_type": "execute_result"
    }
   ],
   "source": [
    "df_mordified.iloc[:, 1:].columns"
   ]
  },
  {
   "cell_type": "code",
   "execution_count": 133,
   "metadata": {},
   "outputs": [
    {
     "data": {
      "text/plain": [
       "array([[ 0.        , -0.10196802,  0.        , ...,  0.        ,\n",
       "         0.        ,  0.        ]])"
      ]
     },
     "execution_count": 133,
     "metadata": {},
     "output_type": "execute_result"
    }
   ],
   "source": [
    "estimator_results[0].best_estimator_.coef_"
   ]
  },
  {
   "cell_type": "code",
   "execution_count": null,
   "metadata": {},
   "outputs": [],
   "source": [
    "best_tree = estimator_results[1].best_estimator_\n",
    "column_names=  pd.get_dummies(all_df).columns"
   ]
  },
  {
   "cell_type": "code",
   "execution_count": null,
   "metadata": {},
   "outputs": [],
   "source": [
    "column_names"
   ]
  },
  {
   "cell_type": "code",
   "execution_count": null,
   "metadata": {},
   "outputs": [],
   "source": [
    "import pydotplus\n",
    "from sklearn.externals.six import StringIO\n",
    "from sklearn import tree\n",
    "\n",
    "dot_data = StringIO()\n",
    "tree.export_graphviz(best_tree, out_file=dot_data, feature_names=column_names) \n",
    "\n",
    "graph = pydotplus.pydotplus.graph_from_dot_data(dot_data.getvalue())\n",
    "graph.write_png(\"titanic.png\")\n",
    "from IPython.core.display import Image \n",
    "Image(filename='titanic.png')"
   ]
  },
  {
   "cell_type": "code",
   "execution_count": null,
   "metadata": {},
   "outputs": [],
   "source": []
  },
  {
   "cell_type": "markdown",
   "metadata": {},
   "source": [
    "pca"
   ]
  },
  {
   "cell_type": "code",
   "execution_count": null,
   "metadata": {},
   "outputs": [],
   "source": [
    "'''\n",
    "from sklearn.preprocessing import StandardScaler\n",
    "features = df_mordified[:,1].columns\n",
    "# Separating out the features\n",
    "x = df.loc[:, features].values\n",
    "# Separating out the target\n",
    "y = df.loc[:,['y']].values\n",
    "# Standardizing the features\n",
    "x = StandardScaler().fit_transform(x)\n",
    "'''"
   ]
  },
  {
   "cell_type": "code",
   "execution_count": 135,
   "metadata": {},
   "outputs": [],
   "source": [
    "from sklearn.decomposition import PCA\n",
    "pca = PCA(n_components=2)\n",
    "principalComponents = pca.fit_transform(x_data_n)\n",
    "principalDf = pd.DataFrame(data = principalComponents\n",
    "             , columns = ['principal component 1', 'principal component 2'])"
   ]
  },
  {
   "cell_type": "code",
   "execution_count": 136,
   "metadata": {},
   "outputs": [],
   "source": [
    "finalDf = pd.concat([principalDf, df_mordified[['y']]], axis = 1)"
   ]
  },
  {
   "cell_type": "code",
   "execution_count": 138,
   "metadata": {},
   "outputs": [],
   "source": [
    "import matplotlib.pyplot as plt"
   ]
  },
  {
   "cell_type": "code",
   "execution_count": 141,
   "metadata": {},
   "outputs": [
    {
     "data": {
      "image/png": "[encoded data removed]",
      "text/plain": [
       "<Figure size 576x576 with 1 Axes>"
      ]
     },
     "metadata": {
      "needs_background": "light"
     },
     "output_type": "display_data"
    }
   ],
   "source": [
    "fig = plt.figure(figsize = (8,8))\n",
    "ax = fig.add_subplot(1,1,1) \n",
    "ax.set_xlabel('Principal Component 1', fontsize = 15)\n",
    "ax.set_ylabel('Principal Component 2', fontsize = 15)\n",
    "ax.set_title('2 component PCA', fontsize = 20)\n",
    "targets = [1, 0]\n",
    "colors = ['r', 'g']\n",
    "for target, color in zip(targets,colors):\n",
    "    indicesToKeep = finalDf['y'] == target\n",
    "    ax.scatter(finalDf.loc[indicesToKeep, 'principal component 1']\n",
    "               , finalDf.loc[indicesToKeep, 'principal component 2']\n",
    "               , c = color\n",
    "               , s = 50)\n",
    "ax.legend(targets)\n",
    "ax.grid()"
   ]
  },
  {
   "cell_type": "code",
   "execution_count": null,
   "metadata": {},
   "outputs": [],
   "source": []
  },
  {
   "cell_type": "markdown",
   "metadata": {},
   "source": [
    "model selectd"
   ]
  },
  {
   "cell_type": "code",
   "execution_count": null,
   "metadata": {},
   "outputs": [],
   "source": []
  },
  {
   "cell_type": "code",
   "execution_count": null,
   "metadata": {},
   "outputs": [],
   "source": [
    "final = pd.merge(rrr, per_df, how = 'left', on = ['date','index','shcode'])\n",
    "final[['index' ,'shcode','shname', 'target_m', 'date', 'close_ratio', 'open_', 'low', 'high', 'close','volume' , \n",
    "       'range_position', 'squeezed',\n",
    "       'month_ma5_score', 'high_month', 'for_net_buy_sum','com_net_buy_sum', 'per_net_buy_sum',\n",
    "       'week_ma5_score','week_ma20_score',\n",
    "       'week_golden_cross', 'week_dead_cross', 'week_up', 'week_down',\n",
    "       'close_ma5', 'close_ma10', 'close_ma20', 'close_ma60','close_ma120',\n",
    "       'obv',\n",
    "       'rsi14', 'rsi14_signal', 'slowk', 'slowd', 'ma_g_c', 'ma_d_c', 'rsi_g_c', 'rsi_d_c',\n",
    "       'stoc_g_c', 'stoc_d_c'\n",
    "      ]].to_csv(\"bf_target_day_using_weekly_v3.csv\",encoding = 'ms949')"
   ]
  },
  {
   "cell_type": "code",
   "execution_count": 24,
   "metadata": {},
   "outputs": [
    {
     "data": {
      "text/plain": [
       "True"
      ]
     },
     "execution_count": 24,
     "metadata": {},
     "output_type": "execute_result"
    }
   ],
   "source": [
    "target_day_diff.iloc[1] <= datetime.timedelta(days = 30)"
   ]
  },
  {
   "cell_type": "code",
   "execution_count": 22,
   "metadata": {},
   "outputs": [
    {
     "data": {
      "text/plain": [
       "Timedelta('21 days 00:00:00')"
      ]
     },
     "execution_count": 22,
     "metadata": {},
     "output_type": "execute_result"
    }
   ],
   "source": [
    "(next_target_day_list - target_day_list).iloc[1]"
   ]
  },
  {
   "cell_type": "code",
   "execution_count": 6,
   "metadata": {},
   "outputs": [
    {
     "data": {
      "text/plain": [
       "Timestamp('2019-04-24 00:00:00')"
      ]
     },
     "execution_count": 6,
     "metadata": {},
     "output_type": "execute_result"
    }
   ],
   "source": [
    "target_day_list.iloc[0]"
   ]
  },
  {
   "cell_type": "code",
   "execution_count": 7,
   "metadata": {},
   "outputs": [
    {
     "data": {
      "text/plain": [
       "Timestamp('2019-04-23 00:00:00')"
      ]
     },
     "execution_count": 7,
     "metadata": {},
     "output_type": "execute_result"
    }
   ],
   "source": [
    "target_day_list.iloc[0] - of.DateOffset(n=1)"
   ]
  },
  {
   "cell_type": "code",
   "execution_count": null,
   "metadata": {},
   "outputs": [],
   "source": []
  },
  {
   "cell_type": "code",
   "execution_count": 15,
   "metadata": {},
   "outputs": [],
   "source": []
  },
  {
   "cell_type": "code",
   "execution_count": 6,
   "metadata": {},
   "outputs": [
    {
     "data": {
      "text/plain": [
       "(2471, 9)"
      ]
     },
     "execution_count": 6,
     "metadata": {},
     "output_type": "execute_result"
    }
   ],
   "source": [
    "df.shape"
   ]
  },
  {
   "cell_type": "code",
   "execution_count": 13,
   "metadata": {
    "scrolled": true
   },
   "outputs": [
    {
     "data": {
      "text/plain": [
       "shcode  shname    target_day\n",
       "057030  YBM넷      20190520      2\n",
       "                  20181220      2\n",
       "                  20190910      2\n",
       "                  20190905      2\n",
       "                  20190521      2\n",
       "                  20181219      2\n",
       "                  20190211      2\n",
       "256840  한국비엔씨     20190821      2\n",
       "036580  팜스코       20190917      1\n",
       "036540  SFA반도체    20190814      1\n",
       "                  20190507      1\n",
       "                  20190429      1\n",
       "                  20190423      1\n",
       "950170  JTC       20190227      1\n",
       "036200  유니셈       20190314      1\n",
       "036540  SFA반도체    20190422      1\n",
       "036480  대성미생물     20190917      1\n",
       "                  20190531      1\n",
       "                  20190418      1\n",
       "                  20190129      1\n",
       "036580  팜스코       20190925      1\n",
       "036630  세종텔레콤     20190906      1\n",
       "036640  HRS       20190916      1\n",
       "036810  에프에스티     20190212      1\n",
       "037070  파세코       20190327      1\n",
       "                  20190326      1\n",
       "                  20190306      1\n",
       "037030  파워넷       20190827      1\n",
       "                  20190826      1\n",
       "                  20190819      1\n",
       "                               ..\n",
       "098120  마이크로컨텍솔   20190704      1\n",
       "097870  효성오앤비     20190114      1\n",
       "097230  한진중공업     20190423      1\n",
       "                  20190124      1\n",
       "                  20190123      1\n",
       "                  20190116      1\n",
       "096760  JW홀딩스     20190716      1\n",
       "096690  제이스테판     20190521      1\n",
       "096630  에스코넥      20191113      1\n",
       "                  20191016      1\n",
       "099220  SDN       20191111      1\n",
       "099440  스맥        20190401      1\n",
       "101140  비티원       20181220      1\n",
       "099440  스맥        20190709      1\n",
       "101000  상상인인더스트리  20190906      1\n",
       "100660  서암기계공업    20190923      1\n",
       "                  20190911      1\n",
       "                  20190716      1\n",
       "                  20190710      1\n",
       "                  20190709      1\n",
       "                  20190610      1\n",
       "                  20181221      1\n",
       "100590  머큐리       20190904      1\n",
       "                  20190513      1\n",
       "                  20190409      1\n",
       "                  20190315      1\n",
       "100220  비상교육      20190514      1\n",
       "100030  모바일리더     20190416      1\n",
       "                  20190412      1\n",
       "000080  하이트진로     20190424      1\n",
       "Name: shcode, Length: 2463, dtype: int64"
      ]
     },
     "execution_count": 13,
     "metadata": {},
     "output_type": "execute_result"
    }
   ],
   "source": [
    "df[['shcode','shname','target_day']].groupby(['shcode','shname','target_day'])['shcode'].count().sort_values(ascending= False)"
   ]
  },
  {
   "cell_type": "code",
   "execution_count": 10,
   "metadata": {},
   "outputs": [
    {
     "data": {
      "text/plain": [
       "(2463, 3)"
      ]
     },
     "execution_count": 10,
     "metadata": {},
     "output_type": "execute_result"
    }
   ],
   "source": [
    "df[['shcode','shname','target_day']].drop_duplicates().shape"
   ]
  },
  {
   "cell_type": "code",
   "execution_count": 8,
   "metadata": {},
   "outputs": [],
   "source": [
    "#df.to_excel('11111.xlsx')"
   ]
  },
  {
   "cell_type": "code",
   "execution_count": 4,
   "metadata": {},
   "outputs": [
    {
     "data": {
      "text/plain": [
       "Index(['shcode', 'target_day', 'upcode', 'upname', 'tmcode', 'tmname',\n",
       "       'shname', 'target_m'],\n",
       "      dtype='object')"
      ]
     },
     "execution_count": 4,
     "metadata": {},
     "output_type": "execute_result"
    }
   ],
   "source": [
    "df.columns"
   ]
  },
  {
   "cell_type": "code",
   "execution_count": 6,
   "metadata": {
    "scrolled": true
   },
   "outputs": [
    {
     "data": {
      "text/plain": [
       "upcode  upname       target_m\n",
       "320.0   제       약    201911      12\n",
       "319.0   화       학    201911      10\n",
       "308.0   유       통    201911       9\n",
       "307.0   건       설    201911       9\n",
       "12.0    기       계    201911       9\n",
       "19.0    운 수 창 고      201911       8\n",
       "345.0   기술성장 기업      201911       7\n",
       "315.0   음식료 담배       201911       7\n",
       "11.0    철 강 금 속      201911       7\n",
       "324.0   전 기/전 자      201911       6\n",
       "301.0   코스닥 종합       201911       6\n",
       "311.0   금       융    201911       5\n",
       "338.0   오락/문화        201911       5\n",
       "9.0     의   약  품     201911       5\n",
       "325.0   의 료/정 밀      201911       5\n",
       "114.0   KP200 에너지화학  201911       4\n",
       "16.0    유   통  업     201911       4\n",
       "4.0     소   형  주     201911       4\n",
       "304.0   IT   종  합    201911       4\n",
       "303.0   기타 서비스       201911       3\n",
       "333.0   컴퓨터서비스       201911       3\n",
       "26.0    서 비 스 업      201911       3\n",
       "310.0   운       송    201911       2\n",
       "316.0   섬 유/의 류      201911       2\n",
       "317.0   종 이/목 재      201911       2\n",
       "336.0   반   도  체     201911       2\n",
       "323.0   기 계 장 비      201911       2\n",
       "337.0   IT   부  품    201911       2\n",
       "20.0    통   신  업     201911       2\n",
       "331.0   디   지  털     201911       2\n",
       "18.0    건   설  업     201911       2\n",
       "313.0   IT   S / W   201911       1\n",
       "8.0     화       학    201911       1\n",
       "7.0     종 이 목 재      201911       1\n",
       "334.0   통 신 장 비      201911       1\n",
       "5.0     음 식 료 업      201911       1\n",
       "2.0     대   형  주     201911       1\n",
       "335.0   정 보 기 기      201911       1\n",
       "17.0    전 기 가 스      201911       1\n",
       "13.0    전 기 전 자      201911       1\n",
       "14.0    의 료 정 밀      201911       1\n",
       "15.0    운 수 장 비      201911       1\n",
       "111.0   KP200 건설     201911       1\n",
       "113.0   KP200 철강소재   201911       1\n",
       "326.0   운 송/부 품      201911       1\n",
       "321.0   비   금  속     201911       1\n",
       "1.0     종       합    201911       1\n",
       "Name: shcode, dtype: int64"
      ]
     },
     "execution_count": 6,
     "metadata": {},
     "output_type": "execute_result"
    }
   ],
   "source": [
    "# 최근\n",
    "df[df['target_m']=='201911'].groupby(['upcode','upname','target_m'])['shcode'].count().sort_values(ascending= False)"
   ]
  },
  {
   "cell_type": "code",
   "execution_count": null,
   "metadata": {},
   "outputs": [],
   "source": [
    "#최소\n",
    "df[df['upcode']==308].groupby(['upcode','upname'])['target_day'].min().sort_values(ascending= False)\n",
    "#최대\n",
    "df[df['upcode']==308].groupby(['upcode','upname'])['target_day'].max().sort_values(ascending= False)"
   ]
  },
  {
   "cell_type": "code",
   "execution_count": 7,
   "metadata": {
    "scrolled": false
   },
   "outputs": [
    {
     "data": {
      "text/plain": [
       "tmcode  tmname          target_m\n",
       "172.0   제약업체            201911      11\n",
       "377.0   치매 관련주          201911      11\n",
       "110.0   화장품             201911       7\n",
       "427.0   구충제(펜벤다졸 등)     201911       6\n",
       "421.0   日 불매운동 관련주      201911       6\n",
       "311.0   고령화 사회(노인복지)    201911       6\n",
       "166.0   항공/저가 항공사(LCC)  201911       6\n",
       "376.0   유전자 치료제/분석      201911       5\n",
       "335.0   재난/안전(지진 등)     201911       5\n",
       "331.0   가상화폐(비트코인 등)    201911       5\n",
       "387.0   블록체인            201911       5\n",
       "417.0   아프리카 돼지열병(ASF)  201911       5\n",
       "27.0    자동차부품           201911       5\n",
       "171.0   비철금속            201911       4\n",
       "111.0   지주사             201911       4\n",
       "33.0    LED             201911       4\n",
       "149.0   U-HEALTHCARE    201911       4\n",
       "279.0   스마트폰            201911       4\n",
       "393.0   갤럭시 부품주         201911       4\n",
       "401.0   원자력발전소 해체       201911       4\n",
       "420.0   2019 하반기 신규상장   201911       4\n",
       "113.0   음식료업종           201911       3\n",
       "191.0   태양광에너지          201911       3\n",
       "404.0   폴더블폰            201911       3\n",
       "128.0   엔터테인먼트          201911       3\n",
       "352.0   가상현실(VR)        201911       3\n",
       "374.0   4대강 복원          201911       3\n",
       "375.0   4차산업 수혜주        201911       3\n",
       "389.0   면역항암제           201911       3\n",
       "386.0   수소차             201911       3\n",
       "                                    ..\n",
       "408.0   마리화나(대마)        201911       1\n",
       "40.0    휴대폰부품           201911       1\n",
       "59.0    광고              201911       1\n",
       "76.0    여름관련주           201911       1\n",
       "144.0   방위산업/전쟁 및 테러    201911       1\n",
       "385.0   키오스크(KIOSK)     201911       1\n",
       "402.0   아스콘(아스팔트 콘크리트)  201911       1\n",
       "167.0   타이어             201911       1\n",
       "381.0   LNG(액화천연가스)     201911       1\n",
       "362.0   자율주행차           201911       1\n",
       "392.0   스마트팩토리(스마트공장)   201911       1\n",
       "334.0   사물인터넷           201911       1\n",
       "330.0   페인트             201911       1\n",
       "329.0   전력저장장치(ESS)     201911       1\n",
       "319.0   화학섬유            201911       1\n",
       "398.0   DMZ 평화공원        201911       1\n",
       "294.0   슈퍼박테리아          201911       1\n",
       "292.0   제4이동통신          201911       1\n",
       "285.0   마스크             201911       1\n",
       "269.0   LED장비           201911       1\n",
       "265.0   모바일게임(스마트폰)     201911       1\n",
       "232.0   미디어(방송/신문)      201911       1\n",
       "229.0   스마트그리드(지능형전력망)  201911       1\n",
       "210.0   자전거             201911       1\n",
       "206.0   농업              201911       1\n",
       "382.0   플렉서블 디스플레이      201911       1\n",
       "188.0   풍력에너지           201911       1\n",
       "399.0   북한 광물자원개발       201911       1\n",
       "170.0   골판지 제조          201911       1\n",
       "4.0     LCD BLU제조       201911       1\n",
       "Name: shcode, Length: 86, dtype: int64"
      ]
     },
     "execution_count": 7,
     "metadata": {},
     "output_type": "execute_result"
    }
   ],
   "source": [
    "df[df['target_m']=='201911'].groupby(['tmcode','tmname','target_m'])['shcode'].count().sort_values(ascending= False)\n"
   ]
  },
  {
   "cell_type": "code",
   "execution_count": 9,
   "metadata": {},
   "outputs": [
    {
     "data": {
      "text/html": [
       "<div>\n",
       "<style scoped>\n",
       "    .dataframe tbody tr th:only-of-type {\n",
       "        vertical-align: middle;\n",
       "    }\n",
       "\n",
       "    .dataframe tbody tr th {\n",
       "        vertical-align: top;\n",
       "    }\n",
       "\n",
       "    .dataframe thead th {\n",
       "        text-align: right;\n",
       "    }\n",
       "</style>\n",
       "<table border=\"1\" class=\"dataframe\">\n",
       "  <thead>\n",
       "    <tr style=\"text-align: right;\">\n",
       "      <th></th>\n",
       "      <th>shcode</th>\n",
       "      <th>target_day</th>\n",
       "      <th>upcode</th>\n",
       "      <th>upname</th>\n",
       "      <th>tmcode</th>\n",
       "      <th>tmname</th>\n",
       "      <th>shname</th>\n",
       "      <th>target_m</th>\n",
       "    </tr>\n",
       "  </thead>\n",
       "  <tbody>\n",
       "    <tr>\n",
       "      <th>0</th>\n",
       "      <td>000080</td>\n",
       "      <td>20190424</td>\n",
       "      <td>1.0</td>\n",
       "      <td>종       합</td>\n",
       "      <td>421.0</td>\n",
       "      <td>日 불매운동 관련주</td>\n",
       "      <td>하이트진로</td>\n",
       "      <td>201904</td>\n",
       "    </tr>\n",
       "    <tr>\n",
       "      <th>1</th>\n",
       "      <td>000140</td>\n",
       "      <td>20190708</td>\n",
       "      <td>1.0</td>\n",
       "      <td>종       합</td>\n",
       "      <td>421.0</td>\n",
       "      <td>日 불매운동 관련주</td>\n",
       "      <td>하이트진로홀딩스</td>\n",
       "      <td>201907</td>\n",
       "    </tr>\n",
       "    <tr>\n",
       "      <th>2</th>\n",
       "      <td>000140</td>\n",
       "      <td>20190729</td>\n",
       "      <td>1.0</td>\n",
       "      <td>종       합</td>\n",
       "      <td>421.0</td>\n",
       "      <td>日 불매운동 관련주</td>\n",
       "      <td>하이트진로홀딩스</td>\n",
       "      <td>201907</td>\n",
       "    </tr>\n",
       "    <tr>\n",
       "      <th>3</th>\n",
       "      <td>000150</td>\n",
       "      <td>20190416</td>\n",
       "      <td>1.0</td>\n",
       "      <td>종       합</td>\n",
       "      <td>111.0</td>\n",
       "      <td>지주사</td>\n",
       "      <td>두산</td>\n",
       "      <td>201904</td>\n",
       "    </tr>\n",
       "    <tr>\n",
       "      <th>4</th>\n",
       "      <td>000150</td>\n",
       "      <td>20190726</td>\n",
       "      <td>1.0</td>\n",
       "      <td>종       합</td>\n",
       "      <td>111.0</td>\n",
       "      <td>지주사</td>\n",
       "      <td>두산</td>\n",
       "      <td>201907</td>\n",
       "    </tr>\n",
       "  </tbody>\n",
       "</table>\n",
       "</div>"
      ],
      "text/plain": [
       "   shcode target_day  upcode     upname  tmcode      tmname    shname target_m\n",
       "0  000080   20190424     1.0  종       합   421.0  日 불매운동 관련주     하이트진로   201904\n",
       "1  000140   20190708     1.0  종       합   421.0  日 불매운동 관련주  하이트진로홀딩스   201907\n",
       "2  000140   20190729     1.0  종       합   421.0  日 불매운동 관련주  하이트진로홀딩스   201907\n",
       "3  000150   20190416     1.0  종       합   111.0         지주사        두산   201904\n",
       "4  000150   20190726     1.0  종       합   111.0         지주사        두산   201907"
      ]
     },
     "execution_count": 9,
     "metadata": {},
     "output_type": "execute_result"
    }
   ],
   "source": [
    "df.head()"
   ]
  },
  {
   "cell_type": "code",
   "execution_count": 75,
   "metadata": {},
   "outputs": [],
   "source": [
    "c.to_excel(\"1234.xlsx\",encoding = 'ms949')"
   ]
  },
  {
   "cell_type": "code",
   "execution_count": 76,
   "metadata": {},
   "outputs": [],
   "source": [
    "a = query.query_jupo_vol(fin_result['shcode'].iloc[439], fr=fin_result['init_jupo'].iloc[439], to='20191231')\n",
    "a.to_excel(\"1234-1.xlsx\",encoding = 'ms949')"
   ]
  },
  {
   "cell_type": "code",
   "execution_count": 37,
   "metadata": {},
   "outputs": [],
   "source": [
    "b = query.query_finance(fin_result['shcode'].iloc[439])"
   ]
  },
  {
   "cell_type": "code",
   "execution_count": 39,
   "metadata": {},
   "outputs": [
    {
     "data": {
      "text/plain": [
       "Index(['date', 'shcode', 'close', 'volume', 'volume_money', 'high_52',\n",
       "       'high_52_day', 'low_52', 'low_52_day', 'rotate_ratio', 'burn_ratio',\n",
       "       'per', 'total_vol', 'ev_ratio', 'vol_scale', 'market_value'],\n",
       "      dtype='object')"
      ]
     },
     "execution_count": 39,
     "metadata": {},
     "output_type": "execute_result"
    }
   ],
   "source": [
    "b.columns"
   ]
  },
  {
   "cell_type": "code",
   "execution_count": 38,
   "metadata": {},
   "outputs": [
    {
     "data": {
      "text/plain": [
       "0    13905000\n",
       "Name: total_vol, dtype: int32"
      ]
     },
     "execution_count": 38,
     "metadata": {},
     "output_type": "execute_result"
    }
   ],
   "source": [
    "b['total_vol'].astype(int) * 1000"
   ]
  },
  {
   "cell_type": "code",
   "execution_count": null,
   "metadata": {},
   "outputs": [],
   "source": []
  }
 ],
 "metadata": {
  "kernelspec": {
   "display_name": "Python 3",
   "language": "python",
   "name": "python3"
  },
  "language_info": {
   "codemirror_mode": {
    "name": "ipython",
    "version": 3
   },
   "file_extension": ".py",
   "mimetype": "text/x-python",
   "name": "python",
   "nbconvert_exporter": "python",
   "pygments_lexer": "ipython3",
   "version": "3.6.8"
  }
 },
 "nbformat": 4,
 "nbformat_minor": 2
}
